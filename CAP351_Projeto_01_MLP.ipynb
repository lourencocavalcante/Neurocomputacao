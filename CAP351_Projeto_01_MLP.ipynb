{
  "nbformat": 4,
  "nbformat_minor": 0,
  "metadata": {
    "colab": {
      "name": "CAP351_Projeto_01_MLP.ipynb",
      "provenance": [],
      "collapsed_sections": [],
      "authorship_tag": "ABX9TyMLM72xQkCc0gzbr0YTGBNi",
      "include_colab_link": true
    },
    "kernelspec": {
      "name": "python3",
      "display_name": "Python 3"
    },
    "language_info": {
      "name": "python"
    }
  },
  "cells": [
    {
      "cell_type": "markdown",
      "metadata": {
        "id": "view-in-github",
        "colab_type": "text"
      },
      "source": [
        "<a href=\"https://colab.research.google.com/github/lourencocavalcante/Neurocomputacao/blob/main/CAP351_Projeto_01_MLP.ipynb\" target=\"_parent\"><img src=\"https://colab.research.google.com/assets/colab-badge.svg\" alt=\"Open In Colab\"/></a>"
      ]
    },
    {
      "cell_type": "markdown",
      "source": [
        "[<img src=\"https://github.com/lourencocavalcante/LogosINPE/blob/main/logoinpe.png?raw=true\" align=\"middle\">](https://www.gov.br/inpe/pt-br)\n",
        "\n",
        "[<center><img src=\"https://github.com/lourencocavalcante/LogosINPE/blob/main/LogoCAP.png?raw=true\" width = 500 align=\"middle\"></center>](http://www.inpe.br/posgraduacao/cap/)\n",
        "\n",
        "\n",
        "---\n",
        "\n",
        "\n",
        "# **CAP-351 Neurocomputação**\n",
        "\n",
        "**Professor:**\n",
        "\n",
        "* Dr. Marcos Goncalves Quiles\n",
        "\n",
        "**Discente:**\n",
        "* Lourenço José Cavalcante Neto\n",
        "\n",
        "# PROPOSTA DE PROJETO 1:\n",
        "\n",
        "\n",
        "# REDE MLP:: Multi-layer Perceptron (MLP)\n",
        "\n",
        "\n",
        "1. Selecionar dois datasets (não triviais)\n",
        "\n",
        "  * Um dataset para classificação\n",
        "  * Um dataset para regressão\n",
        "  * Separar em treino/validação/teste\n",
        "\n",
        "2. Treinar modelos MLP para os dois problemas\n",
        "\n",
        "3. Considerar:\n",
        "\n",
        "  * Diferentes topologias (>=5 topologias, variar número de\n",
        "camadas)\n",
        "\n",
        "  * Usar o algoritmo original SGD (não usar algoritmos otimizados,\n",
        "e.g. ADAM)\n",
        "  \n",
        "  * Avaliar o impacto do uso do Momentum\n",
        "\n",
        "  * Avaliar o impacto do uso da regularização (i.e. L2)\n",
        "\n",
        "4. Ilustrar graficamente a evolução do treinamento (treino/validação).\n",
        "\n",
        "5. Confeccionar um relatório (reprodutível) contendo os\n",
        "experimentos e resultados"
      ],
      "metadata": {
        "id": "4Uk7l1OnKjYG"
      }
    },
    {
      "cell_type": "code",
      "execution_count": null,
      "metadata": {
        "id": "3jZRmEf4Kha7"
      },
      "outputs": [],
      "source": [
        ""
      ]
    }
  ]
}