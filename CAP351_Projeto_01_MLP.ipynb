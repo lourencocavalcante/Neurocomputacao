{
  "nbformat": 4,
  "nbformat_minor": 0,
  "metadata": {
    "colab": {
      "name": "CAP351_Projeto_01_MLP.ipynb",
      "provenance": [],
      "collapsed_sections": [],
      "machine_shape": "hm",
      "authorship_tag": "ABX9TyMmgHbWybkE9x3mhiOs3ty3",
      "include_colab_link": true
    },
    "kernelspec": {
      "name": "python3",
      "display_name": "Python 3"
    },
    "language_info": {
      "name": "python"
    },
    "accelerator": "GPU",
    "gpuClass": "standard"
  },
  "cells": [
    {
      "cell_type": "markdown",
      "metadata": {
        "id": "view-in-github",
        "colab_type": "text"
      },
      "source": [
        "<a href=\"https://colab.research.google.com/github/lourencocavalcante/Neurocomputacao/blob/main/CAP351_Projeto_01_MLP.ipynb\" target=\"_parent\"><img src=\"https://colab.research.google.com/assets/colab-badge.svg\" alt=\"Open In Colab\"/></a>"
      ]
    },
    {
      "cell_type": "markdown",
      "source": [
        "[<img src=\"https://github.com/lourencocavalcante/LogosINPE/blob/main/logoinpe.png?raw=true\" align=\"middle\">](https://www.gov.br/inpe/pt-br)\n",
        "\n",
        "[<center><img src=\"https://github.com/lourencocavalcante/LogosINPE/blob/main/LogoCAP.png?raw=true\" width = 500 align=\"middle\"></center>](http://www.inpe.br/posgraduacao/cap/)\n",
        "\n",
        "\n",
        "---\n",
        "\n",
        "\n",
        "# **CAP-351 Neurocomputação**\n",
        "\n",
        "**Professor:**\n",
        "\n",
        "* Dr. Marcos Goncalves Quiles\n",
        "\n",
        "**Discente:**\n",
        "* Lourenço José Cavalcante Neto\n",
        "\n",
        "# PROPOSTA DE PROJETO 1:\n",
        "\n",
        "\n",
        "# REDE MLP:: Multi-layer Perceptron (MLP)\n",
        "\n",
        "\n",
        "1. Selecionar dois datasets (não triviais)\n",
        "\n",
        "  * Um dataset para classificação\n",
        "  * Um dataset para regressão\n",
        "  * Separar em treino/validação/teste\n",
        "\n",
        "2. Treinar modelos MLP para os dois problemas\n",
        "\n",
        "3. Considerar:\n",
        "\n",
        "  * Diferentes topologias (>=5 topologias, variar número de\n",
        "camadas)\n",
        "\n",
        "  * Usar o algoritmo original SGD (não usar algoritmos otimizados,\n",
        "e.g. ADAM)\n",
        "  \n",
        "  * Avaliar o impacto do uso do Momentum\n",
        "\n",
        "  * Avaliar o impacto do uso da regularização (i.e. L2)\n",
        "\n",
        "4. Ilustrar graficamente a evolução do treinamento (treino/validação).\n",
        "\n",
        "5. Confeccionar um relatório (reprodutível) contendo os\n",
        "experimentos e resultados"
      ],
      "metadata": {
        "id": "4Uk7l1OnKjYG"
      }
    },
    {
      "cell_type": "code",
      "execution_count": 6,
      "metadata": {
        "id": "3jZRmEf4Kha7",
        "colab": {
          "base_uri": "https://localhost:8080/"
        },
        "outputId": "10198940-9925-4b4f-a482-61b3b1600a7d"
      },
      "outputs": [
        {
          "output_type": "stream",
          "name": "stdout",
          "text": [
            "2.8.2\n"
          ]
        }
      ],
      "source": [
        "import pandas as pd\n",
        "\n",
        "import numpy as np\n",
        "import matplotlib.pyplot as plt\n",
        "from matplotlib.pyplot import figure\n",
        "import math\n",
        "\n",
        "import tensorflow as tf\n",
        "from tensorflow import keras\n",
        "from tensorflow.keras.optimizers import Adam, SGD\n",
        "from tensorflow.keras.layers import Dropout\n",
        "from tensorflow.keras.regularizers import l2\n",
        "\n",
        "from sklearn.model_selection import train_test_split\n",
        "\n",
        "print(tf.__version__)"
      ]
    },
    {
      "cell_type": "code",
      "source": [
        "from google.colab import drive\n",
        "drive.mount('/content/drive')"
      ],
      "metadata": {
        "colab": {
          "base_uri": "https://localhost:8080/"
        },
        "id": "uUNLtcavMCOk",
        "outputId": "d7fac6be-d7b7-40c0-9563-e6aa364be9c1"
      },
      "execution_count": 5,
      "outputs": [
        {
          "output_type": "stream",
          "name": "stdout",
          "text": [
            "Mounted at /content/drive\n"
          ]
        }
      ]
    },
    {
      "cell_type": "markdown",
      "source": [
        "**Dataset**\n",
        "\n",
        "Importando os dados do **disdrômetro RD80 (Joss**) e do radiômetro de microondas **MP3000A**.\n"
      ],
      "metadata": {
        "id": "EyIldOmMMLJ7"
      }
    },
    {
      "cell_type": "code",
      "source": [
        "#CRIANDO OS DATAFRAMES\n",
        "#Dados do disdrômetro RD80. Chamado comumente de Joss. \n",
        "#Este equipamento mede adistribuição das gotas de chuva que chegam à superfície. (df_rd80_joss)\n",
        "df_rd80_joss = pd.read_table('/content/drive/MyDrive/MestradoCAP/Lourenco/cap351/Datasets/JWD_campina_report_RZLwcDmDtNdrop_b2.1_report.txt',header=None,delim_whitespace=True)\n",
        "\n",
        "\n",
        "#Dados do radiômetro de microondas MP3000A. Esse instrumento mede diversas variáveis:\n",
        "\n",
        "#Variáveis de ambiente (dados_ambi_superficie)\n",
        "df_mp3000A_1 = pd.read_table('/content/drive/MyDrive/MestradoCAP/Lourenco/cap351/Datasets/level1_output_sfc.txt',header=None,delim_whitespace=True)\n",
        "#Radiância no espectro de onda do microonda em diversos canais (dados_med_canais_micro)\n",
        "df_mp3000A_2 = pd.read_table('/content/drive/MyDrive/MestradoCAP/Lourenco/cap351/Datasets/level1_output_bt.txt',header=None,delim_whitespace=True)\n",
        "#Estimativas de parâmetros de nuvens (dados_est_param_nuvens)\n",
        "df_mp3000A_3 = pd.read_table('/content/drive/MyDrive/MestradoCAP/Lourenco/cap351/Datasets/level2_output_cld_atto.txt',header=None,delim_whitespace=True)"
      ],
      "metadata": {
        "id": "DEtGyJ2cMvfW"
      },
      "execution_count": 10,
      "outputs": []
    },
    {
      "cell_type": "code",
      "source": [
        "#Os Dataframes estão sem título nas colunas. Vamos adicioná-las.\n",
        "\n",
        "df_rd80_joss.columns = ['Ano (YYYY)', 'Mes', 'dia', 'hora', 'minuto', 'segundos','Rain Intensity (mm/h)', 'radar reflectivity (1/mm6m3)','Liquid watercontent (g/m3)',\n",
        "'Mean weight diameter(mm)', 'Time integration (s)', 'N(D)', 'N(D)', 'N(D)', 'N(D)', 'N(D)', 'N(D)', 'N(D)', 'N(D)', 'N(D)', 'N(D)', 'N(D)', 'N(D)', 'N(D)', 'N(D)', 'N(D)', 'N(D)', 'N(D)', 'N(D)', 'N(D)', 'N(D)']\n",
        "\n",
        "df_mp3000A_1.columns = ['Mes', 'dia', 'Ano (YY)', 'Hora', 'Minuto', 'segundos', 'Tamb(K)', 'Rh(%)', 'Pres(mb)', 'Tir(K)', 'Rain', 'DataQuality']\n",
        "df_mp3000A_2.columns = ['Mes', 'dia', 'Ano (YY)', 'Hora', 'Minuto', 'segundos', 'Ch 22.234', 'Ch 22.500', 'Ch 23.034', 'Ch 23.834', 'Ch 25.000', 'Ch 26.234', 'Ch 28.000', 'Ch 30.000', 'Ch 51.248', 'Ch 51.760', 'Ch 52.280', 'Ch 52.804', 'Ch 53.336', 'Ch 53.848', 'Ch 54.400', 'Ch 54.940', 'Ch 55.500', 'Ch 56.020', 'Ch 56.660', 'Ch 57.288', 'Ch 57.964', 'Ch 58.800', 'DataQuality']\n",
        "df_mp3000A_3.columns = ['Mes', 'dia', 'Ano (YY)', 'Hora', 'Minuto', 'segundos', 'Int. Vapor(cm)','Int. Liquid(mm)','Cloud Base(km)','DataQuality']"
      ],
      "metadata": {
        "id": "-2l0Z-i3OsO7"
      },
      "execution_count": 12,
      "outputs": []
    },
    {
      "cell_type": "code",
      "source": [
        "#Modificanto o tipo de dado das colunas referentes a Data e Horário para Inteiro\n",
        "df_rd80_joss[['Ano (YYYY)', 'Mes', 'dia', 'hora', 'minuto', 'segundos']] = df_rd80_joss[['Ano (YYYY)', 'Mes', 'dia', 'hora', 'minuto', 'segundos']].astype(int)\n",
        "df_mp3000A_3[['Mes', 'dia', 'Ano (YY)', 'Hora', 'Minuto', 'segundos']] = df_mp3000A_3[['Mes', 'dia', 'Ano (YY)', 'Hora', 'Minuto', 'segundos']].astype(int)\n",
        "df_mp3000A_2[['Mes', 'dia', 'Ano (YY)', 'Hora', 'Minuto', 'segundos']] = df_mp3000A_2[['Mes', 'dia', 'Ano (YY)', 'Hora', 'Minuto', 'segundos']].astype(int)\n",
        "df_mp3000A_3[['Mes', 'dia', 'Ano (YY)', 'Hora', 'Minuto', 'segundos']] = df_mp3000A_3[['Mes', 'dia', 'Ano (YY)', 'Hora', 'Minuto', 'segundos']].astype(int)"
      ],
      "metadata": {
        "id": "RCTnKH4LO_Rs"
      },
      "execution_count": 17,
      "outputs": []
    },
    {
      "cell_type": "code",
      "source": [
        "for index, row in df_mp3000A_3.iterrows():\n",
        "    print(len(str(int(row['dia']))))\n",
        "  \n",
        "    df_mp3000A_3.loc[index, 'Data'] = str(int(row['dia'])) + '-' + str(int(row['Mes'])) + '-'+ str(int(row['Ano (YY)']))\n",
        "    df_mp3000A_3.loc[index, 'Horario'] = str(int(row['Hora'])) + ':' + str(int(row['Minuto'])) + ':'+ str(int(row['segundos']))"
      ],
      "metadata": {
        "id": "hQKurP53PDlD"
      },
      "execution_count": null,
      "outputs": []
    }
  ]
}