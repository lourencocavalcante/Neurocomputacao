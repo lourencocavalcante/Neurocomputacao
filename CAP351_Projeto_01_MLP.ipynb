{
  "nbformat": 4,
  "nbformat_minor": 0,
  "metadata": {
    "colab": {
      "name": "CAP351_Projeto_01_MLP.ipynb",
      "provenance": [],
      "collapsed_sections": [],
      "machine_shape": "hm",
      "toc_visible": true,
      "authorship_tag": "ABX9TyMM9NOCvsqHSOGund5WaARS",
      "include_colab_link": true
    },
    "kernelspec": {
      "name": "python3",
      "display_name": "Python 3"
    },
    "language_info": {
      "name": "python"
    },
    "accelerator": "GPU",
    "gpuClass": "standard"
  },
  "cells": [
    {
      "cell_type": "markdown",
      "metadata": {
        "id": "view-in-github",
        "colab_type": "text"
      },
      "source": [
        "<a href=\"https://colab.research.google.com/github/lourencocavalcante/Neurocomputacao/blob/main/CAP351_Projeto_01_MLP.ipynb\" target=\"_parent\"><img src=\"https://colab.research.google.com/assets/colab-badge.svg\" alt=\"Open In Colab\"/></a>"
      ]
    },
    {
      "cell_type": "markdown",
      "source": [
        "[<img src=\"https://github.com/lourencocavalcante/LogosINPE/blob/main/logoinpe.png?raw=true\" width = 500 align=\"left\">](https://www.gov.br/inpe/pt-br)\n",
        "\n",
        "[<img src=\"https://github.com/lourencocavalcante/LogosINPE/blob/main/LogoCAP.png?raw=true\" width = 300 align=\"right\">](http://www.inpe.br/posgraduacao/cap/)"
      ],
      "metadata": {
        "id": "CSLQp4jYNHcB"
      }
    },
    {
      "cell_type": "markdown",
      "source": [
        "# **CAP-351 Neurocomputação**\n",
        "\n",
        "**Professor:**\n",
        "*Dr. Marcos Goncalves Quiles*\n",
        "\n",
        "**Aluno:**\n",
        "*Lourenço José Cavalcante Neto*\n",
        "\n",
        "---\n",
        "\n",
        "**PROPOSTA DE PROJETO 1: Experimentos com a rede Multi-layer Perceptron (MLP)**\n",
        "\n",
        "**Descrição do projeto:**\n",
        "\n",
        "1. Selecionar dois datasets (não triviais): Um dataset para classificação; Um dataset para regressão; Separar em treino/validação/teste.\n",
        "\n",
        "2. Treinar modelos MLP para os dois problemas (**classificação** e **regressão**)\n",
        "\n",
        "3. Considerar:\n",
        "  * Diferentes topologias (>=5 topologias, variar número de\n",
        "camadas)\n",
        "  * Usar o algoritmo original SGD (não usar algoritmos otimizados,\n",
        "e.g. ADAM)\n",
        "  * Avaliar o impacto do uso do Momentum\n",
        "  * Avaliar o impacto do uso da regularização (i.e. L2)\n",
        "\n",
        "4. Ilustrar graficamente a evolução do treinamento (treino/validação).\n",
        "\n",
        "5. Confeccionar um relatório (reprodutível) contendo os\n",
        "experimentos e resados"
      ],
      "metadata": {
        "id": "4Uk7l1OnKjYG"
      }
    },
    {
      "cell_type": "markdown",
      "source": [
        "O presente material pode ser acessado no **github**: "
      ],
      "metadata": {
        "id": "LWDZhfCSKPvX"
      }
    },
    {
      "cell_type": "markdown",
      "source": [
        "# **Bibliotecas/Pacotes**"
      ],
      "metadata": {
        "id": "FxA9_U4DVVcF"
      }
    },
    {
      "cell_type": "code",
      "execution_count": null,
      "metadata": {
        "id": "3jZRmEf4Kha7",
        "colab": {
          "base_uri": "https://localhost:8080/"
        },
        "outputId": "dd3e910c-0398-4a46-b81a-15c9091e68cd"
      },
      "outputs": [
        {
          "output_type": "stream",
          "name": "stdout",
          "text": [
            "Mounted at /content/drive\n",
            "2.8.2\n"
          ]
        }
      ],
      "source": [
        "import pandas as pd\n",
        "\n",
        "import numpy as np\n",
        "import seaborn as sns\n",
        "\n",
        "import matplotlib.pyplot as plt\n",
        "from matplotlib.pyplot import figure\n",
        "import math\n",
        "\n",
        "import tensorflow as tf\n",
        "from tensorflow import keras\n",
        "from tensorflow.keras.optimizers import Adam, SGD\n",
        "from tensorflow.keras.layers import Dropout\n",
        "from tensorflow.keras.regularizers import l2\n",
        "\n",
        "from sklearn.model_selection import train_test_split\n",
        "from sklearn.neural_network import MLPClassifier\n",
        "\n",
        "import datetime\n",
        "\n",
        "from google.colab import drive\n",
        "drive.mount('/content/drive')\n",
        "\n",
        "print(tf.__version__)"
      ]
    },
    {
      "cell_type": "markdown",
      "source": [
        "# **Dataset**\n",
        " \n",
        "Os Dados são de um equipamento chamado **Disdrômetro RD80** (também chamado de **Joss**). Instalado próximo à torre **ATTO**, em um sítio chamado Campina, na região amazônica, o Disdrômetro RD80 mede a distribuição das gotas de chuva que chegam à superfície. No total, o Dataset possui 06 atributos, os são listados abaixo:\n",
        "\n",
        "```\n",
        "Datetime\n",
        "Rain Intensity (mm/h)\n",
        "radar reflectivity (1/mm6m3)\n",
        "Liquid watercontent (g/m3)\n",
        "Mean weight diameter(mm)\n",
        "Time integration (s)\n",
        "```\n",
        "\n",
        "*Ob.: Conforme sugerido/autorizado pelo professor Marcos na aula do dia 11/07, o mesmo Dataset será utilizado para os problemas de Classificação e Regressão.*"
      ],
      "metadata": {
        "id": "EyIldOmMMLJ7"
      }
    },
    {
      "cell_type": "markdown",
      "source": [
        "## **Importação, Formatação, Tratamento e Visualização dos dados**"
      ],
      "metadata": {
        "id": "mKuzj0eJ8bu2"
      }
    },
    {
      "cell_type": "code",
      "source": [
        "#Importando o Dataset e criando o Dataframe\n",
        "df_rd80_full = pd.read_csv(\"/content/drive/MyDrive/MestradoCAP/Lourenco/cap351/Datasets/df_final_rd80_joss.csv\")\n",
        "df_rd80_full = pd.DataFrame(df_rd80_full)\n",
        "\n",
        "#Aqui verificamos o tamanho e quantidade de atributos do Dataset\n",
        "print('Tamanho do dataset: ',df_rd80_full.shape[0], ', quantidade de atributos: ', df_rd80_full.shape[1])"
      ],
      "metadata": {
        "colab": {
          "base_uri": "https://localhost:8080/"
        },
        "id": "Qvv_eiv2Hy7a",
        "outputId": "4fe69f34-c9be-4982-f8ff-46280729fca8"
      },
      "execution_count": 22,
      "outputs": [
        {
          "output_type": "stream",
          "name": "stdout",
          "text": [
            "Tamanho do dataset:  315420 , quantidade de atributos:  6\n"
          ]
        }
      ]
    },
    {
      "cell_type": "markdown",
      "source": [
        "Como podemos ver, o tamanho do nosso Dataset é de 315.420 e isso pode ocasionar um custo computacional muito alto durante os experimentos e testes do Projeto. Sendo assim, será utilizado apenas 1/3 dos dados."
      ],
      "metadata": {
        "id": "qre8VpmUvboU"
      }
    },
    {
      "cell_type": "code",
      "source": [
        "#Definindo uma parte do Dataset para usá-lo neste Projeto\n",
        "limit_date = datetime.datetime(year=2022, month=6,day=1)\n",
        "\n",
        "df_rd80_full = df_rd80_full.set_index('Datetime')\n",
        "\n",
        "df_rd80 = df_rd80_full.loc[df_rd80_full.index >= str(limit_date)]\n",
        "#df_rd80 = df_rd80.loc[df_rd80['Rain Intensity (mm/h)'] > 0]\n",
        "df_rd80.reset_index(inplace=True)\n",
        "\n",
        "print('Tamanho do Dataset que será utilizado: ', df_rd80.shape[0])\n"
      ],
      "metadata": {
        "colab": {
          "base_uri": "https://localhost:8080/"
        },
        "id": "b8QBsVdza6Eh",
        "outputId": "a1366f2a-d6a5-4235-fd3e-d8906a7211af"
      },
      "execution_count": 23,
      "outputs": [
        {
          "output_type": "stream",
          "name": "stdout",
          "text": [
            "Tamanho do Dataset que será utilizado:  36543\n"
          ]
        }
      ]
    },
    {
      "cell_type": "code",
      "source": [
        "#Carregando o Dataset\n",
        "df_rd80.loc[df_rd80['Rain Intensity (mm/h)'] > 0].head()"
      ],
      "metadata": {
        "colab": {
          "base_uri": "https://localhost:8080/",
          "height": 354
        },
        "id": "lNxc5-Vva_tc",
        "outputId": "0e1c170f-68b3-4d4d-ce8b-dfa8f51c7c25"
      },
      "execution_count": 24,
      "outputs": [
        {
          "output_type": "execute_result",
          "data": {
            "text/plain": [
              "                Datetime  Rain Intensity (mm/h)  radar reflectivity (1/mm6m3)  \\\n",
              "893  2022-06-01 14:53:00                0.11484                       5.27305   \n",
              "895  2022-06-01 14:55:00                0.33748                      14.87709   \n",
              "896  2022-06-01 14:56:00                0.35973                      11.24397   \n",
              "897  2022-06-01 14:57:00                0.12421                       3.55973   \n",
              "898  2022-06-01 14:58:00                0.10078                       3.57135   \n",
              "\n",
              "     Liquid watercontent (g/m3)  Mean weight diameter(mm)  \\\n",
              "893                     0.01388                   0.56112   \n",
              "895                     0.04072                   0.56118   \n",
              "896                     0.05092                   0.47933   \n",
              "897                     0.01870                   0.45250   \n",
              "898                     0.01359                   0.50289   \n",
              "\n",
              "     Time integration (s)  \n",
              "893                  60.0  \n",
              "895                  60.0  \n",
              "896                  60.0  \n",
              "897                  60.0  \n",
              "898                  60.0  "
            ],
            "text/html": [
              "\n",
              "  <div id=\"df-c57b1a0c-b519-4fbf-9b20-c46cdac2f224\">\n",
              "    <div class=\"colab-df-container\">\n",
              "      <div>\n",
              "<style scoped>\n",
              "    .dataframe tbody tr th:only-of-type {\n",
              "        vertical-align: middle;\n",
              "    }\n",
              "\n",
              "    .dataframe tbody tr th {\n",
              "        vertical-align: top;\n",
              "    }\n",
              "\n",
              "    .dataframe thead th {\n",
              "        text-align: right;\n",
              "    }\n",
              "</style>\n",
              "<table border=\"1\" class=\"dataframe\">\n",
              "  <thead>\n",
              "    <tr style=\"text-align: right;\">\n",
              "      <th></th>\n",
              "      <th>Datetime</th>\n",
              "      <th>Rain Intensity (mm/h)</th>\n",
              "      <th>radar reflectivity (1/mm6m3)</th>\n",
              "      <th>Liquid watercontent (g/m3)</th>\n",
              "      <th>Mean weight diameter(mm)</th>\n",
              "      <th>Time integration (s)</th>\n",
              "    </tr>\n",
              "  </thead>\n",
              "  <tbody>\n",
              "    <tr>\n",
              "      <th>893</th>\n",
              "      <td>2022-06-01 14:53:00</td>\n",
              "      <td>0.11484</td>\n",
              "      <td>5.27305</td>\n",
              "      <td>0.01388</td>\n",
              "      <td>0.56112</td>\n",
              "      <td>60.0</td>\n",
              "    </tr>\n",
              "    <tr>\n",
              "      <th>895</th>\n",
              "      <td>2022-06-01 14:55:00</td>\n",
              "      <td>0.33748</td>\n",
              "      <td>14.87709</td>\n",
              "      <td>0.04072</td>\n",
              "      <td>0.56118</td>\n",
              "      <td>60.0</td>\n",
              "    </tr>\n",
              "    <tr>\n",
              "      <th>896</th>\n",
              "      <td>2022-06-01 14:56:00</td>\n",
              "      <td>0.35973</td>\n",
              "      <td>11.24397</td>\n",
              "      <td>0.05092</td>\n",
              "      <td>0.47933</td>\n",
              "      <td>60.0</td>\n",
              "    </tr>\n",
              "    <tr>\n",
              "      <th>897</th>\n",
              "      <td>2022-06-01 14:57:00</td>\n",
              "      <td>0.12421</td>\n",
              "      <td>3.55973</td>\n",
              "      <td>0.01870</td>\n",
              "      <td>0.45250</td>\n",
              "      <td>60.0</td>\n",
              "    </tr>\n",
              "    <tr>\n",
              "      <th>898</th>\n",
              "      <td>2022-06-01 14:58:00</td>\n",
              "      <td>0.10078</td>\n",
              "      <td>3.57135</td>\n",
              "      <td>0.01359</td>\n",
              "      <td>0.50289</td>\n",
              "      <td>60.0</td>\n",
              "    </tr>\n",
              "  </tbody>\n",
              "</table>\n",
              "</div>\n",
              "      <button class=\"colab-df-convert\" onclick=\"convertToInteractive('df-c57b1a0c-b519-4fbf-9b20-c46cdac2f224')\"\n",
              "              title=\"Convert this dataframe to an interactive table.\"\n",
              "              style=\"display:none;\">\n",
              "        \n",
              "  <svg xmlns=\"http://www.w3.org/2000/svg\" height=\"24px\"viewBox=\"0 0 24 24\"\n",
              "       width=\"24px\">\n",
              "    <path d=\"M0 0h24v24H0V0z\" fill=\"none\"/>\n",
              "    <path d=\"M18.56 5.44l.94 2.06.94-2.06 2.06-.94-2.06-.94-.94-2.06-.94 2.06-2.06.94zm-11 1L8.5 8.5l.94-2.06 2.06-.94-2.06-.94L8.5 2.5l-.94 2.06-2.06.94zm10 10l.94 2.06.94-2.06 2.06-.94-2.06-.94-.94-2.06-.94 2.06-2.06.94z\"/><path d=\"M17.41 7.96l-1.37-1.37c-.4-.4-.92-.59-1.43-.59-.52 0-1.04.2-1.43.59L10.3 9.45l-7.72 7.72c-.78.78-.78 2.05 0 2.83L4 21.41c.39.39.9.59 1.41.59.51 0 1.02-.2 1.41-.59l7.78-7.78 2.81-2.81c.8-.78.8-2.07 0-2.86zM5.41 20L4 18.59l7.72-7.72 1.47 1.35L5.41 20z\"/>\n",
              "  </svg>\n",
              "      </button>\n",
              "      \n",
              "  <style>\n",
              "    .colab-df-container {\n",
              "      display:flex;\n",
              "      flex-wrap:wrap;\n",
              "      gap: 12px;\n",
              "    }\n",
              "\n",
              "    .colab-df-convert {\n",
              "      background-color: #E8F0FE;\n",
              "      border: none;\n",
              "      border-radius: 50%;\n",
              "      cursor: pointer;\n",
              "      display: none;\n",
              "      fill: #1967D2;\n",
              "      height: 32px;\n",
              "      padding: 0 0 0 0;\n",
              "      width: 32px;\n",
              "    }\n",
              "\n",
              "    .colab-df-convert:hover {\n",
              "      background-color: #E2EBFA;\n",
              "      box-shadow: 0px 1px 2px rgba(60, 64, 67, 0.3), 0px 1px 3px 1px rgba(60, 64, 67, 0.15);\n",
              "      fill: #174EA6;\n",
              "    }\n",
              "\n",
              "    [theme=dark] .colab-df-convert {\n",
              "      background-color: #3B4455;\n",
              "      fill: #D2E3FC;\n",
              "    }\n",
              "\n",
              "    [theme=dark] .colab-df-convert:hover {\n",
              "      background-color: #434B5C;\n",
              "      box-shadow: 0px 1px 3px 1px rgba(0, 0, 0, 0.15);\n",
              "      filter: drop-shadow(0px 1px 2px rgba(0, 0, 0, 0.3));\n",
              "      fill: #FFFFFF;\n",
              "    }\n",
              "  </style>\n",
              "\n",
              "      <script>\n",
              "        const buttonEl =\n",
              "          document.querySelector('#df-c57b1a0c-b519-4fbf-9b20-c46cdac2f224 button.colab-df-convert');\n",
              "        buttonEl.style.display =\n",
              "          google.colab.kernel.accessAllowed ? 'block' : 'none';\n",
              "\n",
              "        async function convertToInteractive(key) {\n",
              "          const element = document.querySelector('#df-c57b1a0c-b519-4fbf-9b20-c46cdac2f224');\n",
              "          const dataTable =\n",
              "            await google.colab.kernel.invokeFunction('convertToInteractive',\n",
              "                                                     [key], {});\n",
              "          if (!dataTable) return;\n",
              "\n",
              "          const docLinkHtml = 'Like what you see? Visit the ' +\n",
              "            '<a target=\"_blank\" href=https://colab.research.google.com/notebooks/data_table.ipynb>data table notebook</a>'\n",
              "            + ' to learn more about interactive tables.';\n",
              "          element.innerHTML = '';\n",
              "          dataTable['output_type'] = 'display_data';\n",
              "          await google.colab.output.renderOutput(dataTable, element);\n",
              "          const docLink = document.createElement('div');\n",
              "          docLink.innerHTML = docLinkHtml;\n",
              "          element.appendChild(docLink);\n",
              "        }\n",
              "      </script>\n",
              "    </div>\n",
              "  </div>\n",
              "  "
            ]
          },
          "metadata": {},
          "execution_count": 24
        }
      ]
    },
    {
      "cell_type": "code",
      "source": [
        "#Normalizando os dados\n",
        "#É necessário assumir que os valores para Rain Intensity (mm/h) que forem menores que 0.1 sejam considerados como 0(zero)\n",
        "df_rd80['Rain Intensity (mm/h)'].loc[df_rd80['Rain Intensity (mm/h)'] < 0.1] = 0"
      ],
      "metadata": {
        "id": "Jsqf8diZMPnj"
      },
      "execution_count": null,
      "outputs": []
    },
    {
      "cell_type": "code",
      "source": [
        "#Visualizando as correlações entre as variáveis\n",
        "corr = df_rd80.corr()\n",
        "plt.figure(figsize=(6, 6))\n",
        "sns.heatmap(corr[(corr >= 0.30) | (corr <= -0.30)],cmap='viridis', vmax=1.0, vmin=-1.0, linewidths=0.1, annot=True, annot_kws={\"size\": 14}, square=True);"
      ],
      "metadata": {
        "colab": {
          "base_uri": "https://localhost:8080/",
          "height": 484
        },
        "id": "v9pz9gxXfHl8",
        "outputId": "873bd76b-f9d3-4ce4-e738-ebc2b7b343f9"
      },
      "execution_count": 26,
      "outputs": [
        {
          "output_type": "display_data",
          "data": {
            "text/plain": [
              "<Figure size 432x432 with 2 Axes>"
            ],
            "image/png": "[encoded data removed]"
          },
          "metadata": {
            "needs_background": "light"
          }
        }
      ]
    },
    {
      "cell_type": "code",
      "source": [
        "figure(figsize=(12,5),dpi=80)\n",
        "plt.scatter(df_rd80['Rain Intensity (mm/h)'] ,df_rd80['Liquid watercontent (g/m3)'],s=2, color='#4682B4')\n",
        "plt.xlabel(r'Teor de água líquida (g/m3)',size=15)\n",
        "plt.ylabel(r'Intensidade da chuva (mm/h)',size=15)\n",
        "plt.title(\"Distribuição das gotas de chuva que chegam à superfície\")\n",
        "plt.plot()"
      ],
      "metadata": {
        "colab": {
          "base_uri": "https://localhost:8080/",
          "height": 409
        },
        "id": "saEqKzsLffw0",
        "outputId": "061ae334-bd80-4016-8f2e-dad6bdfdc2a2"
      },
      "execution_count": 27,
      "outputs": [
        {
          "output_type": "execute_result",
          "data": {
            "text/plain": [
              "[]"
            ]
          },
          "metadata": {},
          "execution_count": 27
        },
        {
          "output_type": "display_data",
          "data": {
            "text/plain": [
              "<Figure size 960x400 with 1 Axes>"
            ],
            "image/png": "[encoded data removed]"
          },
          "metadata": {
            "needs_background": "light"
          }
        }
      ]
    },
    {
      "cell_type": "markdown",
      "source": [
        "Conforme orientações para o projeto, para realizar o treinamento e validação do aprendizado de uma rede **Multi-layer Perceptron (MLP)**, realizou-se a divisão do conjunto de dados em dois grupos: Treino (70%) e Teste (30%). A biblioteca scikit-learn nos auxiliará nesta tarefa. "
      ],
      "metadata": {
        "id": "JKofm2JV_fhO"
      }
    },
    {
      "cell_type": "code",
      "source": [
        "x_train, x_test, y_train, y_test = train_test_split(df_rd80['Rain Intensity (mm/h)'] ,df_rd80['Liquid watercontent (g/m3)'], test_size=0.7)\n",
        "\n",
        "\n",
        "figure(figsize=(12,5),dpi=80)\n",
        "plt.plot(x_train, y_train, '.', color='#FF8C00', label=\"Dados para Treinamento\")\n",
        "plt.plot(x_test, y_test, '.', color='#4682B4', label=\"Dados para Teste\")\n",
        "plt.show()\n",
        "\n",
        "print('Tamanho do dataset para treinamento: ',len(x_train))\n",
        "print('Tamanho do dataset para validação: ',len(x_test))"
      ],
      "metadata": {
        "colab": {
          "base_uri": "https://localhost:8080/",
          "height": 387
        },
        "id": "bG5YkThZy0iH",
        "outputId": "3b3a291c-93bd-4430-fea8-6ccdcbca85b1"
      },
      "execution_count": 37,
      "outputs": [
        {
          "output_type": "display_data",
          "data": {
            "text/plain": [
              "<Figure size 960x400 with 1 Axes>"
            ],
            "image/png": "[encoded data removed]"
          },
          "metadata": {
            "needs_background": "light"
          }
        },
        {
          "output_type": "stream",
          "name": "stdout",
          "text": [
            "Tamanho do dataset para treinamento:  10962\n",
            "Tamanho do dataset para validação:  25581\n"
          ]
        }
      ]
    },
    {
      "cell_type": "markdown",
      "source": [
        "# **PROBLEMA 1: Regressão**\n",
        "Com o objetivo de construir uma rede capaz de encontrar uma lei de regressão para o problema, serão criadas 05(cinco) topologias de rede MLP diferentes. O primeiro caso será um simples e clássico de um perceptron e a partir do segundo será modificado o número de camadas e o número de neurônios."
      ],
      "metadata": {
        "id": "QNWZvm9A3weo"
      }
    },
    {
      "cell_type": "markdown",
      "source": [
        "**Valores para configurações dos Hiperparâmetros do Momentum e Regularização (L2) para avaliar seus impactos**"
      ],
      "metadata": {
        "id": "h8_t5IjCa2c7"
      }
    },
    {
      "cell_type": "code",
      "source": [
        "#Configurações para avaliar o impacto do uso do Momentum e da Regularização (L2)\n",
        "momentum = [0.0, 0.20, 0.40, 0.60]\n",
        "regularizer = [0.0, 0.10, 0.20, 0.30]\n",
        "dropout = [0.0, 0.0, 0.0, 0.0]\n",
        "\n",
        "#Define a quantidade de épocas para o treinamento\n",
        "epochs = 10 "
      ],
      "metadata": {
        "id": "bTNyRN1XaygL"
      },
      "execution_count": null,
      "outputs": []
    },
    {
      "cell_type": "markdown",
      "source": [
        "## **Topologia I**\n",
        "Este primeiro será um caso simples e clássico de um perceptron.\n",
        "\n",
        "\n"
      ],
      "metadata": {
        "id": "v4ViwiUIsO30"
      }
    },
    {
      "cell_type": "markdown",
      "source": [
        "**Criação dos modelos**"
      ],
      "metadata": {
        "id": "Zvgv9bHmshmc"
      }
    },
    {
      "cell_type": "code",
      "source": [
        "#Modelos da Topologia I\n",
        "modelos_tpl_I = []\n",
        "\n",
        "for res in range(0,4):\n",
        "  #print(i)\n",
        "  sgd = tf.keras.optimizers.SGD(learning_rate=0.01, decay=1e-6, momentum=momentum[res])\n",
        "  modelos_tpl_I.append(keras.Sequential())\n",
        "  modelos_tpl_I[res].add(keras.layers.Dense(units=3, kernel_regularizer=l2(regularizer[res]), input_shape=[1], activation=\"tanh\"))\n",
        "  modelos_tpl_I[res].add(keras.layers.Dense(units=1, activation=\"linear\"))\n",
        "  #tf.keras.utils.plot_model(modelos_tpl_I[res], show_shapes=True)\n",
        "  modelos_tpl_I[res].compile(loss='mean_squared_error', optimizer=sgd, metrics=[\"mean_absolute_error\"])"
      ],
      "metadata": {
        "id": "LBi2FXybgOac"
      },
      "execution_count": null,
      "outputs": []
    },
    {
      "cell_type": "markdown",
      "source": [
        "**Agora vamos treinar os Modelos criados**"
      ],
      "metadata": {
        "id": "wcAZYVbYggPl"
      }
    },
    {
      "cell_type": "code",
      "source": [
        "early = tf.keras.callbacks.EarlyStopping(monitor='loss', patience=100)\n",
        "\n",
        "history_modelos_tpl_I = []\n",
        "for res in range(0,4):\n",
        "  history_modelos_tpl_I.append(modelos_tpl_I[res].fit(x_train, y_train, epochs=epochs, batch_size=10, validation_split=0.2, verbose=True)) #callbacks=[early]\n"
      ],
      "metadata": {
        "id": "OoGtBlXvgfzM"
      },
      "execution_count": null,
      "outputs": []
    },
    {
      "cell_type": "markdown",
      "source": [
        "**Resultados do Treinamento**"
      ],
      "metadata": {
        "id": "CovhFhCGpqXT"
      }
    },
    {
      "cell_type": "code",
      "source": [
        "figure(figsize=(18,10),dpi=80)\n",
        "plt.suptitle('TOPOLOGIA I: EVOLUÇÃO DOS TREINAMENTOS', size=14)\n",
        "for res in range(0,4):\n",
        "    plt.subplot(2,2,res+1)\n",
        "    plt.title('Modelo '+ str(res+1) + ': Optimizer(SGD), Regularizer L2('+str(regularizer[res])+'), Momentum('+str(momentum[res])+')')\n",
        "    plt.xlabel(\"Epochs\")\n",
        "    plt.ylabel(\"Loss\")\n",
        "    plt.plot(history_modelos_tpl_I[res].history['loss'], label=\"MLP - Treino\")\n",
        "    plt.plot(history_modelos_tpl_I[res].history['val_loss'], label=\"MLP - Validação\")\n",
        "    plt.legend()\n",
        "plt.show()"
      ],
      "metadata": {
        "id": "TwzvUCVZgpik"
      },
      "execution_count": null,
      "outputs": []
    },
    {
      "cell_type": "markdown",
      "source": [
        "**Avaliação**"
      ],
      "metadata": {
        "id": "vidmUKLLnlHP"
      }
    },
    {
      "cell_type": "code",
      "source": [
        "figure(figsize=(18,10),dpi=80)\n",
        "plt.suptitle('TOPOLOGIA I: AVALIAÇÃO', size=14)\n",
        "\n",
        "for res in range(0,4):\n",
        "\n",
        "  plt.subplot(2,2,res+1)\n",
        "  y_rest = modelos_tpl_I[res].predict(x_train)\n",
        "  plt.plot(x_train, y_train, '.', color='#4682B4')\n",
        "  plt.plot(x_train, y_rest, '.',color='#FF4500')\n",
        "  plt.title('Modelo '+ str(res+1) + ': Optimizer(SGD), Regularizer L2('+str(regularizer[res])+'), Momentum('+str(momentum[res])+')')\n",
        "  plt.xlabel(\"Epochs\")\n",
        "  plt.ylabel(\"Loss\")\n",
        "\n",
        "plt.show()"
      ],
      "metadata": {
        "id": "EEDqJlOKnjiJ"
      },
      "execution_count": null,
      "outputs": []
    },
    {
      "cell_type": "code",
      "source": [
        "figure(figsize=(18,10),dpi=80)\n",
        "plt.suptitle('TOPOLOGIA I: AVALIAÇÃO', size=14)\n",
        "for res in range(0,4):\n",
        "\n",
        "  plt.subplot(2,2,res+1)\n",
        "  y_rest = modelos_tpl_I[res].predict(x_test)\n",
        "  plt.plot(x_test, y_test, '.', color='#4682B4')\n",
        "  plt.plot(x_test, y_rest, '.', markersize=3 ,color='#FF4500')\n",
        "  plt.title('Modelo '+ str(res+1) + ': Optimizer(SGD), Regularizer L2('+str(regularizer[res])+'), Momentum('+str(momentum[res])+')')\n",
        "  plt.xlabel(\"Epochs\")\n",
        "  plt.ylabel(\"Loss\")\n",
        "\n",
        "plt.show()\n",
        "\n",
        "\n",
        "for res in range(0,4):\n",
        "  test_loss = modelos_tpl_I[res].evaluate(x_test, y_test)"
      ],
      "metadata": {
        "id": "iz_dBr1-n2VT"
      },
      "execution_count": null,
      "outputs": []
    },
    {
      "cell_type": "code",
      "source": [
        "score_modelos_tpl_I = []\n",
        "for res in range(0,4): \n",
        "  score_modelos_tpl_I.append(modelos_tpl_I[res].evaluate(x_test, y_test, verbose=0))\n",
        "  print('Topologia I - Modelo '+ str(res+1) + ': Optimizer(SGD), Regularizer L2('+str(regularizer[res])+'), Momentum('+str(momentum[res])+')')\n",
        "  print('Teste loss:',   score_modelos_tpl_I[res][0])\n",
        "  print('Teste métricas:', score_modelos_tpl_I[res][1])\n",
        "  print('----------------------------------------')"
      ],
      "metadata": {
        "id": "J3U7bmmJRxuR"
      },
      "execution_count": null,
      "outputs": []
    },
    {
      "cell_type": "markdown",
      "source": [
        "\n",
        "\n",
        "---\n",
        "\n"
      ],
      "metadata": {
        "id": "obTWRjl18Nr4"
      }
    },
    {
      "cell_type": "markdown",
      "source": [
        "## **Topologia II**"
      ],
      "metadata": {
        "id": "Rw0K8Fm63ymW"
      }
    },
    {
      "cell_type": "markdown",
      "source": [
        "**Criação do Modelos**"
      ],
      "metadata": {
        "id": "Ib7GDXsOn__R"
      }
    },
    {
      "cell_type": "code",
      "source": [
        "#Modelos da Topologia II\n",
        "mdl_tpl_II = []\n",
        "\n",
        "for res in range(0,4):\n",
        "  #print(i)\n",
        "  sgd = tf.keras.optimizers.SGD(learning_rate=0.01, decay=1e-6, momentum=momentum[res])\n",
        "  mdl_tpl_II.append(keras.Sequential())\n",
        "  mdl_tpl_II[res].add(keras.layers.Dense(units=10,  kernel_regularizer=l2(regularizer[res]), input_shape=[1], activation=\"tanh\"))\n",
        "  mdl_tpl_II[res].add(keras.layers.Dense(units=15,  kernel_regularizer=l2(regularizer[res]), activation=\"tanh\"))\n",
        "  mdl_tpl_II[res].add(keras.layers.Dense(units=10,  kernel_regularizer=l2(regularizer[res]), activation=\"tanh\"))\n",
        "  mdl_tpl_II[res].add(keras.layers.Dense(units=5,  kernel_regularizer=l2(regularizer[res]), activation=\"tanh\"))\n",
        "  mdl_tpl_II[res].add(keras.layers.Dense(units=1,  activation=\"linear\"))\n",
        "  #tf.keras.utils.plot_model(mdl_tpl_II[res], show_shapes=True)\n",
        "  mdl_tpl_II[res].compile(loss='mean_squared_error', optimizer=sgd, metrics=[\"mean_absolute_error\"])"
      ],
      "metadata": {
        "id": "C58Lj89kPMsg"
      },
      "execution_count": null,
      "outputs": []
    },
    {
      "cell_type": "markdown",
      "source": [
        "**Agora vamos treinar os Modelos criados**"
      ],
      "metadata": {
        "id": "ochZeag8Ye62"
      }
    },
    {
      "cell_type": "code",
      "source": [
        "early = tf.keras.callbacks.EarlyStopping(monitor='loss', patience=100)\n",
        "\n",
        "history_mdl_tpl_II = []\n",
        "for res in range(0,4):\n",
        "  history_mdl_tpl_II.append(mdl_tpl_II[res].fit(x_train, y_train, epochs=epochs, batch_size=10, validation_split=0.2, verbose=True)) #callbacks=[early]\n"
      ],
      "metadata": {
        "id": "7pYDzqG_Ye63"
      },
      "execution_count": null,
      "outputs": []
    },
    {
      "cell_type": "markdown",
      "source": [
        "**Resultados do Treinamento**"
      ],
      "metadata": {
        "id": "BQO389mxZmeq"
      }
    },
    {
      "cell_type": "code",
      "source": [
        "figure(figsize=(18,10),dpi=80)\n",
        "plt.suptitle('TOPOLOGIA II: EVOLUÇÃO DOS TREINAMENTOS', size=14)\n",
        "for res in range(0,4):\n",
        "    plt.subplot(2,2,res+1)\n",
        "    plt.title('Modelo '+ str(res+1) + ': Optimizer(SGD), Regularizer L2('+str(regularizer[res])+'), Momentum('+str(momentum[res])+')')\n",
        "    plt.xlabel(\"Epochs\")\n",
        "    plt.ylabel(\"Loss\")\n",
        "    plt.plot(history_mdl_tpl_II[res].history['loss'], label=\"MLP - Treino\")\n",
        "    plt.plot(history_mdl_tpl_II[res].history['val_loss'], label=\"MLP - Validação\")\n",
        "    plt.legend()\n",
        "plt.show()"
      ],
      "metadata": {
        "id": "cGk7jJVNZmer"
      },
      "execution_count": null,
      "outputs": []
    },
    {
      "cell_type": "markdown",
      "source": [
        "**Avaliação**"
      ],
      "metadata": {
        "id": "tgcYD1YNZmer"
      }
    },
    {
      "cell_type": "code",
      "source": [
        "figure(figsize=(18,10),dpi=80)\n",
        "plt.suptitle('TOPOLOGIA II: AVALIAÇÃO', size=14)\n",
        "\n",
        "for res in range(0,4):\n",
        "\n",
        "  plt.subplot(2,2,res+1)\n",
        "  y_rest = mdl_tpl_II[res].predict(x_train)\n",
        "  plt.plot(x_train, y_train, '.', color='#4682B4')\n",
        "  plt.plot(x_train, y_rest, '.',color='#FF4500')\n",
        "  plt.title('Modelo '+ str(res+1) + ': Optimizer(SGD), Regularizer L2('+str(regularizer[res])+'), Momentum('+str(momentum[res])+')')\n",
        "  plt.xlabel(\"Epochs\")\n",
        "  plt.ylabel(\"Loss\")\n",
        "\n",
        "plt.show()"
      ],
      "metadata": {
        "id": "1_gfRRGAZmer"
      },
      "execution_count": null,
      "outputs": []
    },
    {
      "cell_type": "code",
      "source": [
        "figure(figsize=(18,10),dpi=80)\n",
        "plt.suptitle('TOPOLOGIA II: AVALIAÇÃO', size=14)\n",
        "for res in range(0,4):\n",
        "\n",
        "  plt.subplot(2,2,res+1)\n",
        "  y_rest = mdl_tpl_II[res].predict(x_test)\n",
        "  plt.plot(x_test, y_test, '.', color='#4682B4')\n",
        "  plt.plot(x_test, y_rest, '.', markersize=3 ,color='#FF4500')\n",
        "  plt.title('Modelo '+ str(res+1) + ': Optimizer(SGD), Regularizer L2('+str(regularizer[res])+'), Momentum('+str(momentum[res])+')')\n",
        "  plt.xlabel(\"Epochs\")\n",
        "  plt.ylabel(\"Loss\")\n",
        "\n",
        "plt.show()\n",
        "\n",
        "\n",
        "for res in range(0,4):\n",
        "  test_loss = mdl_tpl_II[res].evaluate(x_test, y_test)"
      ],
      "metadata": {
        "id": "eELp7CHNZmer"
      },
      "execution_count": null,
      "outputs": []
    },
    {
      "cell_type": "code",
      "source": [
        "score_mdl_tpl_II = []\n",
        "for res in range(0,4): \n",
        "  score_mdl_tpl_II.append(mdl_tpl_II[res].evaluate(x_test, y_test, verbose=0))\n",
        "  print('Topologia II - Modelo '+ str(res+1) + ': Optimizer(SGD), Regularizer L2('+str(regularizer[res])+'), Momentum('+str(momentum[res])+')')\n",
        "  print('Teste loss:',   score_mdl_tpl_II[res][0])\n",
        "  print('Teste métricas:', score_mdl_tpl_II[res][1])\n",
        "  print('----------------------------------------')"
      ],
      "metadata": {
        "id": "TrRIpFB_Zmes"
      },
      "execution_count": null,
      "outputs": []
    },
    {
      "cell_type": "markdown",
      "source": [
        "## **Topologia III**"
      ],
      "metadata": {
        "id": "heRoh2V_X-Rq"
      }
    },
    {
      "cell_type": "markdown",
      "source": [
        "**Criação do Modelos**"
      ],
      "metadata": {
        "id": "kH_7uFCu6_eu"
      }
    },
    {
      "cell_type": "code",
      "source": [
        "#Modelos da Topologia III\n",
        "mdl_tpl_III = []\n",
        "\n",
        "for res in range(0,4):\n",
        "  #print(i)\n",
        "  sgd = tf.keras.optimizers.SGD(learning_rate=0.01, decay=1e-6, momentum=momentum[res])\n",
        "  mdl_tpl_III.append(keras.Sequential())\n",
        "  mdl_tpl_III[res].add(keras.layers.Dense(units=15,  kernel_regularizer=l2(regularizer[res]), input_shape=[1], activation=\"tanh\"))\n",
        "  mdl_tpl_III[res].add(keras.layers.Dense(units=15,  kernel_regularizer=l2(regularizer[res]), activation=\"tanh\"))\n",
        "  mdl_tpl_III[res].add(keras.layers.Dense(units=15,  kernel_regularizer=l2(regularizer[res]), activation=\"tanh\"))\n",
        "  mdl_tpl_III[res].add(keras.layers.Dense(units=10,  kernel_regularizer=l2(regularizer[res]), activation=\"tanh\"))\n",
        "  mdl_tpl_III[res].add(keras.layers.Dense(units=5,  activation=\"tanh\"))\n",
        "  mdl_tpl_III[res].add(keras.layers.Dense(units=1,  activation=\"linear\"))\n",
        "  #tf.keras.utils.plot_model(mdl_tpl_III[res], show_shapes=True)\n",
        "  mdl_tpl_III[res].compile(loss='mean_squared_error', optimizer=sgd, metrics=[\"mean_absolute_error\"])"
      ],
      "metadata": {
        "id": "bBBBbLld6dig"
      },
      "execution_count": null,
      "outputs": []
    },
    {
      "cell_type": "markdown",
      "source": [
        "**Agora vamos treinar os Modelos criados**"
      ],
      "metadata": {
        "id": "qzEcOmHH6dig"
      }
    },
    {
      "cell_type": "code",
      "source": [
        "early = tf.keras.callbacks.EarlyStopping(monitor='loss', patience=100)\n",
        "\n",
        "history_mdl_tpl_III = []\n",
        "for res in range(0,4):\n",
        "  history_mdl_tpl_III.append(mdl_tpl_III[res].fit(x_train, y_train, epochs=epochs, batch_size=10, validation_split=0.2, verbose=True)) #callbacks=[early]\n"
      ],
      "metadata": {
        "id": "mkHY9gx06dig"
      },
      "execution_count": null,
      "outputs": []
    },
    {
      "cell_type": "markdown",
      "source": [
        "**Resultados do Treinamento**"
      ],
      "metadata": {
        "id": "HtoNoXoR6dig"
      }
    },
    {
      "cell_type": "code",
      "source": [
        "figure(figsize=(18,10),dpi=80)\n",
        "plt.suptitle('TOPOLOGIA III: EVOLUÇÃO DOS TREINAMENTOS', size=14)\n",
        "for res in range(0,4):\n",
        "    plt.subplot(2,2,res+1)\n",
        "    plt.title('Modelo '+ str(res+1) + ': Optimizer(SGD), Regularizer L2('+str(regularizer[res])+'), Momentum('+str(momentum[res])+')')\n",
        "    plt.xlabel(\"Epochs\")\n",
        "    plt.ylabel(\"Loss\")\n",
        "    plt.plot(history_mdl_tpl_III[res].history['loss'], label=\"MLP - Treino\")\n",
        "    plt.plot(history_mdl_tpl_III[res].history['val_loss'], label=\"MLP - Validação\")\n",
        "    plt.legend()\n",
        "plt.show()"
      ],
      "metadata": {
        "id": "FvtvMw7t6dih"
      },
      "execution_count": null,
      "outputs": []
    },
    {
      "cell_type": "markdown",
      "source": [
        "**Avaliação**"
      ],
      "metadata": {
        "id": "fZuDPCPu6dih"
      }
    },
    {
      "cell_type": "code",
      "source": [
        "figure(figsize=(18,10),dpi=80)\n",
        "plt.suptitle('TOPOLOGIA III: AVALIAÇÃO', size=14)\n",
        "\n",
        "for res in range(0,4):\n",
        "\n",
        "  plt.subplot(2,2,res+1)\n",
        "  y_rest = mdl_tpl_III[res].predict(x_train)\n",
        "  plt.plot(x_train, y_train, '.', color='#4682B4')\n",
        "  plt.plot(x_train, y_rest, '.',color='#FF4500')\n",
        "  plt.title('Modelo '+ str(res+1) + ': Optimizer(SGD), Regularizer L2('+str(regularizer[res])+'), Momentum('+str(momentum[res])+')')\n",
        "  plt.xlabel(\"Epochs\")\n",
        "  plt.ylabel(\"Loss\")\n",
        "\n",
        "plt.show()"
      ],
      "metadata": {
        "id": "h1DOxEJz6dih"
      },
      "execution_count": null,
      "outputs": []
    },
    {
      "cell_type": "code",
      "source": [
        "figure(figsize=(18,10),dpi=80)\n",
        "plt.suptitle('TOPOLOGIA III: AVALIAÇÃO', size=14)\n",
        "for res in range(0,4):\n",
        "\n",
        "  plt.subplot(2,2,res+1)\n",
        "  y_rest = mdl_tpl_III[res].predict(x_test)\n",
        "  plt.plot(x_test, y_test, '.', color='#4682B4')\n",
        "  plt.plot(x_test, y_rest, '.', markersize=3 ,color='#FF4500')\n",
        "  plt.title('Modelo '+ str(res+1) + ': Optimizer(SGD), Regularizer L2('+str(regularizer[res])+'), Momentum('+str(momentum[res])+')')\n",
        "  plt.xlabel(\"Epochs\")\n",
        "  plt.ylabel(\"Loss\")\n",
        "\n",
        "plt.show()\n",
        "\n",
        "\n",
        "for res in range(0,4):\n",
        "  test_loss = mdl_tpl_III[res].evaluate(x_test, y_test)"
      ],
      "metadata": {
        "id": "25May2fj6dih"
      },
      "execution_count": null,
      "outputs": []
    },
    {
      "cell_type": "code",
      "source": [
        "score_mdl_tpl_III = []\n",
        "for res in range(0,4): \n",
        "  score_mdl_tpl_III.append(mdl_tpl_III[res].evaluate(x_test, y_test, verbose=0))\n",
        "  print('Topologia III - Modelo '+ str(res+1) + ': Optimizer(SGD), Regularizer L2('+str(regularizer[res])+'), Momentum('+str(momentum[res])+')')\n",
        "  print('Teste loss:',   score_mdl_tpl_III[res][0])\n",
        "  print('Teste métricas:', score_mdl_tpl_III[res][1])\n",
        "  print('----------------------------------------')"
      ],
      "metadata": {
        "id": "jPAmRJTF6dii"
      },
      "execution_count": null,
      "outputs": []
    },
    {
      "cell_type": "markdown",
      "source": [
        "\n",
        "\n",
        "---\n",
        "\n"
      ],
      "metadata": {
        "id": "dMQlGi_mGnC0"
      }
    },
    {
      "cell_type": "markdown",
      "source": [
        "## **Topologia IV**"
      ],
      "metadata": {
        "id": "HaGfg7ZeE-VS"
      }
    },
    {
      "cell_type": "markdown",
      "source": [
        "**Criação do Modelos**"
      ],
      "metadata": {
        "id": "sJ-tTv8RE-VT"
      }
    },
    {
      "cell_type": "code",
      "source": [
        "#Modelos da Topologia IV\n",
        "mdl_tpl_IV = []\n",
        "\n",
        "for res in range(0,4):\n",
        "  #print(i)\n",
        "  sgd = tf.keras.optimizers.SGD(learning_rate=0.01, decay=1e-6, momentum=momentum[res])\n",
        "  mdl_tpl_IV.append(keras.Sequential())\n",
        "  mdl_tpl_IV[res].add(keras.layers.Dense(units=20,  kernel_regularizer=l2(regularizer[res]), input_shape=[1], activation=\"tanh\"))\n",
        "  mdl_tpl_IV[res].add(keras.layers.Dense(units=20,  kernel_regularizer=l2(regularizer[res]), activation=\"tanh\"))\n",
        "  mdl_tpl_IV[res].add(keras.layers.Dense(units=20,  kernel_regularizer=l2(regularizer[res]), activation=\"tanh\"))\n",
        "  mdl_tpl_IV[res].add(keras.layers.Dense(units=10,  kernel_regularizer=l2(regularizer[res]), activation=\"tanh\"))\n",
        "  mdl_tpl_IV[res].add(keras.layers.Dense(units=5,  kernel_regularizer=l2(regularizer[res]), activation=\"tanh\"))\n",
        "  mdl_tpl_IV[res].add(keras.layers.Dense(units=1, activation=\"linear\"))\n",
        "  #tf.keras.utils.plot_model(mdl_tpl_IV[res], show_shapes=True)\n",
        "  mdl_tpl_IV[res].compile(loss='mean_squared_error', optimizer=sgd, metrics=[\"mean_absolute_error\"])"
      ],
      "metadata": {
        "id": "aAG1xttsE-VU"
      },
      "execution_count": 14,
      "outputs": []
    },
    {
      "cell_type": "markdown",
      "source": [
        "**Agora vamos treinar os Modelos criados**"
      ],
      "metadata": {
        "id": "059r8QMtE-VV"
      }
    },
    {
      "cell_type": "code",
      "source": [
        "early = tf.keras.callbacks.EarlyStopping(monitor='loss', patience=100)\n",
        "\n",
        "history_mdl_tpl_IV = []\n",
        "for res in range(0,4):\n",
        "  history_mdl_tpl_IV.append(mdl_tpl_IV[res].fit(x_train, y_train, epochs=epochs, batch_size=10, validation_split=0.2, verbose=True)) #callbacks=[early]\n"
      ],
      "metadata": {
        "id": "ANqy9TyfE-VV"
      },
      "execution_count": null,
      "outputs": []
    },
    {
      "cell_type": "markdown",
      "source": [
        "**Resultados do Treinamento**"
      ],
      "metadata": {
        "id": "Mhp6nVzhE-VW"
      }
    },
    {
      "cell_type": "code",
      "source": [
        "figure(figsize=(18,10),dpi=80)\n",
        "plt.suptitle('TOPOLOGIA IV: EVOLUÇÃO DOS TREINAMENTOS', size=14)\n",
        "for res in range(0,4):\n",
        "    plt.subplot(2,2,res+1)\n",
        "    plt.title('Modelo '+ str(res+1) + ': Optimizer(SGD), Regularizer L2('+str(regularizer[res])+'), Momentum('+str(momentum[res])+')')\n",
        "    plt.xlabel(\"Epochs\")\n",
        "    plt.ylabel(\"Loss\")\n",
        "    plt.plot(history_mdl_tpl_IV[res].history['loss'], label=\"MLP - Treino\")\n",
        "    plt.plot(history_mdl_tpl_IV[res].history['val_loss'], label=\"MLP - Validação\")\n",
        "    plt.legend()\n",
        "plt.show()"
      ],
      "metadata": {
        "id": "y2GSR4IdE-VW"
      },
      "execution_count": null,
      "outputs": []
    },
    {
      "cell_type": "markdown",
      "source": [
        "**Avaliação**"
      ],
      "metadata": {
        "id": "RPLnepOrE-VX"
      }
    },
    {
      "cell_type": "code",
      "source": [
        "figure(figsize=(18,10),dpi=80)\n",
        "plt.suptitle('TOPOLOGIA IV: AVALIAÇÃO', size=14)\n",
        "\n",
        "for res in range(0,4):\n",
        "\n",
        "  plt.subplot(2,2,res+1)\n",
        "  y_rest = mdl_tpl_IV[res].predict(x_train)\n",
        "  plt.plot(x_train, y_train, '.', color='#4682B4')\n",
        "  plt.plot(x_train, y_rest, '.',color='#FF4500')\n",
        "  plt.title('Modelo '+ str(res+1) + ': Optimizer(SGD), Regularizer L2('+str(regularizer[res])+'), Momentum('+str(momentum[res])+')')\n",
        "  plt.xlabel(\"Epochs\")\n",
        "  plt.ylabel(\"Loss\")\n",
        "\n",
        "plt.show()"
      ],
      "metadata": {
        "id": "M7VR8TKfE-VX"
      },
      "execution_count": null,
      "outputs": []
    },
    {
      "cell_type": "code",
      "source": [
        "figure(figsize=(18,10),dpi=80)\n",
        "plt.suptitle('TOPOLOGIA IV: AVALIAÇÃO', size=14)\n",
        "for res in range(0,4):\n",
        "\n",
        "  plt.subplot(2,2,res+1)\n",
        "  y_rest = mdl_tpl_IV[res].predict(x_test)\n",
        "  plt.plot(x_test, y_test, '.', color='#4682B4')\n",
        "  plt.plot(x_test, y_rest, '.', markersize=3 ,color='#FF4500')\n",
        "  plt.title('Modelo '+ str(res+1) + ': Optimizer(SGD), Regularizer L2('+str(regularizer[res])+'), Momentum('+str(momentum[res])+')')\n",
        "  plt.xlabel(\"Epochs\")\n",
        "  plt.ylabel(\"Loss\")\n",
        "\n",
        "plt.show()\n",
        "\n",
        "\n",
        "for res in range(0,4):\n",
        "  test_loss = mdl_tpl_IV[res].evaluate(x_test, y_test)"
      ],
      "metadata": {
        "id": "h__QL27KE-VY"
      },
      "execution_count": null,
      "outputs": []
    },
    {
      "cell_type": "code",
      "source": [
        "score_mdl_tpl_IV = []\n",
        "for res in range(0,4): \n",
        "  score_mdl_tpl_IV.append(mdl_tpl_IV[res].evaluate(x_test, y_test, verbose=0))\n",
        "  print('Topologia III - Modelo '+ str(res+1) + ': Optimizer(SGD), Regularizer L2('+str(regularizer[res])+'), Momentum('+str(momentum[res])+')')\n",
        "  print('Teste loss:',   score_mdl_tpl_IV[res][0])\n",
        "  print('Teste métricas:', score_mdl_tpl_IV[res][1])\n",
        "  print('----------------------------------------')"
      ],
      "metadata": {
        "id": "R6oaL8u5E-VY"
      },
      "execution_count": null,
      "outputs": []
    },
    {
      "cell_type": "markdown",
      "source": [
        "## **Topologia V**"
      ],
      "metadata": {
        "id": "GQJY3zPss3rU"
      }
    },
    {
      "cell_type": "markdown",
      "source": [
        "**Criação do Modelos**"
      ],
      "metadata": {
        "id": "SCXA8O1qs3rV"
      }
    },
    {
      "cell_type": "code",
      "source": [
        "#Modelos da Topologia V\n",
        "mdl_tpl_V = []\n",
        "\n",
        "for res in range(0,4):\n",
        "  #print(i)\n",
        "  sgd = tf.keras.optimizers.SGD(learning_rate=0.01, decay=1e-6, momentum=momentum[res])\n",
        "  mdl_tpl_V.append(keras.Sequential())\n",
        "  mdl_tpl_V[res].add(keras.layers.Dense(units=50,  kernel_regularizer=l2(regularizer[res]), input_shape=[1], activation=\"tanh\"))\n",
        "  mdl_tpl_V[res].add(Dropout(dropout[res]))\n",
        "  mdl_tpl_V[res].add(keras.layers.Dense(units=50,  kernel_regularizer=l2(regularizer[res]), activation=\"tanh\"))\n",
        "  mdl_tpl_V[res].add(Dropout(dropout[res]))\n",
        "  mdl_tpl_V[res].add(keras.layers.Dense(units=50,  kernel_regularizer=l2(regularizer[res]), activation=\"tanh\"))\n",
        "  mdl_tpl_V[res].add(Dropout(dropout[res]))\n",
        "  mdl_tpl_V[res].add(keras.layers.Dense(units=40,  kernel_regularizer=l2(regularizer[res]), activation=\"tanh\"))\n",
        "  mdl_tpl_V[res].add(Dropout(dropout[res]))\n",
        "  mdl_tpl_V[res].add(keras.layers.Dense(units=20,  kernel_regularizer=l2(regularizer[res]), activation=\"tanh\"))\n",
        "  mdl_tpl_V[res].add(keras.layers.Dense(units=1, activation=\"linear\"))\n",
        "  #tf.keras.utils.plot_model(mdl_tpl_V[res], show_shapes=True)\n",
        "  mdl_tpl_V[res].compile(loss='mean_squared_error', optimizer=sgd, metrics=[\"mean_absolute_error\"])"
      ],
      "metadata": {
        "id": "d_SUAuGVs3rW"
      },
      "execution_count": null,
      "outputs": []
    },
    {
      "cell_type": "markdown",
      "source": [
        "**Agora vamos treinar os Modelos criados**"
      ],
      "metadata": {
        "id": "dfk1iU1is3rX"
      }
    },
    {
      "cell_type": "code",
      "source": [
        "early = tf.keras.callbacks.EarlyStopping(monitor='loss', patience=100)\n",
        "\n",
        "history_mdl_tpl_V = []\n",
        "for res in range(0,4):\n",
        "  history_mdl_tpl_V.append(mdl_tpl_V[res].fit(x_train, y_train, epochs=epochs, batch_size=10, validation_split=0.2, verbose=True)) #callbacks=[early]\n"
      ],
      "metadata": {
        "id": "dHodAv1As3rX"
      },
      "execution_count": null,
      "outputs": []
    },
    {
      "cell_type": "markdown",
      "source": [
        "**Resultados do Treinamento**"
      ],
      "metadata": {
        "id": "fwsgmROgs3rX"
      }
    },
    {
      "cell_type": "code",
      "source": [
        "figure(figsize=(18,10),dpi=80)\n",
        "plt.suptitle('TOPOLOGIA V: EVOLUÇÃO DOS TREINAMENTOS', size=14)\n",
        "for res in range(0,4):\n",
        "    plt.subplot(2,2,res+1)\n",
        "    plt.title('Modelo '+ str(res+1) + ': Optimizer(SGD), Regularizer L2('+str(regularizer[res])+'), Momentum('+str(momentum[res])+')')\n",
        "    plt.xlabel(\"Epochs\")\n",
        "    plt.ylabel(\"Loss\")\n",
        "    plt.plot(history_mdl_tpl_V[res].history['loss'], label=\"MLP - Treino\")\n",
        "    plt.plot(history_mdl_tpl_V[res].history['val_loss'], label=\"MLP - Validação\")\n",
        "    plt.legend()\n",
        "plt.show()"
      ],
      "metadata": {
        "id": "BLTrX4x4s3rY"
      },
      "execution_count": null,
      "outputs": []
    },
    {
      "cell_type": "markdown",
      "source": [
        "**Avaliação**"
      ],
      "metadata": {
        "id": "Eu2nN3qes3rZ"
      }
    },
    {
      "cell_type": "code",
      "source": [
        "figure(figsize=(18,10),dpi=80)\n",
        "plt.suptitle('TOPOLOGIA V: AVALIAÇÃO', size=14)\n",
        "\n",
        "for res in range(0,4):\n",
        "\n",
        "  plt.subplot(2,2,res+1)\n",
        "  y_rest = mdl_tpl_V[res].predict(x_train)\n",
        "  plt.plot(x_train, y_train, '.', color='#4682B4')\n",
        "  plt.plot(x_train, y_rest, '.',color='#FF4500')\n",
        "  plt.title('Modelo '+ str(res+1) + ': Optimizer(SGD), Regularizer L2('+str(regularizer[res])+'), Momentum('+str(momentum[res])+')')\n",
        "  plt.xlabel(\"Epochs\")\n",
        "  plt.ylabel(\"Loss\")\n",
        "\n",
        "plt.show()"
      ],
      "metadata": {
        "id": "N8K0CBXas3rZ"
      },
      "execution_count": null,
      "outputs": []
    },
    {
      "cell_type": "code",
      "source": [
        "figure(figsize=(18,10),dpi=80)\n",
        "plt.suptitle('TOPOLOGIA V: AVALIAÇÃO', size=14)\n",
        "for res in range(0,4):\n",
        "\n",
        "  plt.subplot(2,2,res+1)\n",
        "  y_rest = mdl_tpl_V[res].predict(x_test)\n",
        "  plt.plot(x_test, y_test, '.', color='#4682B4')\n",
        "  plt.plot(x_test, y_rest, '.', markersize=3 ,color='#FF4500')\n",
        "  plt.title('Modelo '+ str(res+1) + ': Optimizer(SGD), Regularizer L2('+str(regularizer[res])+'), Momentum('+str(momentum[res])+')')\n",
        "  plt.xlabel(\"Epochs\")\n",
        "  plt.ylabel(\"Loss\")\n",
        "\n",
        "plt.show()\n",
        "\n",
        "\n",
        "for res in range(0,4):\n",
        "  test_loss = mdl_tpl_V[res].evaluate(x_test, y_test)"
      ],
      "metadata": {
        "id": "r2i0-F-vs3rc"
      },
      "execution_count": null,
      "outputs": []
    },
    {
      "cell_type": "code",
      "source": [
        "score_mdl_tpl_V = []\n",
        "for res in range(0,4): \n",
        "  score_mdl_tpl_V.append(mdl_tpl_V[res].evaluate(x_test, y_test, verbose=0))\n",
        "  print('Topologia III - Modelo '+ str(res+1) + ': Optimizer(SGD), Regularizer L2('+str(regularizer[res])+'), Momentum('+str(momentum[res])+')')\n",
        "  print('Teste loss:',   score_mdl_tpl_V[res][0])\n",
        "  print('Teste métricas:', score_mdl_tpl_V[res][1])\n",
        "  print('----------------------------------------')"
      ],
      "metadata": {
        "id": "NpGsdJhWs3rd"
      },
      "execution_count": null,
      "outputs": []
    },
    {
      "cell_type": "markdown",
      "source": [
        "# **Problema 2: Classificação**"
      ],
      "metadata": {
        "id": "4rCuKURC35Fs"
      }
    },
    {
      "cell_type": "code",
      "source": [
        "#Vamos coletar apenas uma parte do Dataset para usá-lo neste Projeto\n",
        "'''split_date = datetime.datetime(year=2022, month=6,day=1)\n",
        "\n",
        "df_train_rd80 = df_rd80.loc[df_rd80.index < str(split_date)]\n",
        "df_val_rd80 = df_rd80.loc[df_rd80.index >= str(split_date)]\n",
        "\n",
        "df_train_rd80.reset_index(inplace=True)\n",
        "df_val_rd80.reset_index(inplace=True)\n",
        "\n",
        "print('Shape do treinamento: ', df_train_rd80.shape)\n",
        "print('Shape da validação: ', df_val_rd80.shape)\n",
        "df_train_rd80.head(n=20)'''"
      ],
      "metadata": {
        "colab": {
          "base_uri": "https://localhost:8080/",
          "height": 70
        },
        "id": "_9FTcR2PTiaQ",
        "outputId": "e8a51f39-3786-49a4-ed21-edfd4e285172"
      },
      "execution_count": null,
      "outputs": [
        {
          "output_type": "execute_result",
          "data": {
            "text/plain": [
              "\"split_date = datetime.datetime(year=2022, month=6,day=1)\\n\\ndf_train_rd80 = df_rd80.loc[df_rd80.index < str(split_date)]\\ndf_val_rd80 = df_rd80.loc[df_rd80.index >= str(split_date)]\\n\\ndf_train_rd80.reset_index(inplace=True)\\ndf_val_rd80.reset_index(inplace=True)\\n\\nprint('Shape do treinamento: ', df_train_rd80.shape)\\nprint('Shape da validação: ', df_val_rd80.shape)\\ndf_train_rd80.head(n=20)\""
            ],
            "application/vnd.google.colaboratory.intrinsic+json": {
              "type": "string"
            }
          },
          "metadata": {},
          "execution_count": 260
        }
      ]
    },
    {
      "cell_type": "code",
      "source": [
        "#Visualizando as correlações entre as variáveis\n",
        "corr = df_rd80.corr()\n",
        "plt.figure(figsize=(6, 6))\n",
        "sns.heatmap(corr[(corr >= 0.30) | (corr <= -0.30)],cmap='viridis', vmax=1.0, vmin=-1.0, linewidths=0.1, annot=True, annot_kws={\"size\": 14}, square=True);"
      ],
      "metadata": {
        "colab": {
          "base_uri": "https://localhost:8080/",
          "height": 484
        },
        "id": "2Lmy3vD-8Is-",
        "outputId": "9e0f2c37-dae6-4153-d166-9477d0b35a14"
      },
      "execution_count": null,
      "outputs": [
        {
          "output_type": "display_data",
          "data": {
            "text/plain": [
              "<Figure size 432x432 with 2 Axes>"
            ],
            "image/png": "[encoded data removed]"
          },
          "metadata": {
            "needs_background": "light"
          }
        }
      ]
    }
  ]
}