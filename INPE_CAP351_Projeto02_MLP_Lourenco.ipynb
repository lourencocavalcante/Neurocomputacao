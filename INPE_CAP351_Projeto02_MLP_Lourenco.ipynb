{
  "nbformat": 4,
  "nbformat_minor": 0,
  "metadata": {
    "colab": {
      "name": "INPE_CAP351_Projeto02_MLP_Lourenco.ipynb",
      "provenance": [],
      "authorship_tag": "ABX9TyNDZhEeQL2XWjfZoABPLAA5",
      "include_colab_link": true
    },
    "kernelspec": {
      "name": "python3",
      "display_name": "Python 3"
    },
    "language_info": {
      "name": "python"
    }
  },
  "cells": [
    {
      "cell_type": "markdown",
      "metadata": {
        "id": "view-in-github",
        "colab_type": "text"
      },
      "source": [
        "<a href=\"https://colab.research.google.com/github/lourencocavalcante/Neurocomputacao/blob/main/INPE_CAP351_Projeto02_MLP_Lourenco.ipynb\" target=\"_parent\"><img src=\"https://colab.research.google.com/assets/colab-badge.svg\" alt=\"Open In Colab\"/></a>"
      ]
    },
    {
      "cell_type": "code",
      "execution_count": null,
      "metadata": {
        "id": "8ImbIVR06pZr"
      },
      "outputs": [],
      "source": [
        ""
      ]
    },
    {
      "cell_type": "markdown",
      "source": [
        "# **Introdução**\n",
        "\n",
        "Aprendizado Não Supervisionado são modelos de Machine Learnig que possuem poucos ou nenhum dado histórico para se basear e conseguir prever os resultados, eles não necessitam de um conjunto de dados que digam quais são as variáveis de saídas corretas, para modelar um algoritmo preditivo. Esses modelos conseguem criar estruturas de dados com base em relações entre as variáveis ou detectar algumas tendências.\n",
        "\n",
        "No presente notebook contém diversos experimentos e testes com a rede Multi-layer Perceptron (MLP). Foi selecionado um datasets (não trivial) no qual foi divido em treino, validação e teste, e utilizado para treino de modelos MLP em dois problemas: classificação e regressão. Os Dados são de um equipamento chamado **Disdrômetro RD80** (também chamado de **Joss**). Instalado próximo à torre **ATTO**, em um sítio chamado Campina, na região Amazônica. O disdrômetro RD80 mede a distribuição das gotas de chuva que chegam à superfície.\n",
        "\n",
        "Foram criadas 5 topologias diferentes, variando o número de camadas. O algoritmo utilizado foi SGD, e foram aplicadas diferentes hyperparâmetros afim de avaliar o impacto do uso do Momentum e da Regularização (L2).\n",
        "\n",
        "Este notebook pode ser acessado no **github**: https://github.com/lourencocavalcante/Neurocomputacao.git"
      ],
      "metadata": {
        "id": "UTePmjPO0HTy"
      }
    },
    {
      "cell_type": "markdown",
      "source": [
        "# **Bibliotecas/Pacotes**"
      ],
      "metadata": {
        "id": "FxA9_U4DVVcF"
      }
    },
    {
      "cell_type": "code",
      "source": [
        "!pip install minisom"
      ],
      "metadata": {
        "colab": {
          "base_uri": "https://localhost:8080/"
        },
        "id": "ee1HSwiWw6VV",
        "outputId": "7e4a444d-6371-4682-ebc0-67e257afc483"
      },
      "execution_count": 2,
      "outputs": [
        {
          "output_type": "stream",
          "name": "stdout",
          "text": [
            "Looking in indexes: https://pypi.org/simple, https://us-python.pkg.dev/colab-wheels/public/simple/\n",
            "Collecting minisom\n",
            "  Downloading MiniSom-2.3.0.tar.gz (8.8 kB)\n",
            "Building wheels for collected packages: minisom\n",
            "  Building wheel for minisom (setup.py) ... \u001b[?25l\u001b[?25hdone\n",
            "  Created wheel for minisom: filename=MiniSom-2.3.0-py3-none-any.whl size=9018 sha256=c1e6629687eba3728230158a6e8c6dbb77fa537d0bba48cd628bbff60050a703\n",
            "  Stored in directory: /root/.cache/pip/wheels/d4/ca/4a/488772b0399fec45ff53132ed14c948dec4b30deee3a532f80\n",
            "Successfully built minisom\n",
            "Installing collected packages: minisom\n",
            "Successfully installed minisom-2.3.0\n"
          ]
        }
      ]
    },
    {
      "cell_type": "code",
      "execution_count": 3,
      "metadata": {
        "id": "3jZRmEf4Kha7",
        "colab": {
          "base_uri": "https://localhost:8080/"
        },
        "outputId": "19d276a5-4333-4908-b86d-4879727bc94b"
      },
      "outputs": [
        {
          "output_type": "stream",
          "name": "stdout",
          "text": [
            "Mounted at /content/drive\n"
          ]
        }
      ],
      "source": [
        "from minisom import MiniSom\n",
        "\n",
        "from sklearn.model_selection import train_test_split\n",
        "from sklearn.metrics import classification_report\n",
        "\n",
        "import pandas as pd\n",
        "import numpy as np\n",
        "import seaborn as sns\n",
        "import matplotlib.pyplot as plt\n",
        "from matplotlib.gridspec import GridSpec\n",
        "\n",
        "from sklearn.preprocessing import StandardScaler\n",
        "from sklearn.cluster import KMeans\n",
        "from sklearn.cluster import AgglomerativeClustering\n",
        "from sklearn.datasets import make_blobs\n",
        "from sklearn.manifold import TSNE\n",
        "\n",
        "from scipy.cluster.hierarchy import dendrogram\n",
        "from scipy.cluster.hierarchy import linkage\n",
        "\n",
        "import datetime\n",
        "import time\n",
        "\n",
        "from google.colab import drive\n",
        "drive.mount('/content/drive')\n",
        "\n",
        "#print(tf.__version__)"
      ]
    },
    {
      "cell_type": "markdown",
      "source": [
        "# **Dataset**\n",
        " \n",
        "Os Dados são de um equipamento chamado **Disdrômetro RD80** (também chamado de **Joss**). Instalado próximo à torre **ATTO**, em um sítio chamado Campina, na região amazônica, o Disdrômetro RD80 mede a distribuição das gotas de chuva que chegam à superfície."
      ],
      "metadata": {
        "id": "EyIldOmMMLJ7"
      }
    },
    {
      "cell_type": "markdown",
      "source": [
        "## **Importação, Formatação, Tratamento e Visualização dos dados**"
      ],
      "metadata": {
        "id": "mKuzj0eJ8bu2"
      }
    },
    {
      "cell_type": "code",
      "source": [
        "#Importando dos dados\n",
        "df_rd80_dataset = pd.read_csv(\"/content/drive/MyDrive/MestradoCAP/Lourenco/cap351/Datasets/Proj2/df_class_rd80.csv\")\n",
        "df_rd80_dataset = pd.DataFrame(df_rd80_dataset)\n",
        "\n",
        "#Aqui verificamos o tamanho e quantidade de atributos do Dataset\n",
        "print('Tamanho do dataset: ',df_rd80_dataset.shape[0], ', quantidade de atributos: ', df_rd80_dataset.shape[1])"
      ],
      "metadata": {
        "colab": {
          "base_uri": "https://localhost:8080/"
        },
        "id": "noopX0HYu-Gb",
        "outputId": "a539c9c8-3358-4c71-f84e-3bc13d66a10b"
      },
      "execution_count": 6,
      "outputs": [
        {
          "output_type": "stream",
          "name": "stdout",
          "text": [
            "Tamanho do dataset:  315420 , quantidade de atributos:  13\n"
          ]
        }
      ]
    },
    {
      "cell_type": "code",
      "source": [
        "print(df_rd80_dataset.dtypes)"
      ],
      "metadata": {
        "colab": {
          "base_uri": "https://localhost:8080/"
        },
        "id": "RSgQa75I1ipJ",
        "outputId": "0b289aa5-2035-450a-da92-b73990995fdb"
      },
      "execution_count": 7,
      "outputs": [
        {
          "output_type": "stream",
          "name": "stdout",
          "text": [
            "Datetime                         object\n",
            "Rain Intensity (mm/h)           float64\n",
            "radar reflectivity (1/mm6m3)    float64\n",
            "Liquid watercontent (g/m3)      float64\n",
            "Mean weight diameter(mm)        float64\n",
            "Time integration (s)            float64\n",
            "Light_Rain                        int64\n",
            "Moderate_Rain                     int64\n",
            "Heavy_Rain                        int64\n",
            "Very_Heavy_Rain                   int64\n",
            "Without_Rain                      int64\n",
            "Class_Rain_id                     int64\n",
            "Class_Rain                       object\n",
            "dtype: object\n"
          ]
        }
      ]
    },
    {
      "cell_type": "code",
      "source": [
        "df_rd80_dataset = df_rd80_dataset.set_index('Datetime')"
      ],
      "metadata": {
        "id": "Rc4ytwSRhnOJ"
      },
      "execution_count": 8,
      "outputs": []
    },
    {
      "cell_type": "code",
      "source": [
        "df_rd80_dataset.isna().sum()"
      ],
      "metadata": {
        "id": "l2-Lb5GiRwdx",
        "colab": {
          "base_uri": "https://localhost:8080/"
        },
        "outputId": "6c2da97c-dc19-4e7f-9de2-193910d68f23"
      },
      "execution_count": 9,
      "outputs": [
        {
          "output_type": "execute_result",
          "data": {
            "text/plain": [
              "Rain Intensity (mm/h)           0\n",
              "radar reflectivity (1/mm6m3)    0\n",
              "Liquid watercontent (g/m3)      0\n",
              "Mean weight diameter(mm)        0\n",
              "Time integration (s)            0\n",
              "Light_Rain                      0\n",
              "Moderate_Rain                   0\n",
              "Heavy_Rain                      0\n",
              "Very_Heavy_Rain                 0\n",
              "Without_Rain                    0\n",
              "Class_Rain_id                   0\n",
              "Class_Rain                      0\n",
              "dtype: int64"
            ]
          },
          "metadata": {},
          "execution_count": 9
        }
      ]
    }
  ]
}