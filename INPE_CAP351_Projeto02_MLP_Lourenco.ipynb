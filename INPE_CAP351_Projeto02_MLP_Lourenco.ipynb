{
  "nbformat": 4,
  "nbformat_minor": 0,
  "metadata": {
    "colab": {
      "name": "INPE_CAP351_Projeto02_MLP_Lourenco.ipynb",
      "provenance": [],
      "authorship_tag": "ABX9TyOGJtXHxtBHGTZcp+27eqvk",
      "include_colab_link": true
    },
    "kernelspec": {
      "name": "python3",
      "display_name": "Python 3"
    },
    "language_info": {
      "name": "python"
    }
  },
  "cells": [
    {
      "cell_type": "markdown",
      "metadata": {
        "id": "view-in-github",
        "colab_type": "text"
      },
      "source": [
        "<a href=\"https://colab.research.google.com/github/lourencocavalcante/Neurocomputacao/blob/main/INPE_CAP351_Projeto02_MLP_Lourenco.ipynb\" target=\"_parent\"><img src=\"https://colab.research.google.com/assets/colab-badge.svg\" alt=\"Open In Colab\"/></a>"
      ]
    },
    {
      "cell_type": "markdown",
      "source": [
        "[<img src=\"https://github.com/lourencocavalcante/LogosINPE/blob/main/logoinpe.png?raw=true\" width = 500 align=\"left\">](https://www.gov.br/inpe/pt-br)\n",
        "\n",
        "[<img src=\"https://github.com/lourencocavalcante/LogosINPE/blob/main/LogoCAP.png?raw=true\" width = 300 align=\"right\">](http://www.inpe.br/posgraduacao/cap/)"
      ],
      "metadata": {
        "id": "OCGrfcaNk9Ju"
      }
    },
    {
      "cell_type": "markdown",
      "source": [
        "# **CAP-351 Neurocomputação**\n",
        "\n",
        "**Professor:**\n",
        "*Dr. Marcos Goncalves Quiles*\n",
        "\n",
        "**Aluno:**\n",
        "*Lourenço José Cavalcante Neto*\n",
        "\n",
        "---\n",
        "\n",
        "**PROPOSTA DE PROJETO 2: Aprendizado Não Supervisionado**\n",
        "\n",
        "**Descrição do projeto:**\n",
        "\n",
        "1. Selecionar 02 (dois) datasets;\n",
        "\n",
        "2. Aplicar um modelo neural não supervisionado;\n",
        "\n",
        "3. Avaliar os padrões detectados em cada conjunto:\n",
        "  * Clusters / outliers, etc.\n",
        "\n",
        "4. Avaliar a homogeneidade dos agrupamentos;\n",
        "\n",
        "5. Variar os parâmetros do modelo (grid, taxas, número\n",
        "de neurônios, etc.)."
      ],
      "metadata": {
        "id": "88RwBLoykL2t"
      }
    },
    {
      "cell_type": "markdown",
      "source": [
        "# **Introdução**\n",
        "\n",
        "Aprendizado Não Supervisionado são modelos de Machine Learnig que possuem poucos ou nenhum dado histórico para se basear e conseguir prever os resultados, eles não necessitam de um conjunto de dados que digam quais são as variáveis de saídas corretas, para modelar um algoritmo preditivo. Esses modelos conseguem criar estruturas de dados com base em relações entre as variáveis ou detectar algumas tendências.\n",
        "\n",
        "No presente notebook contém experimentos e testes plicados em um modelo neural não supervisionado. Foi selecionado 01(um) Dataset (não trivial). Os Dados são de um equipamento chamado **Disdrômetro RD80** (também chamado de **Joss**). Instalado próximo à torre **ATTO**, em um sítio chamado Campina, na região Amazônica. O disdrômetro RD80 mede a distribuição das gotas de chuva que chegam à superfície.\n",
        "\n",
        "Este notebook pode ser acessado no **github**: https://github.com/lourencocavalcante/Neurocomputacao.git"
      ],
      "metadata": {
        "id": "UTePmjPO0HTy"
      }
    },
    {
      "cell_type": "markdown",
      "source": [
        "# **Bibliotecas/Pacotes**"
      ],
      "metadata": {
        "id": "FxA9_U4DVVcF"
      }
    },
    {
      "cell_type": "code",
      "source": [
        "!pip install minisom"
      ],
      "metadata": {
        "id": "ee1HSwiWw6VV"
      },
      "execution_count": null,
      "outputs": []
    },
    {
      "cell_type": "code",
      "execution_count": 206,
      "metadata": {
        "id": "3jZRmEf4Kha7",
        "colab": {
          "base_uri": "https://localhost:8080/"
        },
        "outputId": "e951d926-dac9-4c3c-f687-67fa8b984ba8"
      },
      "outputs": [
        {
          "output_type": "stream",
          "name": "stdout",
          "text": [
            "Drive already mounted at /content/drive; to attempt to forcibly remount, call drive.mount(\"/content/drive\", force_remount=True).\n"
          ]
        }
      ],
      "source": [
        "import numpy as np\n",
        "\n",
        "import pandas as pd\n",
        "\n",
        "import matplotlib.pyplot as plt\n",
        "import seaborn\n",
        "\n",
        "from minisom import MiniSom\n",
        "from sklearn.cluster import KMeans\n",
        "\n",
        "from sklearn.model_selection import train_test_split\n",
        "from sklearn.metrics import classification_report\n",
        "\n",
        "from sklearn.preprocessing import scale\n",
        "from sklearn.preprocessing import LabelEncoder\n",
        "from sklearn.preprocessing import StandardScaler\n",
        "from sklearn.model_selection import train_test_split\n",
        "from sklearn.neighbors import KNeighborsClassifier\n",
        "from sklearn.metrics import confusion_matrix\n",
        "from sklearn.metrics import accuracy_score\n",
        "from sklearn.manifold import TSNE\n",
        "\n",
        "from mlxtend.plotting import plot_confusion_matrix\n",
        "from sklearn.ensemble import IsolationForest\n",
        "seaborn.set()\n",
        "\n",
        "from google.colab import drive\n",
        "drive.mount('/content/drive')\n",
        "\n",
        "#print(tf.__version__)"
      ]
    },
    {
      "cell_type": "markdown",
      "source": [
        "# **Dataset**\n",
        " \n",
        "Os Dados são de um equipamento chamado **Disdrômetro RD80** (também chamado de **Joss**). Instalado próximo à torre **ATTO**, em um sítio chamado Campina, na região amazônica, o Disdrômetro RD80 mede a distribuição das gotas de chuva que chegam à superfície."
      ],
      "metadata": {
        "id": "EyIldOmMMLJ7"
      }
    },
    {
      "cell_type": "markdown",
      "source": [
        "## **Importação, Formatação, Tratamento e Visualização dos dados**"
      ],
      "metadata": {
        "id": "mKuzj0eJ8bu2"
      }
    },
    {
      "cell_type": "code",
      "source": [
        "#Importando dos dados\n",
        "df_rd80_dataset = pd.read_csv(\"/content/drive/MyDrive/MestradoCAP/Lourenco/cap351/Datasets/Proj2/df_class_rd80.csv\")\n",
        "df_rd80_dataset = pd.DataFrame(df_rd80_dataset)\n",
        "\n",
        "#Aqui verificamos o tamanho e quantidade de atributos do Dataset\n",
        "print('Tamanho do dataset: ',df_rd80_dataset.shape[0], ', quantidade de atributos: ', df_rd80_dataset.shape[1])"
      ],
      "metadata": {
        "colab": {
          "base_uri": "https://localhost:8080/"
        },
        "id": "noopX0HYu-Gb",
        "outputId": "96b8a742-33d7-4282-edba-e7eb7d6cad7b"
      },
      "execution_count": 197,
      "outputs": [
        {
          "output_type": "stream",
          "name": "stdout",
          "text": [
            "Tamanho do dataset:  315420 , quantidade de atributos:  13\n"
          ]
        }
      ]
    },
    {
      "cell_type": "code",
      "source": [
        "df_rd80_dataset[['Rain Intensity (mm/h)', 'radar reflectivity (1/mm6m3)',\n",
        "       'Liquid watercontent (g/m3)', 'Mean weight diameter(mm)',\n",
        "       'Time integration (s)', 'Class_Rain_id', 'Class_Rain']].head(n=10)"
      ],
      "metadata": {
        "colab": {
          "base_uri": "https://localhost:8080/",
          "height": 363
        },
        "id": "o2KznSQ14QNe",
        "outputId": "62e23237-2f57-408e-fef4-20fc6aa28987"
      },
      "execution_count": 198,
      "outputs": [
        {
          "output_type": "execute_result",
          "data": {
            "text/plain": [
              "   Rain Intensity (mm/h)  radar reflectivity (1/mm6m3)  \\\n",
              "0                    0.0                           0.0   \n",
              "1                    0.0                           0.0   \n",
              "2                    0.0                           0.0   \n",
              "3                    0.0                           0.0   \n",
              "4                    0.0                           0.0   \n",
              "5                    0.0                           0.0   \n",
              "6                    0.0                           0.0   \n",
              "7                    0.0                           0.0   \n",
              "8                    0.0                           0.0   \n",
              "9                    0.0                           0.0   \n",
              "\n",
              "   Liquid watercontent (g/m3)  Mean weight diameter(mm)  Time integration (s)  \\\n",
              "0                         0.0                       0.0                  60.0   \n",
              "1                         0.0                       0.0                  60.0   \n",
              "2                         0.0                       0.0                  60.0   \n",
              "3                         0.0                       0.0                  60.0   \n",
              "4                         0.0                       0.0                  60.0   \n",
              "5                         0.0                       0.0                  60.0   \n",
              "6                         0.0                       0.0                  60.0   \n",
              "7                         0.0                       0.0                  60.0   \n",
              "8                         0.0                       0.0                  60.0   \n",
              "9                         0.0                       0.0                  60.0   \n",
              "\n",
              "   Class_Rain_id  Class_Rain  \n",
              "0              0  Não choveu  \n",
              "1              0  Não choveu  \n",
              "2              0  Não choveu  \n",
              "3              0  Não choveu  \n",
              "4              0  Não choveu  \n",
              "5              0  Não choveu  \n",
              "6              0  Não choveu  \n",
              "7              0  Não choveu  \n",
              "8              0  Não choveu  \n",
              "9              0  Não choveu  "
            ],
            "text/html": [
              "\n",
              "  <div id=\"df-3fc9fee0-067b-47e4-9aa5-297b2123d82c\">\n",
              "    <div class=\"colab-df-container\">\n",
              "      <div>\n",
              "<style scoped>\n",
              "    .dataframe tbody tr th:only-of-type {\n",
              "        vertical-align: middle;\n",
              "    }\n",
              "\n",
              "    .dataframe tbody tr th {\n",
              "        vertical-align: top;\n",
              "    }\n",
              "\n",
              "    .dataframe thead th {\n",
              "        text-align: right;\n",
              "    }\n",
              "</style>\n",
              "<table border=\"1\" class=\"dataframe\">\n",
              "  <thead>\n",
              "    <tr style=\"text-align: right;\">\n",
              "      <th></th>\n",
              "      <th>Rain Intensity (mm/h)</th>\n",
              "      <th>radar reflectivity (1/mm6m3)</th>\n",
              "      <th>Liquid watercontent (g/m3)</th>\n",
              "      <th>Mean weight diameter(mm)</th>\n",
              "      <th>Time integration (s)</th>\n",
              "      <th>Class_Rain_id</th>\n",
              "      <th>Class_Rain</th>\n",
              "    </tr>\n",
              "  </thead>\n",
              "  <tbody>\n",
              "    <tr>\n",
              "      <th>0</th>\n",
              "      <td>0.0</td>\n",
              "      <td>0.0</td>\n",
              "      <td>0.0</td>\n",
              "      <td>0.0</td>\n",
              "      <td>60.0</td>\n",
              "      <td>0</td>\n",
              "      <td>Não choveu</td>\n",
              "    </tr>\n",
              "    <tr>\n",
              "      <th>1</th>\n",
              "      <td>0.0</td>\n",
              "      <td>0.0</td>\n",
              "      <td>0.0</td>\n",
              "      <td>0.0</td>\n",
              "      <td>60.0</td>\n",
              "      <td>0</td>\n",
              "      <td>Não choveu</td>\n",
              "    </tr>\n",
              "    <tr>\n",
              "      <th>2</th>\n",
              "      <td>0.0</td>\n",
              "      <td>0.0</td>\n",
              "      <td>0.0</td>\n",
              "      <td>0.0</td>\n",
              "      <td>60.0</td>\n",
              "      <td>0</td>\n",
              "      <td>Não choveu</td>\n",
              "    </tr>\n",
              "    <tr>\n",
              "      <th>3</th>\n",
              "      <td>0.0</td>\n",
              "      <td>0.0</td>\n",
              "      <td>0.0</td>\n",
              "      <td>0.0</td>\n",
              "      <td>60.0</td>\n",
              "      <td>0</td>\n",
              "      <td>Não choveu</td>\n",
              "    </tr>\n",
              "    <tr>\n",
              "      <th>4</th>\n",
              "      <td>0.0</td>\n",
              "      <td>0.0</td>\n",
              "      <td>0.0</td>\n",
              "      <td>0.0</td>\n",
              "      <td>60.0</td>\n",
              "      <td>0</td>\n",
              "      <td>Não choveu</td>\n",
              "    </tr>\n",
              "    <tr>\n",
              "      <th>5</th>\n",
              "      <td>0.0</td>\n",
              "      <td>0.0</td>\n",
              "      <td>0.0</td>\n",
              "      <td>0.0</td>\n",
              "      <td>60.0</td>\n",
              "      <td>0</td>\n",
              "      <td>Não choveu</td>\n",
              "    </tr>\n",
              "    <tr>\n",
              "      <th>6</th>\n",
              "      <td>0.0</td>\n",
              "      <td>0.0</td>\n",
              "      <td>0.0</td>\n",
              "      <td>0.0</td>\n",
              "      <td>60.0</td>\n",
              "      <td>0</td>\n",
              "      <td>Não choveu</td>\n",
              "    </tr>\n",
              "    <tr>\n",
              "      <th>7</th>\n",
              "      <td>0.0</td>\n",
              "      <td>0.0</td>\n",
              "      <td>0.0</td>\n",
              "      <td>0.0</td>\n",
              "      <td>60.0</td>\n",
              "      <td>0</td>\n",
              "      <td>Não choveu</td>\n",
              "    </tr>\n",
              "    <tr>\n",
              "      <th>8</th>\n",
              "      <td>0.0</td>\n",
              "      <td>0.0</td>\n",
              "      <td>0.0</td>\n",
              "      <td>0.0</td>\n",
              "      <td>60.0</td>\n",
              "      <td>0</td>\n",
              "      <td>Não choveu</td>\n",
              "    </tr>\n",
              "    <tr>\n",
              "      <th>9</th>\n",
              "      <td>0.0</td>\n",
              "      <td>0.0</td>\n",
              "      <td>0.0</td>\n",
              "      <td>0.0</td>\n",
              "      <td>60.0</td>\n",
              "      <td>0</td>\n",
              "      <td>Não choveu</td>\n",
              "    </tr>\n",
              "  </tbody>\n",
              "</table>\n",
              "</div>\n",
              "      <button class=\"colab-df-convert\" onclick=\"convertToInteractive('df-3fc9fee0-067b-47e4-9aa5-297b2123d82c')\"\n",
              "              title=\"Convert this dataframe to an interactive table.\"\n",
              "              style=\"display:none;\">\n",
              "        \n",
              "  <svg xmlns=\"http://www.w3.org/2000/svg\" height=\"24px\"viewBox=\"0 0 24 24\"\n",
              "       width=\"24px\">\n",
              "    <path d=\"M0 0h24v24H0V0z\" fill=\"none\"/>\n",
              "    <path d=\"M18.56 5.44l.94 2.06.94-2.06 2.06-.94-2.06-.94-.94-2.06-.94 2.06-2.06.94zm-11 1L8.5 8.5l.94-2.06 2.06-.94-2.06-.94L8.5 2.5l-.94 2.06-2.06.94zm10 10l.94 2.06.94-2.06 2.06-.94-2.06-.94-.94-2.06-.94 2.06-2.06.94z\"/><path d=\"M17.41 7.96l-1.37-1.37c-.4-.4-.92-.59-1.43-.59-.52 0-1.04.2-1.43.59L10.3 9.45l-7.72 7.72c-.78.78-.78 2.05 0 2.83L4 21.41c.39.39.9.59 1.41.59.51 0 1.02-.2 1.41-.59l7.78-7.78 2.81-2.81c.8-.78.8-2.07 0-2.86zM5.41 20L4 18.59l7.72-7.72 1.47 1.35L5.41 20z\"/>\n",
              "  </svg>\n",
              "      </button>\n",
              "      \n",
              "  <style>\n",
              "    .colab-df-container {\n",
              "      display:flex;\n",
              "      flex-wrap:wrap;\n",
              "      gap: 12px;\n",
              "    }\n",
              "\n",
              "    .colab-df-convert {\n",
              "      background-color: #E8F0FE;\n",
              "      border: none;\n",
              "      border-radius: 50%;\n",
              "      cursor: pointer;\n",
              "      display: none;\n",
              "      fill: #1967D2;\n",
              "      height: 32px;\n",
              "      padding: 0 0 0 0;\n",
              "      width: 32px;\n",
              "    }\n",
              "\n",
              "    .colab-df-convert:hover {\n",
              "      background-color: #E2EBFA;\n",
              "      box-shadow: 0px 1px 2px rgba(60, 64, 67, 0.3), 0px 1px 3px 1px rgba(60, 64, 67, 0.15);\n",
              "      fill: #174EA6;\n",
              "    }\n",
              "\n",
              "    [theme=dark] .colab-df-convert {\n",
              "      background-color: #3B4455;\n",
              "      fill: #D2E3FC;\n",
              "    }\n",
              "\n",
              "    [theme=dark] .colab-df-convert:hover {\n",
              "      background-color: #434B5C;\n",
              "      box-shadow: 0px 1px 3px 1px rgba(0, 0, 0, 0.15);\n",
              "      filter: drop-shadow(0px 1px 2px rgba(0, 0, 0, 0.3));\n",
              "      fill: #FFFFFF;\n",
              "    }\n",
              "  </style>\n",
              "\n",
              "      <script>\n",
              "        const buttonEl =\n",
              "          document.querySelector('#df-3fc9fee0-067b-47e4-9aa5-297b2123d82c button.colab-df-convert');\n",
              "        buttonEl.style.display =\n",
              "          google.colab.kernel.accessAllowed ? 'block' : 'none';\n",
              "\n",
              "        async function convertToInteractive(key) {\n",
              "          const element = document.querySelector('#df-3fc9fee0-067b-47e4-9aa5-297b2123d82c');\n",
              "          const dataTable =\n",
              "            await google.colab.kernel.invokeFunction('convertToInteractive',\n",
              "                                                     [key], {});\n",
              "          if (!dataTable) return;\n",
              "\n",
              "          const docLinkHtml = 'Like what you see? Visit the ' +\n",
              "            '<a target=\"_blank\" href=https://colab.research.google.com/notebooks/data_table.ipynb>data table notebook</a>'\n",
              "            + ' to learn more about interactive tables.';\n",
              "          element.innerHTML = '';\n",
              "          dataTable['output_type'] = 'display_data';\n",
              "          await google.colab.output.renderOutput(dataTable, element);\n",
              "          const docLink = document.createElement('div');\n",
              "          docLink.innerHTML = docLinkHtml;\n",
              "          element.appendChild(docLink);\n",
              "        }\n",
              "      </script>\n",
              "    </div>\n",
              "  </div>\n",
              "  "
            ]
          },
          "metadata": {},
          "execution_count": 198
        }
      ]
    },
    {
      "cell_type": "code",
      "source": [
        "df_rd80_dataset = df_rd80_dataset.set_index('Datetime')"
      ],
      "metadata": {
        "id": "Rc4ytwSRhnOJ"
      },
      "execution_count": 199,
      "outputs": []
    },
    {
      "cell_type": "code",
      "source": [
        "df_df_rd80_columns = df_rd80_dataset[['Rain Intensity (mm/h)', 'radar reflectivity (1/mm6m3)', 'Class_Rain_id', 'Class_Rain']]\n",
        "\n",
        "df_df_rd80 = df_rd80_dataset[['Rain Intensity (mm/h)','radar reflectivity (1/mm6m3)']]\n"
      ],
      "metadata": {
        "id": "-2tMUJZG9_Ix"
      },
      "execution_count": 200,
      "outputs": []
    },
    {
      "cell_type": "markdown",
      "source": [
        "**Padronização dos dados**"
      ],
      "metadata": {
        "id": "mqzx7i28BYNK"
      }
    },
    {
      "cell_type": "code",
      "source": [
        "df_values = df_df_rd80.values \n",
        "df_values = df_values.reshape(-1, len(df_df_rd80.columns))\n",
        "\n",
        "standardizer = StandardScaler().fit(df_values)\n",
        "df_std = standardizer.transform(df_values)\n",
        "df_std = pd.DataFrame(df_std, columns=df_df_rd80.columns)\n",
        "df_std.describe()"
      ],
      "metadata": {
        "colab": {
          "base_uri": "https://localhost:8080/",
          "height": 300
        },
        "id": "KLwDH8iJBc2h",
        "outputId": "21e77593-d406-4e72-8c70-df91f7c3cff1"
      },
      "execution_count": 201,
      "outputs": [
        {
          "output_type": "execute_result",
          "data": {
            "text/plain": [
              "       Rain Intensity (mm/h)  radar reflectivity (1/mm6m3)\n",
              "count           3.154200e+05                  3.154200e+05\n",
              "mean            4.036816e-17                 -2.000387e-17\n",
              "std             1.000002e+00                  1.000002e+00\n",
              "min            -1.089430e-01                 -6.575616e-02\n",
              "25%            -1.089430e-01                 -6.575616e-02\n",
              "50%            -1.089430e-01                 -6.575616e-02\n",
              "75%            -1.089430e-01                 -6.575616e-02\n",
              "max             3.759545e+01                  1.169422e+02"
            ],
            "text/html": [
              "\n",
              "  <div id=\"df-dfeacd73-fd57-492a-9e4b-9b4919f495fe\">\n",
              "    <div class=\"colab-df-container\">\n",
              "      <div>\n",
              "<style scoped>\n",
              "    .dataframe tbody tr th:only-of-type {\n",
              "        vertical-align: middle;\n",
              "    }\n",
              "\n",
              "    .dataframe tbody tr th {\n",
              "        vertical-align: top;\n",
              "    }\n",
              "\n",
              "    .dataframe thead th {\n",
              "        text-align: right;\n",
              "    }\n",
              "</style>\n",
              "<table border=\"1\" class=\"dataframe\">\n",
              "  <thead>\n",
              "    <tr style=\"text-align: right;\">\n",
              "      <th></th>\n",
              "      <th>Rain Intensity (mm/h)</th>\n",
              "      <th>radar reflectivity (1/mm6m3)</th>\n",
              "    </tr>\n",
              "  </thead>\n",
              "  <tbody>\n",
              "    <tr>\n",
              "      <th>count</th>\n",
              "      <td>3.154200e+05</td>\n",
              "      <td>3.154200e+05</td>\n",
              "    </tr>\n",
              "    <tr>\n",
              "      <th>mean</th>\n",
              "      <td>4.036816e-17</td>\n",
              "      <td>-2.000387e-17</td>\n",
              "    </tr>\n",
              "    <tr>\n",
              "      <th>std</th>\n",
              "      <td>1.000002e+00</td>\n",
              "      <td>1.000002e+00</td>\n",
              "    </tr>\n",
              "    <tr>\n",
              "      <th>min</th>\n",
              "      <td>-1.089430e-01</td>\n",
              "      <td>-6.575616e-02</td>\n",
              "    </tr>\n",
              "    <tr>\n",
              "      <th>25%</th>\n",
              "      <td>-1.089430e-01</td>\n",
              "      <td>-6.575616e-02</td>\n",
              "    </tr>\n",
              "    <tr>\n",
              "      <th>50%</th>\n",
              "      <td>-1.089430e-01</td>\n",
              "      <td>-6.575616e-02</td>\n",
              "    </tr>\n",
              "    <tr>\n",
              "      <th>75%</th>\n",
              "      <td>-1.089430e-01</td>\n",
              "      <td>-6.575616e-02</td>\n",
              "    </tr>\n",
              "    <tr>\n",
              "      <th>max</th>\n",
              "      <td>3.759545e+01</td>\n",
              "      <td>1.169422e+02</td>\n",
              "    </tr>\n",
              "  </tbody>\n",
              "</table>\n",
              "</div>\n",
              "      <button class=\"colab-df-convert\" onclick=\"convertToInteractive('df-dfeacd73-fd57-492a-9e4b-9b4919f495fe')\"\n",
              "              title=\"Convert this dataframe to an interactive table.\"\n",
              "              style=\"display:none;\">\n",
              "        \n",
              "  <svg xmlns=\"http://www.w3.org/2000/svg\" height=\"24px\"viewBox=\"0 0 24 24\"\n",
              "       width=\"24px\">\n",
              "    <path d=\"M0 0h24v24H0V0z\" fill=\"none\"/>\n",
              "    <path d=\"M18.56 5.44l.94 2.06.94-2.06 2.06-.94-2.06-.94-.94-2.06-.94 2.06-2.06.94zm-11 1L8.5 8.5l.94-2.06 2.06-.94-2.06-.94L8.5 2.5l-.94 2.06-2.06.94zm10 10l.94 2.06.94-2.06 2.06-.94-2.06-.94-.94-2.06-.94 2.06-2.06.94z\"/><path d=\"M17.41 7.96l-1.37-1.37c-.4-.4-.92-.59-1.43-.59-.52 0-1.04.2-1.43.59L10.3 9.45l-7.72 7.72c-.78.78-.78 2.05 0 2.83L4 21.41c.39.39.9.59 1.41.59.51 0 1.02-.2 1.41-.59l7.78-7.78 2.81-2.81c.8-.78.8-2.07 0-2.86zM5.41 20L4 18.59l7.72-7.72 1.47 1.35L5.41 20z\"/>\n",
              "  </svg>\n",
              "      </button>\n",
              "      \n",
              "  <style>\n",
              "    .colab-df-container {\n",
              "      display:flex;\n",
              "      flex-wrap:wrap;\n",
              "      gap: 12px;\n",
              "    }\n",
              "\n",
              "    .colab-df-convert {\n",
              "      background-color: #E8F0FE;\n",
              "      border: none;\n",
              "      border-radius: 50%;\n",
              "      cursor: pointer;\n",
              "      display: none;\n",
              "      fill: #1967D2;\n",
              "      height: 32px;\n",
              "      padding: 0 0 0 0;\n",
              "      width: 32px;\n",
              "    }\n",
              "\n",
              "    .colab-df-convert:hover {\n",
              "      background-color: #E2EBFA;\n",
              "      box-shadow: 0px 1px 2px rgba(60, 64, 67, 0.3), 0px 1px 3px 1px rgba(60, 64, 67, 0.15);\n",
              "      fill: #174EA6;\n",
              "    }\n",
              "\n",
              "    [theme=dark] .colab-df-convert {\n",
              "      background-color: #3B4455;\n",
              "      fill: #D2E3FC;\n",
              "    }\n",
              "\n",
              "    [theme=dark] .colab-df-convert:hover {\n",
              "      background-color: #434B5C;\n",
              "      box-shadow: 0px 1px 3px 1px rgba(0, 0, 0, 0.15);\n",
              "      filter: drop-shadow(0px 1px 2px rgba(0, 0, 0, 0.3));\n",
              "      fill: #FFFFFF;\n",
              "    }\n",
              "  </style>\n",
              "\n",
              "      <script>\n",
              "        const buttonEl =\n",
              "          document.querySelector('#df-dfeacd73-fd57-492a-9e4b-9b4919f495fe button.colab-df-convert');\n",
              "        buttonEl.style.display =\n",
              "          google.colab.kernel.accessAllowed ? 'block' : 'none';\n",
              "\n",
              "        async function convertToInteractive(key) {\n",
              "          const element = document.querySelector('#df-dfeacd73-fd57-492a-9e4b-9b4919f495fe');\n",
              "          const dataTable =\n",
              "            await google.colab.kernel.invokeFunction('convertToInteractive',\n",
              "                                                     [key], {});\n",
              "          if (!dataTable) return;\n",
              "\n",
              "          const docLinkHtml = 'Like what you see? Visit the ' +\n",
              "            '<a target=\"_blank\" href=https://colab.research.google.com/notebooks/data_table.ipynb>data table notebook</a>'\n",
              "            + ' to learn more about interactive tables.';\n",
              "          element.innerHTML = '';\n",
              "          dataTable['output_type'] = 'display_data';\n",
              "          await google.colab.output.renderOutput(dataTable, element);\n",
              "          const docLink = document.createElement('div');\n",
              "          docLink.innerHTML = docLinkHtml;\n",
              "          element.appendChild(docLink);\n",
              "        }\n",
              "      </script>\n",
              "    </div>\n",
              "  </div>\n",
              "  "
            ]
          },
          "metadata": {},
          "execution_count": 201
        }
      ]
    },
    {
      "cell_type": "markdown",
      "source": [
        "**Clusterização - Identificando a anomalia com k-means**\n",
        "\n",
        "O K-means é um algoritmo do tipo não supervisionado, cujo objetivo é encontrar similaridades entre os dados e agrupá-los em um número de clusteres definidos pelo parâmetro k."
      ],
      "metadata": {
        "id": "BpTKUqmgP0hK"
      }
    },
    {
      "cell_type": "code",
      "source": [
        "data_array = df_std.values\n",
        "kmeans = KMeans(n_clusters=3, init='k-means++', n_init=10, random_state=42)\n",
        "df_std[\"cluster\"] = kmeans.fit_predict(data_array)\n",
        "df_std.groupby(\"cluster\").aggregate(\"mean\").plot.bar(figsize=(12,7))\n",
        "plt.title(\"Opções clusterizadas\")\n",
        "plt.show()"
      ],
      "metadata": {
        "colab": {
          "base_uri": "https://localhost:8080/",
          "height": 461
        },
        "id": "rvsvZCLqBoiZ",
        "outputId": "aac88417-3f56-48d5-f315-3bd452fc5154"
      },
      "execution_count": 218,
      "outputs": [
        {
          "output_type": "display_data",
          "data": {
            "text/plain": [
              "<Figure size 864x504 with 1 Axes>"
            ],
            "image/png": "[encoded data removed]"
          },
          "metadata": {}
        }
      ]
    },
    {
      "cell_type": "code",
      "source": [
        "#modelo = KMeans(n_clusters=5)\n",
        "#modelo.fit(df_std)\n",
        "#modelo.labels_\n",
        "\n",
        "#grupos = pd.DataFrame(modelo.cluster_centers_, columns=df_std.columns)\n",
        "#grupos\n",
        "\n",
        "#grupos.transpose().plot.bar( figsize=(15,10),sharex=False)"
      ],
      "metadata": {
        "id": "DRCcP9gF83Ru"
      },
      "execution_count": null,
      "outputs": []
    },
    {
      "cell_type": "markdown",
      "source": [
        "O gráfico mostra que dentre os clusteres encontrados pelo modelo, há um que foge do comportamento padrão: o cluster 3. Os registros agrupados nesse cluster serão definidos como anômalos."
      ],
      "metadata": {
        "id": "aIMxnscxCaeB"
      }
    },
    {
      "cell_type": "markdown",
      "source": [
        "**Definir label para anomalia**"
      ],
      "metadata": {
        "id": "1CM0AtzZTY3y"
      }
    },
    {
      "cell_type": "code",
      "source": [
        "df_std['anomalia'] = 0\n",
        "df_std.loc[df_std['cluster'] == 2, 'anomalia'] = 1"
      ],
      "metadata": {
        "id": "Dce1_ORzCfuK"
      },
      "execution_count": 219,
      "outputs": []
    },
    {
      "cell_type": "code",
      "source": [
        "df_std.loc[(df_std['anomalia']) == 1].head(10)"
      ],
      "metadata": {
        "colab": {
          "base_uri": "https://localhost:8080/",
          "height": 363
        },
        "id": "F223PEbpCjkI",
        "outputId": "6a2a6ebc-a437-464b-be50-d641fb1741c8"
      },
      "execution_count": 220,
      "outputs": [
        {
          "output_type": "execute_result",
          "data": {
            "text/plain": [
              "       Rain Intensity (mm/h)  radar reflectivity (1/mm6m3)  cluster  anomalia\n",
              "417                 6.781687                      3.156360        2         1\n",
              "2508                3.602049                      5.669741        2         1\n",
              "2547                3.061973                      5.177803        2         1\n",
              "23659               5.395494                      4.638179        2         1\n",
              "23660              11.405799                      9.602712        2         1\n",
              "23661              10.621759                      7.215471        2         1\n",
              "23662               9.017349                      4.535641        2         1\n",
              "23663               9.194700                      4.849638        2         1\n",
              "23664               9.014833                      4.491476        2         1\n",
              "23665               6.833107                      3.682304        2         1"
            ],
            "text/html": [
              "\n",
              "  <div id=\"df-41734a07-6b27-4540-97ab-e3899f8c44f8\">\n",
              "    <div class=\"colab-df-container\">\n",
              "      <div>\n",
              "<style scoped>\n",
              "    .dataframe tbody tr th:only-of-type {\n",
              "        vertical-align: middle;\n",
              "    }\n",
              "\n",
              "    .dataframe tbody tr th {\n",
              "        vertical-align: top;\n",
              "    }\n",
              "\n",
              "    .dataframe thead th {\n",
              "        text-align: right;\n",
              "    }\n",
              "</style>\n",
              "<table border=\"1\" class=\"dataframe\">\n",
              "  <thead>\n",
              "    <tr style=\"text-align: right;\">\n",
              "      <th></th>\n",
              "      <th>Rain Intensity (mm/h)</th>\n",
              "      <th>radar reflectivity (1/mm6m3)</th>\n",
              "      <th>cluster</th>\n",
              "      <th>anomalia</th>\n",
              "    </tr>\n",
              "  </thead>\n",
              "  <tbody>\n",
              "    <tr>\n",
              "      <th>417</th>\n",
              "      <td>6.781687</td>\n",
              "      <td>3.156360</td>\n",
              "      <td>2</td>\n",
              "      <td>1</td>\n",
              "    </tr>\n",
              "    <tr>\n",
              "      <th>2508</th>\n",
              "      <td>3.602049</td>\n",
              "      <td>5.669741</td>\n",
              "      <td>2</td>\n",
              "      <td>1</td>\n",
              "    </tr>\n",
              "    <tr>\n",
              "      <th>2547</th>\n",
              "      <td>3.061973</td>\n",
              "      <td>5.177803</td>\n",
              "      <td>2</td>\n",
              "      <td>1</td>\n",
              "    </tr>\n",
              "    <tr>\n",
              "      <th>23659</th>\n",
              "      <td>5.395494</td>\n",
              "      <td>4.638179</td>\n",
              "      <td>2</td>\n",
              "      <td>1</td>\n",
              "    </tr>\n",
              "    <tr>\n",
              "      <th>23660</th>\n",
              "      <td>11.405799</td>\n",
              "      <td>9.602712</td>\n",
              "      <td>2</td>\n",
              "      <td>1</td>\n",
              "    </tr>\n",
              "    <tr>\n",
              "      <th>23661</th>\n",
              "      <td>10.621759</td>\n",
              "      <td>7.215471</td>\n",
              "      <td>2</td>\n",
              "      <td>1</td>\n",
              "    </tr>\n",
              "    <tr>\n",
              "      <th>23662</th>\n",
              "      <td>9.017349</td>\n",
              "      <td>4.535641</td>\n",
              "      <td>2</td>\n",
              "      <td>1</td>\n",
              "    </tr>\n",
              "    <tr>\n",
              "      <th>23663</th>\n",
              "      <td>9.194700</td>\n",
              "      <td>4.849638</td>\n",
              "      <td>2</td>\n",
              "      <td>1</td>\n",
              "    </tr>\n",
              "    <tr>\n",
              "      <th>23664</th>\n",
              "      <td>9.014833</td>\n",
              "      <td>4.491476</td>\n",
              "      <td>2</td>\n",
              "      <td>1</td>\n",
              "    </tr>\n",
              "    <tr>\n",
              "      <th>23665</th>\n",
              "      <td>6.833107</td>\n",
              "      <td>3.682304</td>\n",
              "      <td>2</td>\n",
              "      <td>1</td>\n",
              "    </tr>\n",
              "  </tbody>\n",
              "</table>\n",
              "</div>\n",
              "      <button class=\"colab-df-convert\" onclick=\"convertToInteractive('df-41734a07-6b27-4540-97ab-e3899f8c44f8')\"\n",
              "              title=\"Convert this dataframe to an interactive table.\"\n",
              "              style=\"display:none;\">\n",
              "        \n",
              "  <svg xmlns=\"http://www.w3.org/2000/svg\" height=\"24px\"viewBox=\"0 0 24 24\"\n",
              "       width=\"24px\">\n",
              "    <path d=\"M0 0h24v24H0V0z\" fill=\"none\"/>\n",
              "    <path d=\"M18.56 5.44l.94 2.06.94-2.06 2.06-.94-2.06-.94-.94-2.06-.94 2.06-2.06.94zm-11 1L8.5 8.5l.94-2.06 2.06-.94-2.06-.94L8.5 2.5l-.94 2.06-2.06.94zm10 10l.94 2.06.94-2.06 2.06-.94-2.06-.94-.94-2.06-.94 2.06-2.06.94z\"/><path d=\"M17.41 7.96l-1.37-1.37c-.4-.4-.92-.59-1.43-.59-.52 0-1.04.2-1.43.59L10.3 9.45l-7.72 7.72c-.78.78-.78 2.05 0 2.83L4 21.41c.39.39.9.59 1.41.59.51 0 1.02-.2 1.41-.59l7.78-7.78 2.81-2.81c.8-.78.8-2.07 0-2.86zM5.41 20L4 18.59l7.72-7.72 1.47 1.35L5.41 20z\"/>\n",
              "  </svg>\n",
              "      </button>\n",
              "      \n",
              "  <style>\n",
              "    .colab-df-container {\n",
              "      display:flex;\n",
              "      flex-wrap:wrap;\n",
              "      gap: 12px;\n",
              "    }\n",
              "\n",
              "    .colab-df-convert {\n",
              "      background-color: #E8F0FE;\n",
              "      border: none;\n",
              "      border-radius: 50%;\n",
              "      cursor: pointer;\n",
              "      display: none;\n",
              "      fill: #1967D2;\n",
              "      height: 32px;\n",
              "      padding: 0 0 0 0;\n",
              "      width: 32px;\n",
              "    }\n",
              "\n",
              "    .colab-df-convert:hover {\n",
              "      background-color: #E2EBFA;\n",
              "      box-shadow: 0px 1px 2px rgba(60, 64, 67, 0.3), 0px 1px 3px 1px rgba(60, 64, 67, 0.15);\n",
              "      fill: #174EA6;\n",
              "    }\n",
              "\n",
              "    [theme=dark] .colab-df-convert {\n",
              "      background-color: #3B4455;\n",
              "      fill: #D2E3FC;\n",
              "    }\n",
              "\n",
              "    [theme=dark] .colab-df-convert:hover {\n",
              "      background-color: #434B5C;\n",
              "      box-shadow: 0px 1px 3px 1px rgba(0, 0, 0, 0.15);\n",
              "      filter: drop-shadow(0px 1px 2px rgba(0, 0, 0, 0.3));\n",
              "      fill: #FFFFFF;\n",
              "    }\n",
              "  </style>\n",
              "\n",
              "      <script>\n",
              "        const buttonEl =\n",
              "          document.querySelector('#df-41734a07-6b27-4540-97ab-e3899f8c44f8 button.colab-df-convert');\n",
              "        buttonEl.style.display =\n",
              "          google.colab.kernel.accessAllowed ? 'block' : 'none';\n",
              "\n",
              "        async function convertToInteractive(key) {\n",
              "          const element = document.querySelector('#df-41734a07-6b27-4540-97ab-e3899f8c44f8');\n",
              "          const dataTable =\n",
              "            await google.colab.kernel.invokeFunction('convertToInteractive',\n",
              "                                                     [key], {});\n",
              "          if (!dataTable) return;\n",
              "\n",
              "          const docLinkHtml = 'Like what you see? Visit the ' +\n",
              "            '<a target=\"_blank\" href=https://colab.research.google.com/notebooks/data_table.ipynb>data table notebook</a>'\n",
              "            + ' to learn more about interactive tables.';\n",
              "          element.innerHTML = '';\n",
              "          dataTable['output_type'] = 'display_data';\n",
              "          await google.colab.output.renderOutput(dataTable, element);\n",
              "          const docLink = document.createElement('div');\n",
              "          docLink.innerHTML = docLinkHtml;\n",
              "          element.appendChild(docLink);\n",
              "        }\n",
              "      </script>\n",
              "    </div>\n",
              "  </div>\n",
              "  "
            ]
          },
          "metadata": {},
          "execution_count": 220
        }
      ]
    },
    {
      "cell_type": "markdown",
      "source": [
        "**Visualizando os clusteres formados**"
      ],
      "metadata": {
        "id": "5WzNEXPHTUXe"
      }
    },
    {
      "cell_type": "code",
      "source": [
        "cor = ['b', 'g', 'r', 'c', 'm', 'y']\n",
        "i=0\n",
        "\n",
        "plt.figure(figsize=(10,7))\n",
        "for cluster in df_std['cluster'].unique():\n",
        "    df = df_std.loc[df_std['cluster'] == cluster]\n",
        "    \n",
        "    plt.scatter(df['Rain Intensity (mm/h)'], df['radar reflectivity (1/mm6m3)'], c=cor[i],alpha=0.3)\n",
        "    i += 1\n",
        "plt.title(\"Clusters\")\n",
        "plt.show()"
      ],
      "metadata": {
        "colab": {
          "base_uri": "https://localhost:8080/",
          "height": 447
        },
        "id": "-c8ZLOvvCoqy",
        "outputId": "42fd8154-35af-4557-d37c-7b8823b879cb"
      },
      "execution_count": 221,
      "outputs": [
        {
          "output_type": "display_data",
          "data": {
            "text/plain": [
              "<Figure size 720x504 with 1 Axes>"
            ],
            "image/png": "[encoded data removed]"
          },
          "metadata": {}
        }
      ]
    },
    {
      "cell_type": "markdown",
      "source": [
        "**Visualizando o cluster anômalo**"
      ],
      "metadata": {
        "id": "gsAxPDtbTc2y"
      }
    },
    {
      "cell_type": "code",
      "source": [
        "cor = []\n",
        "plt.figure(figsize=(10,7))\n",
        "for anomalia in df_std['anomalia'] :\n",
        "    if anomalia == 1 :\n",
        "        cor.append('r')\n",
        "    else :\n",
        "        cor.append('b')\n",
        "plt.scatter(df_std['Rain Intensity (mm/h)'], df_std['radar reflectivity (1/mm6m3)'], c=cor,alpha=0.3)\n",
        "plt.title(\"Cluster anômalo\")\n",
        "plt.show()"
      ],
      "metadata": {
        "colab": {
          "base_uri": "https://localhost:8080/",
          "height": 447
        },
        "id": "3SYmDrY-C6Qg",
        "outputId": "605ae097-cbd7-4b79-d11a-7379fa9e8d01"
      },
      "execution_count": 225,
      "outputs": [
        {
          "output_type": "display_data",
          "data": {
            "text/plain": [
              "<Figure size 720x504 with 1 Axes>"
            ],
            "image/png": "[encoded data removed]"
          },
          "metadata": {}
        }
      ]
    },
    {
      "cell_type": "markdown",
      "source": [
        "**Criando modelos de classificação**"
      ],
      "metadata": {
        "id": "KaViEBEVTh-D"
      }
    },
    {
      "cell_type": "code",
      "source": [
        "modelo = KMeans(n_clusters=3)\n",
        "modelo.fit(df_df_rd80)\n",
        "\n",
        "modelo.labels_"
      ],
      "metadata": {
        "colab": {
          "base_uri": "https://localhost:8080/"
        },
        "id": "7cNJ1gggHrXu",
        "outputId": "2320284c-297a-457c-e974-8eb2b303e248"
      },
      "execution_count": 223,
      "outputs": [
        {
          "output_type": "execute_result",
          "data": {
            "text/plain": [
              "array([0, 0, 0, ..., 0, 0, 0], dtype=int32)"
            ]
          },
          "metadata": {},
          "execution_count": 223
        }
      ]
    },
    {
      "cell_type": "code",
      "source": [
        "grupos_ = modelo.fit_predict(df_df_rd80)\n",
        "centroides = modelo.cluster_centers_\n",
        "\n",
        "plt.scatter(x=df_df_rd80['Rain Intensity (mm/h)'],\n",
        "            y=df_df_rd80['radar reflectivity (1/mm6m3)'],\n",
        "            c= grupos_,\n",
        "            cmap='viridis')\n",
        "plt.scatter(centroides[:, 0], centroides[:, 1],\n",
        "           marker='X', s=169, linewidths=3,\n",
        "           color='r', zorder=8)"
      ],
      "metadata": {
        "colab": {
          "base_uri": "https://localhost:8080/",
          "height": 611
        },
        "id": "HW1ynbT6-I6E",
        "outputId": "f399069f-9c9d-41ce-a0c5-8f819e4ef7f0"
      },
      "execution_count": 224,
      "outputs": [
        {
          "output_type": "execute_result",
          "data": {
            "text/plain": [
              "<matplotlib.collections.PathCollection at 0x7fc1f169d2d0>"
            ]
          },
          "metadata": {},
          "execution_count": 224
        },
        {
          "output_type": "display_data",
          "data": {
            "text/plain": [
              "<Figure size 720x720 with 1 Axes>"
            ],
            "image/png": "[encoded data removed]"
          },
          "metadata": {}
        }
      ]
    },
    {
      "cell_type": "markdown",
      "source": [
        "\n",
        "\n",
        "---\n",
        "\n"
      ],
      "metadata": {
        "id": "1xBQbw3VIkqh"
      }
    },
    {
      "cell_type": "code",
      "source": [
        "def particionaDados(X, Y, treinamento=.75, teste=.25, random_state=42):\n",
        "    percentual_teste_validacao = 1 - treinamento\n",
        "    X_treino, X_temp, Y_treino, Y_temp = train_test_split(X, Y, test_size=percentual_teste_validacao, \n",
        "        random_state=random_state)\n",
        "    \n",
        "    if(treinamento + teste < 1):\n",
        "        validacao = 1 - (treinamento + teste)\n",
        "        percentual_validacao = validacao / percentual_teste_validacao\n",
        "        \n",
        "        X_teste, X_validacao, Y_teste, Y_validacao = train_test_split(X_temp, Y_temp, test_size=percentual_validacao,\n",
        "        random_state=random_state)\n",
        "    else:\n",
        "        X_teste = X_temp\n",
        "        Y_teste = Y_temp\n",
        "        X_validacao = []\n",
        "        Y_validacao = [] \n",
        "   \n",
        "    return (X_treino, X_teste, X_validacao, Y_treino, Y_teste, Y_validacao)"
      ],
      "metadata": {
        "id": "1s7qaHERDXcB"
      },
      "execution_count": 226,
      "outputs": []
    },
    {
      "cell_type": "code",
      "source": [
        "def treinaKNN(k, p, X_treino, Y_treino, X_teste, Y_teste):\n",
        "    classificador = KNeighborsClassifier(n_neighbors=k, p=p)\n",
        "    classificador.fit(X_treino, Y_treino.ravel())\n",
        "\n",
        "    y_pred = classificador.predict(X_teste)\n",
        "\n",
        "    return (confusion_matrix(Y_teste, y_pred), accuracy_score(Y_teste, y_pred), classificador)"
      ],
      "metadata": {
        "id": "0IJMwJHmDkvx"
      },
      "execution_count": 227,
      "outputs": []
    },
    {
      "cell_type": "code",
      "source": [
        "df_std.head(n=10)"
      ],
      "metadata": {
        "colab": {
          "base_uri": "https://localhost:8080/",
          "height": 363
        },
        "id": "P9NpgaYzDoZp",
        "outputId": "902f2723-ce0b-4dd6-a142-7af03cc75cbb"
      },
      "execution_count": 228,
      "outputs": [
        {
          "output_type": "execute_result",
          "data": {
            "text/plain": [
              "   Rain Intensity (mm/h)  radar reflectivity (1/mm6m3)  cluster  anomalia\n",
              "0              -0.108943                     -0.065756        0         0\n",
              "1              -0.108943                     -0.065756        0         0\n",
              "2              -0.108943                     -0.065756        0         0\n",
              "3              -0.108943                     -0.065756        0         0\n",
              "4              -0.108943                     -0.065756        0         0\n",
              "5              -0.108943                     -0.065756        0         0\n",
              "6              -0.108943                     -0.065756        0         0\n",
              "7              -0.108943                     -0.065756        0         0\n",
              "8              -0.108943                     -0.065756        0         0\n",
              "9              -0.108943                     -0.065756        0         0"
            ],
            "text/html": [
              "\n",
              "  <div id=\"df-401b6264-0849-47bd-9f0c-d4f3e9b1356b\">\n",
              "    <div class=\"colab-df-container\">\n",
              "      <div>\n",
              "<style scoped>\n",
              "    .dataframe tbody tr th:only-of-type {\n",
              "        vertical-align: middle;\n",
              "    }\n",
              "\n",
              "    .dataframe tbody tr th {\n",
              "        vertical-align: top;\n",
              "    }\n",
              "\n",
              "    .dataframe thead th {\n",
              "        text-align: right;\n",
              "    }\n",
              "</style>\n",
              "<table border=\"1\" class=\"dataframe\">\n",
              "  <thead>\n",
              "    <tr style=\"text-align: right;\">\n",
              "      <th></th>\n",
              "      <th>Rain Intensity (mm/h)</th>\n",
              "      <th>radar reflectivity (1/mm6m3)</th>\n",
              "      <th>cluster</th>\n",
              "      <th>anomalia</th>\n",
              "    </tr>\n",
              "  </thead>\n",
              "  <tbody>\n",
              "    <tr>\n",
              "      <th>0</th>\n",
              "      <td>-0.108943</td>\n",
              "      <td>-0.065756</td>\n",
              "      <td>0</td>\n",
              "      <td>0</td>\n",
              "    </tr>\n",
              "    <tr>\n",
              "      <th>1</th>\n",
              "      <td>-0.108943</td>\n",
              "      <td>-0.065756</td>\n",
              "      <td>0</td>\n",
              "      <td>0</td>\n",
              "    </tr>\n",
              "    <tr>\n",
              "      <th>2</th>\n",
              "      <td>-0.108943</td>\n",
              "      <td>-0.065756</td>\n",
              "      <td>0</td>\n",
              "      <td>0</td>\n",
              "    </tr>\n",
              "    <tr>\n",
              "      <th>3</th>\n",
              "      <td>-0.108943</td>\n",
              "      <td>-0.065756</td>\n",
              "      <td>0</td>\n",
              "      <td>0</td>\n",
              "    </tr>\n",
              "    <tr>\n",
              "      <th>4</th>\n",
              "      <td>-0.108943</td>\n",
              "      <td>-0.065756</td>\n",
              "      <td>0</td>\n",
              "      <td>0</td>\n",
              "    </tr>\n",
              "    <tr>\n",
              "      <th>5</th>\n",
              "      <td>-0.108943</td>\n",
              "      <td>-0.065756</td>\n",
              "      <td>0</td>\n",
              "      <td>0</td>\n",
              "    </tr>\n",
              "    <tr>\n",
              "      <th>6</th>\n",
              "      <td>-0.108943</td>\n",
              "      <td>-0.065756</td>\n",
              "      <td>0</td>\n",
              "      <td>0</td>\n",
              "    </tr>\n",
              "    <tr>\n",
              "      <th>7</th>\n",
              "      <td>-0.108943</td>\n",
              "      <td>-0.065756</td>\n",
              "      <td>0</td>\n",
              "      <td>0</td>\n",
              "    </tr>\n",
              "    <tr>\n",
              "      <th>8</th>\n",
              "      <td>-0.108943</td>\n",
              "      <td>-0.065756</td>\n",
              "      <td>0</td>\n",
              "      <td>0</td>\n",
              "    </tr>\n",
              "    <tr>\n",
              "      <th>9</th>\n",
              "      <td>-0.108943</td>\n",
              "      <td>-0.065756</td>\n",
              "      <td>0</td>\n",
              "      <td>0</td>\n",
              "    </tr>\n",
              "  </tbody>\n",
              "</table>\n",
              "</div>\n",
              "      <button class=\"colab-df-convert\" onclick=\"convertToInteractive('df-401b6264-0849-47bd-9f0c-d4f3e9b1356b')\"\n",
              "              title=\"Convert this dataframe to an interactive table.\"\n",
              "              style=\"display:none;\">\n",
              "        \n",
              "  <svg xmlns=\"http://www.w3.org/2000/svg\" height=\"24px\"viewBox=\"0 0 24 24\"\n",
              "       width=\"24px\">\n",
              "    <path d=\"M0 0h24v24H0V0z\" fill=\"none\"/>\n",
              "    <path d=\"M18.56 5.44l.94 2.06.94-2.06 2.06-.94-2.06-.94-.94-2.06-.94 2.06-2.06.94zm-11 1L8.5 8.5l.94-2.06 2.06-.94-2.06-.94L8.5 2.5l-.94 2.06-2.06.94zm10 10l.94 2.06.94-2.06 2.06-.94-2.06-.94-.94-2.06-.94 2.06-2.06.94z\"/><path d=\"M17.41 7.96l-1.37-1.37c-.4-.4-.92-.59-1.43-.59-.52 0-1.04.2-1.43.59L10.3 9.45l-7.72 7.72c-.78.78-.78 2.05 0 2.83L4 21.41c.39.39.9.59 1.41.59.51 0 1.02-.2 1.41-.59l7.78-7.78 2.81-2.81c.8-.78.8-2.07 0-2.86zM5.41 20L4 18.59l7.72-7.72 1.47 1.35L5.41 20z\"/>\n",
              "  </svg>\n",
              "      </button>\n",
              "      \n",
              "  <style>\n",
              "    .colab-df-container {\n",
              "      display:flex;\n",
              "      flex-wrap:wrap;\n",
              "      gap: 12px;\n",
              "    }\n",
              "\n",
              "    .colab-df-convert {\n",
              "      background-color: #E8F0FE;\n",
              "      border: none;\n",
              "      border-radius: 50%;\n",
              "      cursor: pointer;\n",
              "      display: none;\n",
              "      fill: #1967D2;\n",
              "      height: 32px;\n",
              "      padding: 0 0 0 0;\n",
              "      width: 32px;\n",
              "    }\n",
              "\n",
              "    .colab-df-convert:hover {\n",
              "      background-color: #E2EBFA;\n",
              "      box-shadow: 0px 1px 2px rgba(60, 64, 67, 0.3), 0px 1px 3px 1px rgba(60, 64, 67, 0.15);\n",
              "      fill: #174EA6;\n",
              "    }\n",
              "\n",
              "    [theme=dark] .colab-df-convert {\n",
              "      background-color: #3B4455;\n",
              "      fill: #D2E3FC;\n",
              "    }\n",
              "\n",
              "    [theme=dark] .colab-df-convert:hover {\n",
              "      background-color: #434B5C;\n",
              "      box-shadow: 0px 1px 3px 1px rgba(0, 0, 0, 0.15);\n",
              "      filter: drop-shadow(0px 1px 2px rgba(0, 0, 0, 0.3));\n",
              "      fill: #FFFFFF;\n",
              "    }\n",
              "  </style>\n",
              "\n",
              "      <script>\n",
              "        const buttonEl =\n",
              "          document.querySelector('#df-401b6264-0849-47bd-9f0c-d4f3e9b1356b button.colab-df-convert');\n",
              "        buttonEl.style.display =\n",
              "          google.colab.kernel.accessAllowed ? 'block' : 'none';\n",
              "\n",
              "        async function convertToInteractive(key) {\n",
              "          const element = document.querySelector('#df-401b6264-0849-47bd-9f0c-d4f3e9b1356b');\n",
              "          const dataTable =\n",
              "            await google.colab.kernel.invokeFunction('convertToInteractive',\n",
              "                                                     [key], {});\n",
              "          if (!dataTable) return;\n",
              "\n",
              "          const docLinkHtml = 'Like what you see? Visit the ' +\n",
              "            '<a target=\"_blank\" href=https://colab.research.google.com/notebooks/data_table.ipynb>data table notebook</a>'\n",
              "            + ' to learn more about interactive tables.';\n",
              "          element.innerHTML = '';\n",
              "          dataTable['output_type'] = 'display_data';\n",
              "          await google.colab.output.renderOutput(dataTable, element);\n",
              "          const docLink = document.createElement('div');\n",
              "          docLink.innerHTML = docLinkHtml;\n",
              "          element.appendChild(docLink);\n",
              "        }\n",
              "      </script>\n",
              "    </div>\n",
              "  </div>\n",
              "  "
            ]
          },
          "metadata": {},
          "execution_count": 228
        }
      ]
    },
    {
      "cell_type": "code",
      "source": [
        "X = df_std.iloc[:,0:2].values\n",
        "Y = df_std.iloc[:,3:].values\n",
        "\n",
        "X_treino, X_teste, X_validacao, Y_treino, Y_teste, Y_validacao = particionaDados(X,Y,.75,.25)\n",
        "\n",
        "len(df_std), len(X_treino), len(X_teste), len(X_validacao) , len(Y_treino), len(Y_teste), len(Y_validacao)"
      ],
      "metadata": {
        "colab": {
          "base_uri": "https://localhost:8080/"
        },
        "id": "IElTLZEmEE9G",
        "outputId": "3f25c5dd-1d03-40e6-b96e-9fd5fa6b4987"
      },
      "execution_count": 229,
      "outputs": [
        {
          "output_type": "execute_result",
          "data": {
            "text/plain": [
              "(315420, 236565, 78855, 0, 236565, 78855, 0)"
            ]
          },
          "metadata": {},
          "execution_count": 229
        }
      ]
    },
    {
      "cell_type": "code",
      "source": [
        "matrizes = {}\n",
        "acuracias = {}\n",
        "for k in [1,3,5,7]:\n",
        "    treinamento = treinaKNN(k,2, X_treino, Y_treino, X_teste, Y_teste)\n",
        "    matrizes[k] = treinamento[0]\n",
        "    acuracias[k] = treinamento[1]"
      ],
      "metadata": {
        "id": "erigeRaKEIlk"
      },
      "execution_count": 230,
      "outputs": []
    },
    {
      "cell_type": "code",
      "source": [
        "for k, matriz in matrizes.items():\n",
        "      \n",
        "      #plt.figure(figsize=(10,10),dpi=80)\n",
        "      ax.set_title('Número de Vizinhos: ' + str(k), fontsize = 10)\n",
        "      fig, ax = plot_confusion_matrix(conf_mat=matriz, show_absolute=True, show_normed=True, cmap='Accent', figsize=(10,5))\n",
        "      ax.set_title('Número de Vizinhos: ' + str(k), fontsize = 10)\n",
        "plt.show()"
      ],
      "metadata": {
        "colab": {
          "base_uri": "https://localhost:8080/",
          "height": 1000
        },
        "id": "k5GCVsmiEYR5",
        "outputId": "d4985f8f-8659-4582-b366-bdab073225de"
      },
      "execution_count": 233,
      "outputs": [
        {
          "output_type": "display_data",
          "data": {
            "text/plain": [
              "<Figure size 720x360 with 1 Axes>"
            ],
            "image/png": "[encoded data removed]"
          },
          "metadata": {}
        },
        {
          "output_type": "display_data",
          "data": {
            "text/plain": [
              "<Figure size 720x360 with 1 Axes>"
            ],
            "image/png": "[encoded data removed]"
          },
          "metadata": {}
        },
        {
          "output_type": "display_data",
          "data": {
            "text/plain": [
              "<Figure size 720x360 with 1 Axes>"
            ],
            "image/png": "[encoded data removed]"
          },
          "metadata": {}
        },
        {
          "output_type": "display_data",
          "data": {
            "text/plain": [
              "<Figure size 720x360 with 1 Axes>"
            ],
            "image/png": "[encoded data removed]"
          },
          "metadata": {}
        }
      ]
    },
    {
      "cell_type": "code",
      "source": [
        "acuracias"
      ],
      "metadata": {
        "colab": {
          "base_uri": "https://localhost:8080/"
        },
        "id": "DOMeE9ZaFrZP",
        "outputId": "91c40477-d6ad-43a4-a27a-e4641e5476b6"
      },
      "execution_count": 232,
      "outputs": [
        {
          "output_type": "execute_result",
          "data": {
            "text/plain": [
              "{1: 0.9999492739838944,\n",
              " 3: 0.9999492739838944,\n",
              " 5: 0.9999746369919472,\n",
              " 7: 0.9999619554879209}"
            ]
          },
          "metadata": {},
          "execution_count": 232
        }
      ]
    }
  ]
}