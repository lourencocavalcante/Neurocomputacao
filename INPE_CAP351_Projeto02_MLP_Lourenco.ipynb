{
  "nbformat": 4,
  "nbformat_minor": 0,
  "metadata": {
    "colab": {
      "name": "INPE_CAP351_Projeto02_MLP_Lourenco.ipynb",
      "provenance": [],
      "authorship_tag": "ABX9TyM4UN+cJQWJb4nlzootNzh+",
      "include_colab_link": true
    },
    "kernelspec": {
      "name": "python3",
      "display_name": "Python 3"
    },
    "language_info": {
      "name": "python"
    }
  },
  "cells": [
    {
      "cell_type": "markdown",
      "metadata": {
        "id": "view-in-github",
        "colab_type": "text"
      },
      "source": [
        "<a href=\"https://colab.research.google.com/github/lourencocavalcante/Neurocomputacao/blob/main/INPE_CAP351_Projeto02_MLP_Lourenco.ipynb\" target=\"_parent\"><img src=\"https://colab.research.google.com/assets/colab-badge.svg\" alt=\"Open In Colab\"/></a>"
      ]
    },
    {
      "cell_type": "markdown",
      "source": [
        "[<img src=\"https://github.com/lourencocavalcante/LogosINPE/blob/main/logoinpe.png?raw=true\" width = 500 align=\"left\">](https://www.gov.br/inpe/pt-br)\n",
        "\n",
        "[<img src=\"https://github.com/lourencocavalcante/LogosINPE/blob/main/LogoCAP.png?raw=true\" width = 300 align=\"right\">](http://www.inpe.br/posgraduacao/cap/)"
      ],
      "metadata": {
        "id": "OCGrfcaNk9Ju"
      }
    },
    {
      "cell_type": "markdown",
      "source": [
        "# **CAP-351 Neurocomputação**\n",
        "\n",
        "**Professor:**\n",
        "*Dr. Marcos Goncalves Quiles*\n",
        "\n",
        "**Aluno:**\n",
        "*Lourenço José Cavalcante Neto*\n",
        "\n",
        "---\n",
        "\n",
        "**PROPOSTA DE PROJETO 2: Aprendizado Não Supervisionado**\n",
        "\n",
        "**Descrição do projeto:**\n",
        "\n",
        "1. Selecionar 02 (dois) datasets;\n",
        "\n",
        "2. Aplicar um modelo neural não supervisionado;\n",
        "\n",
        "3. Avaliar os padrões detectados em cada conjunto:\n",
        "  * Clusters / outliers, etc.\n",
        "\n",
        "4. Avaliar a homogeneidade dos agrupamentos;\n",
        "\n",
        "5. Variar os parâmetros do modelo (grid, taxas, número\n",
        "de neurônios, etc.)."
      ],
      "metadata": {
        "id": "88RwBLoykL2t"
      }
    },
    {
      "cell_type": "markdown",
      "source": [
        "# **Introdução**\n",
        "\n",
        "Aprendizado Não Supervisionado são modelos de Machine Learnig que possuem poucos ou nenhum dado histórico para se basear e conseguir prever os resultados, eles não necessitam de um conjunto de dados que digam quais são as variáveis de saídas corretas, para modelar um algoritmo preditivo. Esses modelos conseguem criar estruturas de dados com base em relações entre as variáveis ou detectar algumas tendências.\n",
        "\n",
        "No presente notebook contém experimentos e testes plicados em um modelo neural não supervisionado. Foi selecionado 01(um) Dataset (não trivial). Os Dados são de um equipamento chamado **Disdrômetro RD80** (também chamado de **Joss**). Instalado próximo à torre **ATTO**, em um sítio chamado Campina, na região Amazônica. O disdrômetro RD80 mede a distribuição das gotas de chuva que chegam à superfície.\n",
        "\n",
        "Este notebook pode ser acessado no **github**: https://github.com/lourencocavalcante/Neurocomputacao.git"
      ],
      "metadata": {
        "id": "UTePmjPO0HTy"
      }
    },
    {
      "cell_type": "markdown",
      "source": [
        "# **Bibliotecas/Pacotes**"
      ],
      "metadata": {
        "id": "FxA9_U4DVVcF"
      }
    },
    {
      "cell_type": "code",
      "source": [
        "!pip install minisom"
      ],
      "metadata": {
        "id": "ee1HSwiWw6VV",
        "colab": {
          "base_uri": "https://localhost:8080/"
        },
        "outputId": "6a238f44-822f-4bdb-f87e-2e7d2cf0bdbd"
      },
      "execution_count": 2,
      "outputs": [
        {
          "output_type": "stream",
          "name": "stdout",
          "text": [
            "Looking in indexes: https://pypi.org/simple, https://us-python.pkg.dev/colab-wheels/public/simple/\n",
            "Requirement already satisfied: minisom in /usr/local/lib/python3.7/dist-packages (2.3.0)\n"
          ]
        }
      ]
    },
    {
      "cell_type": "code",
      "execution_count": 33,
      "metadata": {
        "id": "3jZRmEf4Kha7",
        "colab": {
          "base_uri": "https://localhost:8080/"
        },
        "outputId": "99d63931-00d3-420f-878a-3daf5718e359"
      },
      "outputs": [
        {
          "output_type": "stream",
          "name": "stdout",
          "text": [
            "Drive already mounted at /content/drive; to attempt to forcibly remount, call drive.mount(\"/content/drive\", force_remount=True).\n"
          ]
        }
      ],
      "source": [
        "import numpy as np\n",
        "\n",
        "import pandas as pd\n",
        "\n",
        "import matplotlib.pyplot as plt\n",
        "import seaborn as sns\n",
        "\n",
        "from minisom import MiniSom\n",
        "from sklearn.cluster import KMeans\n",
        "\n",
        "from sklearn.model_selection import train_test_split\n",
        "from sklearn.metrics import classification_report\n",
        "\n",
        "from sklearn.preprocessing import scale\n",
        "from sklearn.preprocessing import LabelEncoder\n",
        "from sklearn.preprocessing import StandardScaler\n",
        "from sklearn.model_selection import train_test_split\n",
        "from sklearn.neighbors import KNeighborsClassifier\n",
        "from sklearn.metrics import confusion_matrix\n",
        "from sklearn.metrics import accuracy_score\n",
        "from sklearn.manifold import TSNE\n",
        "\n",
        "from mlxtend.plotting import plot_confusion_matrix\n",
        "from sklearn.ensemble import IsolationForest\n",
        "seaborn.set()\n",
        "\n",
        "import datetime\n",
        "import time\n",
        "\n",
        "from google.colab import drive\n",
        "drive.mount('/content/drive')\n",
        "\n",
        "#print(tf.__version__)"
      ]
    },
    {
      "cell_type": "markdown",
      "source": [
        "# **Dataset**\n",
        " \n",
        "Os Dados são de um equipamento chamado **Disdrômetro RD80** (também chamado de **Joss**). Instalado próximo à torre **ATTO**, em um sítio chamado Campina, na região amazônica, o Disdrômetro RD80 mede a distribuição das gotas de chuva que chegam à superfície."
      ],
      "metadata": {
        "id": "EyIldOmMMLJ7"
      }
    },
    {
      "cell_type": "markdown",
      "source": [
        "## **Importação, Formatação, Tratamento e Visualização dos dados**"
      ],
      "metadata": {
        "id": "mKuzj0eJ8bu2"
      }
    },
    {
      "cell_type": "code",
      "source": [
        "#Importando dos dados\n",
        "df_rd80_dataset = pd.read_csv(\"/content/drive/MyDrive/MestradoCAP/Lourenco/cap351/Datasets/Proj2/df_class_rd80.csv\")\n",
        "df_rd80_dataset = pd.DataFrame(df_rd80_dataset)\n",
        "\n",
        "#Aqui verificamos o tamanho e quantidade de atributos do Dataset\n",
        "print('Tamanho do dataset: ',df_rd80_dataset.shape[0], ', quantidade de atributos: ', df_rd80_dataset.shape[1])"
      ],
      "metadata": {
        "colab": {
          "base_uri": "https://localhost:8080/"
        },
        "id": "noopX0HYu-Gb",
        "outputId": "bf201fa9-b9c6-4fa5-a8df-9f44430bfe32"
      },
      "execution_count": 15,
      "outputs": [
        {
          "output_type": "stream",
          "name": "stdout",
          "text": [
            "Tamanho do dataset:  315420 , quantidade de atributos:  13\n"
          ]
        }
      ]
    },
    {
      "cell_type": "markdown",
      "source": [
        "Como podemos ver, o tamanho do nosso Dataset é de 315.420 e isso pode ocasionar um custo computacional muito alto durante os experimentos e testes do Projeto. Sendo assim, será utilizado apenas 1/3 dos dados."
      ],
      "metadata": {
        "id": "axUwkq6miwnM"
      }
    },
    {
      "cell_type": "code",
      "source": [
        "#Definindo uma parte do Dataset para usá-lo neste Projeto\n",
        "limit_date = datetime.datetime(year=2022, month=5,day=1)\n",
        "\n",
        "df_rd80_dataset = df_rd80_dataset.set_index('Datetime')\n",
        "\n",
        "df_rd80_dataset = df_rd80_dataset.loc[df_rd80_dataset.index >= str(limit_date)]\n",
        "#df_rd80 = df_rd80.loc[df_rd80['Rain Intensity (mm/h)'] > 0]\n",
        "#df_rd80_dataset.reset_index(inplace=True)\n",
        "\n",
        "print('Tamanho do Dataset que será utilizado: ', df_rd80_dataset.shape[0])"
      ],
      "metadata": {
        "colab": {
          "base_uri": "https://localhost:8080/"
        },
        "id": "WOQQ_aSuiz0t",
        "outputId": "bdb7e5d1-beb5-42b5-d58a-f3e54f24c70f"
      },
      "execution_count": 16,
      "outputs": [
        {
          "output_type": "stream",
          "name": "stdout",
          "text": [
            "Tamanho do Dataset que será utilizado:  77681\n"
          ]
        }
      ]
    },
    {
      "cell_type": "code",
      "source": [
        "df_rd80_dataset[['Rain Intensity (mm/h)', 'radar reflectivity (1/mm6m3)',\n",
        "       'Liquid watercontent (g/m3)', 'Mean weight diameter(mm)',\n",
        "       'Time integration (s)', 'Class_Rain_id', 'Class_Rain']].head(n=10)"
      ],
      "metadata": {
        "colab": {
          "base_uri": "https://localhost:8080/",
          "height": 629
        },
        "id": "o2KznSQ14QNe",
        "outputId": "0798ca57-3176-4d88-d13c-5d2003b20189"
      },
      "execution_count": 17,
      "outputs": [
        {
          "output_type": "execute_result",
          "data": {
            "text/plain": [
              "                     Rain Intensity (mm/h)  radar reflectivity (1/mm6m3)  \\\n",
              "Datetime                                                                   \n",
              "2022-05-01 00:00:00                    0.0                           0.0   \n",
              "2022-05-01 00:01:00                    0.0                           0.0   \n",
              "2022-05-01 00:02:00                    0.0                           0.0   \n",
              "2022-05-01 00:03:00                    0.0                           0.0   \n",
              "2022-05-01 00:04:00                    0.0                           0.0   \n",
              "2022-05-01 00:05:00                    0.0                           0.0   \n",
              "2022-05-01 00:06:00                    0.0                           0.0   \n",
              "2022-05-01 00:07:00                    0.0                           0.0   \n",
              "2022-05-01 00:08:00                    0.0                           0.0   \n",
              "2022-05-01 00:09:00                    0.0                           0.0   \n",
              "\n",
              "                     Liquid watercontent (g/m3)  Mean weight diameter(mm)  \\\n",
              "Datetime                                                                    \n",
              "2022-05-01 00:00:00                         0.0                       0.0   \n",
              "2022-05-01 00:01:00                         0.0                       0.0   \n",
              "2022-05-01 00:02:00                         0.0                       0.0   \n",
              "2022-05-01 00:03:00                         0.0                       0.0   \n",
              "2022-05-01 00:04:00                         0.0                       0.0   \n",
              "2022-05-01 00:05:00                         0.0                       0.0   \n",
              "2022-05-01 00:06:00                         0.0                       0.0   \n",
              "2022-05-01 00:07:00                         0.0                       0.0   \n",
              "2022-05-01 00:08:00                         0.0                       0.0   \n",
              "2022-05-01 00:09:00                         0.0                       0.0   \n",
              "\n",
              "                     Time integration (s)  Class_Rain_id  Class_Rain  \n",
              "Datetime                                                              \n",
              "2022-05-01 00:00:00                  60.0              0  Não choveu  \n",
              "2022-05-01 00:01:00                  60.0              0  Não choveu  \n",
              "2022-05-01 00:02:00                  60.0              0  Não choveu  \n",
              "2022-05-01 00:03:00                  60.0              0  Não choveu  \n",
              "2022-05-01 00:04:00                  60.0              0  Não choveu  \n",
              "2022-05-01 00:05:00                  60.0              0  Não choveu  \n",
              "2022-05-01 00:06:00                  60.0              0  Não choveu  \n",
              "2022-05-01 00:07:00                  60.0              0  Não choveu  \n",
              "2022-05-01 00:08:00                  60.0              0  Não choveu  \n",
              "2022-05-01 00:09:00                  60.0              0  Não choveu  "
            ],
            "text/html": [
              "\n",
              "  <div id=\"df-84880a81-be5e-4315-adcf-a0816ac4bd98\">\n",
              "    <div class=\"colab-df-container\">\n",
              "      <div>\n",
              "<style scoped>\n",
              "    .dataframe tbody tr th:only-of-type {\n",
              "        vertical-align: middle;\n",
              "    }\n",
              "\n",
              "    .dataframe tbody tr th {\n",
              "        vertical-align: top;\n",
              "    }\n",
              "\n",
              "    .dataframe thead th {\n",
              "        text-align: right;\n",
              "    }\n",
              "</style>\n",
              "<table border=\"1\" class=\"dataframe\">\n",
              "  <thead>\n",
              "    <tr style=\"text-align: right;\">\n",
              "      <th></th>\n",
              "      <th>Rain Intensity (mm/h)</th>\n",
              "      <th>radar reflectivity (1/mm6m3)</th>\n",
              "      <th>Liquid watercontent (g/m3)</th>\n",
              "      <th>Mean weight diameter(mm)</th>\n",
              "      <th>Time integration (s)</th>\n",
              "      <th>Class_Rain_id</th>\n",
              "      <th>Class_Rain</th>\n",
              "    </tr>\n",
              "    <tr>\n",
              "      <th>Datetime</th>\n",
              "      <th></th>\n",
              "      <th></th>\n",
              "      <th></th>\n",
              "      <th></th>\n",
              "      <th></th>\n",
              "      <th></th>\n",
              "      <th></th>\n",
              "    </tr>\n",
              "  </thead>\n",
              "  <tbody>\n",
              "    <tr>\n",
              "      <th>2022-05-01 00:00:00</th>\n",
              "      <td>0.0</td>\n",
              "      <td>0.0</td>\n",
              "      <td>0.0</td>\n",
              "      <td>0.0</td>\n",
              "      <td>60.0</td>\n",
              "      <td>0</td>\n",
              "      <td>Não choveu</td>\n",
              "    </tr>\n",
              "    <tr>\n",
              "      <th>2022-05-01 00:01:00</th>\n",
              "      <td>0.0</td>\n",
              "      <td>0.0</td>\n",
              "      <td>0.0</td>\n",
              "      <td>0.0</td>\n",
              "      <td>60.0</td>\n",
              "      <td>0</td>\n",
              "      <td>Não choveu</td>\n",
              "    </tr>\n",
              "    <tr>\n",
              "      <th>2022-05-01 00:02:00</th>\n",
              "      <td>0.0</td>\n",
              "      <td>0.0</td>\n",
              "      <td>0.0</td>\n",
              "      <td>0.0</td>\n",
              "      <td>60.0</td>\n",
              "      <td>0</td>\n",
              "      <td>Não choveu</td>\n",
              "    </tr>\n",
              "    <tr>\n",
              "      <th>2022-05-01 00:03:00</th>\n",
              "      <td>0.0</td>\n",
              "      <td>0.0</td>\n",
              "      <td>0.0</td>\n",
              "      <td>0.0</td>\n",
              "      <td>60.0</td>\n",
              "      <td>0</td>\n",
              "      <td>Não choveu</td>\n",
              "    </tr>\n",
              "    <tr>\n",
              "      <th>2022-05-01 00:04:00</th>\n",
              "      <td>0.0</td>\n",
              "      <td>0.0</td>\n",
              "      <td>0.0</td>\n",
              "      <td>0.0</td>\n",
              "      <td>60.0</td>\n",
              "      <td>0</td>\n",
              "      <td>Não choveu</td>\n",
              "    </tr>\n",
              "    <tr>\n",
              "      <th>2022-05-01 00:05:00</th>\n",
              "      <td>0.0</td>\n",
              "      <td>0.0</td>\n",
              "      <td>0.0</td>\n",
              "      <td>0.0</td>\n",
              "      <td>60.0</td>\n",
              "      <td>0</td>\n",
              "      <td>Não choveu</td>\n",
              "    </tr>\n",
              "    <tr>\n",
              "      <th>2022-05-01 00:06:00</th>\n",
              "      <td>0.0</td>\n",
              "      <td>0.0</td>\n",
              "      <td>0.0</td>\n",
              "      <td>0.0</td>\n",
              "      <td>60.0</td>\n",
              "      <td>0</td>\n",
              "      <td>Não choveu</td>\n",
              "    </tr>\n",
              "    <tr>\n",
              "      <th>2022-05-01 00:07:00</th>\n",
              "      <td>0.0</td>\n",
              "      <td>0.0</td>\n",
              "      <td>0.0</td>\n",
              "      <td>0.0</td>\n",
              "      <td>60.0</td>\n",
              "      <td>0</td>\n",
              "      <td>Não choveu</td>\n",
              "    </tr>\n",
              "    <tr>\n",
              "      <th>2022-05-01 00:08:00</th>\n",
              "      <td>0.0</td>\n",
              "      <td>0.0</td>\n",
              "      <td>0.0</td>\n",
              "      <td>0.0</td>\n",
              "      <td>60.0</td>\n",
              "      <td>0</td>\n",
              "      <td>Não choveu</td>\n",
              "    </tr>\n",
              "    <tr>\n",
              "      <th>2022-05-01 00:09:00</th>\n",
              "      <td>0.0</td>\n",
              "      <td>0.0</td>\n",
              "      <td>0.0</td>\n",
              "      <td>0.0</td>\n",
              "      <td>60.0</td>\n",
              "      <td>0</td>\n",
              "      <td>Não choveu</td>\n",
              "    </tr>\n",
              "  </tbody>\n",
              "</table>\n",
              "</div>\n",
              "      <button class=\"colab-df-convert\" onclick=\"convertToInteractive('df-84880a81-be5e-4315-adcf-a0816ac4bd98')\"\n",
              "              title=\"Convert this dataframe to an interactive table.\"\n",
              "              style=\"display:none;\">\n",
              "        \n",
              "  <svg xmlns=\"http://www.w3.org/2000/svg\" height=\"24px\"viewBox=\"0 0 24 24\"\n",
              "       width=\"24px\">\n",
              "    <path d=\"M0 0h24v24H0V0z\" fill=\"none\"/>\n",
              "    <path d=\"M18.56 5.44l.94 2.06.94-2.06 2.06-.94-2.06-.94-.94-2.06-.94 2.06-2.06.94zm-11 1L8.5 8.5l.94-2.06 2.06-.94-2.06-.94L8.5 2.5l-.94 2.06-2.06.94zm10 10l.94 2.06.94-2.06 2.06-.94-2.06-.94-.94-2.06-.94 2.06-2.06.94z\"/><path d=\"M17.41 7.96l-1.37-1.37c-.4-.4-.92-.59-1.43-.59-.52 0-1.04.2-1.43.59L10.3 9.45l-7.72 7.72c-.78.78-.78 2.05 0 2.83L4 21.41c.39.39.9.59 1.41.59.51 0 1.02-.2 1.41-.59l7.78-7.78 2.81-2.81c.8-.78.8-2.07 0-2.86zM5.41 20L4 18.59l7.72-7.72 1.47 1.35L5.41 20z\"/>\n",
              "  </svg>\n",
              "      </button>\n",
              "      \n",
              "  <style>\n",
              "    .colab-df-container {\n",
              "      display:flex;\n",
              "      flex-wrap:wrap;\n",
              "      gap: 12px;\n",
              "    }\n",
              "\n",
              "    .colab-df-convert {\n",
              "      background-color: #E8F0FE;\n",
              "      border: none;\n",
              "      border-radius: 50%;\n",
              "      cursor: pointer;\n",
              "      display: none;\n",
              "      fill: #1967D2;\n",
              "      height: 32px;\n",
              "      padding: 0 0 0 0;\n",
              "      width: 32px;\n",
              "    }\n",
              "\n",
              "    .colab-df-convert:hover {\n",
              "      background-color: #E2EBFA;\n",
              "      box-shadow: 0px 1px 2px rgba(60, 64, 67, 0.3), 0px 1px 3px 1px rgba(60, 64, 67, 0.15);\n",
              "      fill: #174EA6;\n",
              "    }\n",
              "\n",
              "    [theme=dark] .colab-df-convert {\n",
              "      background-color: #3B4455;\n",
              "      fill: #D2E3FC;\n",
              "    }\n",
              "\n",
              "    [theme=dark] .colab-df-convert:hover {\n",
              "      background-color: #434B5C;\n",
              "      box-shadow: 0px 1px 3px 1px rgba(0, 0, 0, 0.15);\n",
              "      filter: drop-shadow(0px 1px 2px rgba(0, 0, 0, 0.3));\n",
              "      fill: #FFFFFF;\n",
              "    }\n",
              "  </style>\n",
              "\n",
              "      <script>\n",
              "        const buttonEl =\n",
              "          document.querySelector('#df-84880a81-be5e-4315-adcf-a0816ac4bd98 button.colab-df-convert');\n",
              "        buttonEl.style.display =\n",
              "          google.colab.kernel.accessAllowed ? 'block' : 'none';\n",
              "\n",
              "        async function convertToInteractive(key) {\n",
              "          const element = document.querySelector('#df-84880a81-be5e-4315-adcf-a0816ac4bd98');\n",
              "          const dataTable =\n",
              "            await google.colab.kernel.invokeFunction('convertToInteractive',\n",
              "                                                     [key], {});\n",
              "          if (!dataTable) return;\n",
              "\n",
              "          const docLinkHtml = 'Like what you see? Visit the ' +\n",
              "            '<a target=\"_blank\" href=https://colab.research.google.com/notebooks/data_table.ipynb>data table notebook</a>'\n",
              "            + ' to learn more about interactive tables.';\n",
              "          element.innerHTML = '';\n",
              "          dataTable['output_type'] = 'display_data';\n",
              "          await google.colab.output.renderOutput(dataTable, element);\n",
              "          const docLink = document.createElement('div');\n",
              "          docLink.innerHTML = docLinkHtml;\n",
              "          element.appendChild(docLink);\n",
              "        }\n",
              "      </script>\n",
              "    </div>\n",
              "  </div>\n",
              "  "
            ]
          },
          "metadata": {},
          "execution_count": 17
        }
      ]
    },
    {
      "cell_type": "code",
      "source": [
        "df_df_rd80_columns = df_rd80_dataset[['Rain Intensity (mm/h)', 'radar reflectivity (1/mm6m3)', 'Class_Rain_id', 'Class_Rain']]\n",
        "\n",
        "df_df_rd80 = df_rd80_dataset[['Rain Intensity (mm/h)','radar reflectivity (1/mm6m3)']]\n"
      ],
      "metadata": {
        "id": "-2tMUJZG9_Ix"
      },
      "execution_count": 18,
      "outputs": []
    },
    {
      "cell_type": "markdown",
      "source": [
        "**Padronização dos dados**"
      ],
      "metadata": {
        "id": "mqzx7i28BYNK"
      }
    },
    {
      "cell_type": "code",
      "source": [
        "df_values = df_df_rd80.values \n",
        "df_values = df_values.reshape(-1, len(df_df_rd80.columns))\n",
        "\n",
        "standardizer = StandardScaler().fit(df_values)\n",
        "df_std = standardizer.transform(df_values)\n",
        "df_std = pd.DataFrame(df_std, columns=df_df_rd80.columns)\n",
        "df_std.describe()"
      ],
      "metadata": {
        "colab": {
          "base_uri": "https://localhost:8080/",
          "height": 300
        },
        "id": "KLwDH8iJBc2h",
        "outputId": "dc51cff6-94fa-4c14-b74f-7bff74eb8623"
      },
      "execution_count": 19,
      "outputs": [
        {
          "output_type": "execute_result",
          "data": {
            "text/plain": [
              "       Rain Intensity (mm/h)  radar reflectivity (1/mm6m3)\n",
              "count           7.768100e+04                  7.768100e+04\n",
              "mean            3.366071e-17                 -4.390527e-18\n",
              "std             1.000006e+00                  1.000006e+00\n",
              "min            -9.606801e-02                 -6.833360e-02\n",
              "25%            -9.606801e-02                 -6.833360e-02\n",
              "50%            -9.606801e-02                 -6.833360e-02\n",
              "75%            -9.606801e-02                 -6.833360e-02\n",
              "max             3.235538e+01                  4.656160e+01"
            ],
            "text/html": [
              "\n",
              "  <div id=\"df-11276c6a-5451-446f-ae9b-452e3c34fa02\">\n",
              "    <div class=\"colab-df-container\">\n",
              "      <div>\n",
              "<style scoped>\n",
              "    .dataframe tbody tr th:only-of-type {\n",
              "        vertical-align: middle;\n",
              "    }\n",
              "\n",
              "    .dataframe tbody tr th {\n",
              "        vertical-align: top;\n",
              "    }\n",
              "\n",
              "    .dataframe thead th {\n",
              "        text-align: right;\n",
              "    }\n",
              "</style>\n",
              "<table border=\"1\" class=\"dataframe\">\n",
              "  <thead>\n",
              "    <tr style=\"text-align: right;\">\n",
              "      <th></th>\n",
              "      <th>Rain Intensity (mm/h)</th>\n",
              "      <th>radar reflectivity (1/mm6m3)</th>\n",
              "    </tr>\n",
              "  </thead>\n",
              "  <tbody>\n",
              "    <tr>\n",
              "      <th>count</th>\n",
              "      <td>7.768100e+04</td>\n",
              "      <td>7.768100e+04</td>\n",
              "    </tr>\n",
              "    <tr>\n",
              "      <th>mean</th>\n",
              "      <td>3.366071e-17</td>\n",
              "      <td>-4.390527e-18</td>\n",
              "    </tr>\n",
              "    <tr>\n",
              "      <th>std</th>\n",
              "      <td>1.000006e+00</td>\n",
              "      <td>1.000006e+00</td>\n",
              "    </tr>\n",
              "    <tr>\n",
              "      <th>min</th>\n",
              "      <td>-9.606801e-02</td>\n",
              "      <td>-6.833360e-02</td>\n",
              "    </tr>\n",
              "    <tr>\n",
              "      <th>25%</th>\n",
              "      <td>-9.606801e-02</td>\n",
              "      <td>-6.833360e-02</td>\n",
              "    </tr>\n",
              "    <tr>\n",
              "      <th>50%</th>\n",
              "      <td>-9.606801e-02</td>\n",
              "      <td>-6.833360e-02</td>\n",
              "    </tr>\n",
              "    <tr>\n",
              "      <th>75%</th>\n",
              "      <td>-9.606801e-02</td>\n",
              "      <td>-6.833360e-02</td>\n",
              "    </tr>\n",
              "    <tr>\n",
              "      <th>max</th>\n",
              "      <td>3.235538e+01</td>\n",
              "      <td>4.656160e+01</td>\n",
              "    </tr>\n",
              "  </tbody>\n",
              "</table>\n",
              "</div>\n",
              "      <button class=\"colab-df-convert\" onclick=\"convertToInteractive('df-11276c6a-5451-446f-ae9b-452e3c34fa02')\"\n",
              "              title=\"Convert this dataframe to an interactive table.\"\n",
              "              style=\"display:none;\">\n",
              "        \n",
              "  <svg xmlns=\"http://www.w3.org/2000/svg\" height=\"24px\"viewBox=\"0 0 24 24\"\n",
              "       width=\"24px\">\n",
              "    <path d=\"M0 0h24v24H0V0z\" fill=\"none\"/>\n",
              "    <path d=\"M18.56 5.44l.94 2.06.94-2.06 2.06-.94-2.06-.94-.94-2.06-.94 2.06-2.06.94zm-11 1L8.5 8.5l.94-2.06 2.06-.94-2.06-.94L8.5 2.5l-.94 2.06-2.06.94zm10 10l.94 2.06.94-2.06 2.06-.94-2.06-.94-.94-2.06-.94 2.06-2.06.94z\"/><path d=\"M17.41 7.96l-1.37-1.37c-.4-.4-.92-.59-1.43-.59-.52 0-1.04.2-1.43.59L10.3 9.45l-7.72 7.72c-.78.78-.78 2.05 0 2.83L4 21.41c.39.39.9.59 1.41.59.51 0 1.02-.2 1.41-.59l7.78-7.78 2.81-2.81c.8-.78.8-2.07 0-2.86zM5.41 20L4 18.59l7.72-7.72 1.47 1.35L5.41 20z\"/>\n",
              "  </svg>\n",
              "      </button>\n",
              "      \n",
              "  <style>\n",
              "    .colab-df-container {\n",
              "      display:flex;\n",
              "      flex-wrap:wrap;\n",
              "      gap: 12px;\n",
              "    }\n",
              "\n",
              "    .colab-df-convert {\n",
              "      background-color: #E8F0FE;\n",
              "      border: none;\n",
              "      border-radius: 50%;\n",
              "      cursor: pointer;\n",
              "      display: none;\n",
              "      fill: #1967D2;\n",
              "      height: 32px;\n",
              "      padding: 0 0 0 0;\n",
              "      width: 32px;\n",
              "    }\n",
              "\n",
              "    .colab-df-convert:hover {\n",
              "      background-color: #E2EBFA;\n",
              "      box-shadow: 0px 1px 2px rgba(60, 64, 67, 0.3), 0px 1px 3px 1px rgba(60, 64, 67, 0.15);\n",
              "      fill: #174EA6;\n",
              "    }\n",
              "\n",
              "    [theme=dark] .colab-df-convert {\n",
              "      background-color: #3B4455;\n",
              "      fill: #D2E3FC;\n",
              "    }\n",
              "\n",
              "    [theme=dark] .colab-df-convert:hover {\n",
              "      background-color: #434B5C;\n",
              "      box-shadow: 0px 1px 3px 1px rgba(0, 0, 0, 0.15);\n",
              "      filter: drop-shadow(0px 1px 2px rgba(0, 0, 0, 0.3));\n",
              "      fill: #FFFFFF;\n",
              "    }\n",
              "  </style>\n",
              "\n",
              "      <script>\n",
              "        const buttonEl =\n",
              "          document.querySelector('#df-11276c6a-5451-446f-ae9b-452e3c34fa02 button.colab-df-convert');\n",
              "        buttonEl.style.display =\n",
              "          google.colab.kernel.accessAllowed ? 'block' : 'none';\n",
              "\n",
              "        async function convertToInteractive(key) {\n",
              "          const element = document.querySelector('#df-11276c6a-5451-446f-ae9b-452e3c34fa02');\n",
              "          const dataTable =\n",
              "            await google.colab.kernel.invokeFunction('convertToInteractive',\n",
              "                                                     [key], {});\n",
              "          if (!dataTable) return;\n",
              "\n",
              "          const docLinkHtml = 'Like what you see? Visit the ' +\n",
              "            '<a target=\"_blank\" href=https://colab.research.google.com/notebooks/data_table.ipynb>data table notebook</a>'\n",
              "            + ' to learn more about interactive tables.';\n",
              "          element.innerHTML = '';\n",
              "          dataTable['output_type'] = 'display_data';\n",
              "          await google.colab.output.renderOutput(dataTable, element);\n",
              "          const docLink = document.createElement('div');\n",
              "          docLink.innerHTML = docLinkHtml;\n",
              "          element.appendChild(docLink);\n",
              "        }\n",
              "      </script>\n",
              "    </div>\n",
              "  </div>\n",
              "  "
            ]
          },
          "metadata": {},
          "execution_count": 19
        }
      ]
    },
    {
      "cell_type": "markdown",
      "source": [
        "**Clusterização - Identificando a anomalia com k-means**\n",
        "\n",
        "O K-means é um algoritmo do tipo não supervisionado, cujo objetivo é encontrar similaridades entre os dados e agrupá-los em um número de clusteres definidos pelo parâmetro k."
      ],
      "metadata": {
        "id": "BpTKUqmgP0hK"
      }
    },
    {
      "cell_type": "code",
      "source": [
        "data_array = df_std.values\n",
        "kmeans = KMeans(n_clusters=6, init='k-means++', n_init=10, random_state=42)\n",
        "df_std[\"cluster\"] = kmeans.fit_predict(data_array)\n",
        "df_std.groupby(\"cluster\").aggregate(\"mean\").plot.bar(figsize=(12,7))\n",
        "plt.title(\"Opções clusterizadas\")\n",
        "plt.show()"
      ],
      "metadata": {
        "colab": {
          "base_uri": "https://localhost:8080/",
          "height": 461
        },
        "id": "rvsvZCLqBoiZ",
        "outputId": "5f339dda-ae55-45ca-a82e-299a4f967b12"
      },
      "execution_count": 20,
      "outputs": [
        {
          "output_type": "display_data",
          "data": {
            "text/plain": [
              "<Figure size 864x504 with 1 Axes>"
            ],
            "image/png": "[encoded data removed]"
          },
          "metadata": {}
        }
      ]
    },
    {
      "cell_type": "code",
      "source": [
        "#modelo = KMeans(n_clusters=5)\n",
        "#modelo.fit(df_std)\n",
        "#modelo.labels_\n",
        "\n",
        "#grupos = pd.DataFrame(modelo.cluster_centers_, columns=df_std.columns)\n",
        "#grupos\n",
        "\n",
        "#grupos.transpose().plot.bar( figsize=(15,10),sharex=False)"
      ],
      "metadata": {
        "id": "DRCcP9gF83Ru"
      },
      "execution_count": null,
      "outputs": []
    },
    {
      "cell_type": "markdown",
      "source": [
        "O gráfico mostra que dentre os clusteres encontrados pelo modelo, há um que foge do comportamento padrão: o cluster 3. Os registros agrupados nesse cluster serão definidos como anômalos."
      ],
      "metadata": {
        "id": "aIMxnscxCaeB"
      }
    },
    {
      "cell_type": "markdown",
      "source": [
        "**Definir label para anomalia**"
      ],
      "metadata": {
        "id": "1CM0AtzZTY3y"
      }
    },
    {
      "cell_type": "code",
      "source": [
        "df_std['anomalia'] = 0\n",
        "df_std.loc[df_std['cluster'] == 2, 'anomalia'] = 1"
      ],
      "metadata": {
        "id": "Dce1_ORzCfuK"
      },
      "execution_count": 21,
      "outputs": []
    },
    {
      "cell_type": "code",
      "source": [
        "df_std.loc[(df_std['anomalia']) == 1].head(10)"
      ],
      "metadata": {
        "colab": {
          "base_uri": "https://localhost:8080/",
          "height": 363
        },
        "id": "F223PEbpCjkI",
        "outputId": "bbaf9d5e-e13d-4d95-9a40-50e0281405dd"
      },
      "execution_count": 22,
      "outputs": [
        {
          "output_type": "execute_result",
          "data": {
            "text/plain": [
              "       Rain Intensity (mm/h)  radar reflectivity (1/mm6m3)  cluster  anomalia\n",
              "10891              21.732498                     42.008999        2         1\n",
              "10892              19.920649                     34.538566        2         1\n",
              "10893              25.385219                     41.128838        2         1\n",
              "10894              20.111194                     29.444698        2         1\n",
              "21345              24.802638                     46.561604        2         1\n",
              "26216              11.851504                     33.772424        2         1\n",
              "26217              23.594852                     42.976209        2         1\n",
              "36030              16.037541                     41.322297        2         1\n",
              "36032              23.436982                     27.484321        2         1\n",
              "36033              23.632380                     29.926017        2         1"
            ],
            "text/html": [
              "\n",
              "  <div id=\"df-a8447c17-edda-4521-9fd0-34d2fb7e80be\">\n",
              "    <div class=\"colab-df-container\">\n",
              "      <div>\n",
              "<style scoped>\n",
              "    .dataframe tbody tr th:only-of-type {\n",
              "        vertical-align: middle;\n",
              "    }\n",
              "\n",
              "    .dataframe tbody tr th {\n",
              "        vertical-align: top;\n",
              "    }\n",
              "\n",
              "    .dataframe thead th {\n",
              "        text-align: right;\n",
              "    }\n",
              "</style>\n",
              "<table border=\"1\" class=\"dataframe\">\n",
              "  <thead>\n",
              "    <tr style=\"text-align: right;\">\n",
              "      <th></th>\n",
              "      <th>Rain Intensity (mm/h)</th>\n",
              "      <th>radar reflectivity (1/mm6m3)</th>\n",
              "      <th>cluster</th>\n",
              "      <th>anomalia</th>\n",
              "    </tr>\n",
              "  </thead>\n",
              "  <tbody>\n",
              "    <tr>\n",
              "      <th>10891</th>\n",
              "      <td>21.732498</td>\n",
              "      <td>42.008999</td>\n",
              "      <td>2</td>\n",
              "      <td>1</td>\n",
              "    </tr>\n",
              "    <tr>\n",
              "      <th>10892</th>\n",
              "      <td>19.920649</td>\n",
              "      <td>34.538566</td>\n",
              "      <td>2</td>\n",
              "      <td>1</td>\n",
              "    </tr>\n",
              "    <tr>\n",
              "      <th>10893</th>\n",
              "      <td>25.385219</td>\n",
              "      <td>41.128838</td>\n",
              "      <td>2</td>\n",
              "      <td>1</td>\n",
              "    </tr>\n",
              "    <tr>\n",
              "      <th>10894</th>\n",
              "      <td>20.111194</td>\n",
              "      <td>29.444698</td>\n",
              "      <td>2</td>\n",
              "      <td>1</td>\n",
              "    </tr>\n",
              "    <tr>\n",
              "      <th>21345</th>\n",
              "      <td>24.802638</td>\n",
              "      <td>46.561604</td>\n",
              "      <td>2</td>\n",
              "      <td>1</td>\n",
              "    </tr>\n",
              "    <tr>\n",
              "      <th>26216</th>\n",
              "      <td>11.851504</td>\n",
              "      <td>33.772424</td>\n",
              "      <td>2</td>\n",
              "      <td>1</td>\n",
              "    </tr>\n",
              "    <tr>\n",
              "      <th>26217</th>\n",
              "      <td>23.594852</td>\n",
              "      <td>42.976209</td>\n",
              "      <td>2</td>\n",
              "      <td>1</td>\n",
              "    </tr>\n",
              "    <tr>\n",
              "      <th>36030</th>\n",
              "      <td>16.037541</td>\n",
              "      <td>41.322297</td>\n",
              "      <td>2</td>\n",
              "      <td>1</td>\n",
              "    </tr>\n",
              "    <tr>\n",
              "      <th>36032</th>\n",
              "      <td>23.436982</td>\n",
              "      <td>27.484321</td>\n",
              "      <td>2</td>\n",
              "      <td>1</td>\n",
              "    </tr>\n",
              "    <tr>\n",
              "      <th>36033</th>\n",
              "      <td>23.632380</td>\n",
              "      <td>29.926017</td>\n",
              "      <td>2</td>\n",
              "      <td>1</td>\n",
              "    </tr>\n",
              "  </tbody>\n",
              "</table>\n",
              "</div>\n",
              "      <button class=\"colab-df-convert\" onclick=\"convertToInteractive('df-a8447c17-edda-4521-9fd0-34d2fb7e80be')\"\n",
              "              title=\"Convert this dataframe to an interactive table.\"\n",
              "              style=\"display:none;\">\n",
              "        \n",
              "  <svg xmlns=\"http://www.w3.org/2000/svg\" height=\"24px\"viewBox=\"0 0 24 24\"\n",
              "       width=\"24px\">\n",
              "    <path d=\"M0 0h24v24H0V0z\" fill=\"none\"/>\n",
              "    <path d=\"M18.56 5.44l.94 2.06.94-2.06 2.06-.94-2.06-.94-.94-2.06-.94 2.06-2.06.94zm-11 1L8.5 8.5l.94-2.06 2.06-.94-2.06-.94L8.5 2.5l-.94 2.06-2.06.94zm10 10l.94 2.06.94-2.06 2.06-.94-2.06-.94-.94-2.06-.94 2.06-2.06.94z\"/><path d=\"M17.41 7.96l-1.37-1.37c-.4-.4-.92-.59-1.43-.59-.52 0-1.04.2-1.43.59L10.3 9.45l-7.72 7.72c-.78.78-.78 2.05 0 2.83L4 21.41c.39.39.9.59 1.41.59.51 0 1.02-.2 1.41-.59l7.78-7.78 2.81-2.81c.8-.78.8-2.07 0-2.86zM5.41 20L4 18.59l7.72-7.72 1.47 1.35L5.41 20z\"/>\n",
              "  </svg>\n",
              "      </button>\n",
              "      \n",
              "  <style>\n",
              "    .colab-df-container {\n",
              "      display:flex;\n",
              "      flex-wrap:wrap;\n",
              "      gap: 12px;\n",
              "    }\n",
              "\n",
              "    .colab-df-convert {\n",
              "      background-color: #E8F0FE;\n",
              "      border: none;\n",
              "      border-radius: 50%;\n",
              "      cursor: pointer;\n",
              "      display: none;\n",
              "      fill: #1967D2;\n",
              "      height: 32px;\n",
              "      padding: 0 0 0 0;\n",
              "      width: 32px;\n",
              "    }\n",
              "\n",
              "    .colab-df-convert:hover {\n",
              "      background-color: #E2EBFA;\n",
              "      box-shadow: 0px 1px 2px rgba(60, 64, 67, 0.3), 0px 1px 3px 1px rgba(60, 64, 67, 0.15);\n",
              "      fill: #174EA6;\n",
              "    }\n",
              "\n",
              "    [theme=dark] .colab-df-convert {\n",
              "      background-color: #3B4455;\n",
              "      fill: #D2E3FC;\n",
              "    }\n",
              "\n",
              "    [theme=dark] .colab-df-convert:hover {\n",
              "      background-color: #434B5C;\n",
              "      box-shadow: 0px 1px 3px 1px rgba(0, 0, 0, 0.15);\n",
              "      filter: drop-shadow(0px 1px 2px rgba(0, 0, 0, 0.3));\n",
              "      fill: #FFFFFF;\n",
              "    }\n",
              "  </style>\n",
              "\n",
              "      <script>\n",
              "        const buttonEl =\n",
              "          document.querySelector('#df-a8447c17-edda-4521-9fd0-34d2fb7e80be button.colab-df-convert');\n",
              "        buttonEl.style.display =\n",
              "          google.colab.kernel.accessAllowed ? 'block' : 'none';\n",
              "\n",
              "        async function convertToInteractive(key) {\n",
              "          const element = document.querySelector('#df-a8447c17-edda-4521-9fd0-34d2fb7e80be');\n",
              "          const dataTable =\n",
              "            await google.colab.kernel.invokeFunction('convertToInteractive',\n",
              "                                                     [key], {});\n",
              "          if (!dataTable) return;\n",
              "\n",
              "          const docLinkHtml = 'Like what you see? Visit the ' +\n",
              "            '<a target=\"_blank\" href=https://colab.research.google.com/notebooks/data_table.ipynb>data table notebook</a>'\n",
              "            + ' to learn more about interactive tables.';\n",
              "          element.innerHTML = '';\n",
              "          dataTable['output_type'] = 'display_data';\n",
              "          await google.colab.output.renderOutput(dataTable, element);\n",
              "          const docLink = document.createElement('div');\n",
              "          docLink.innerHTML = docLinkHtml;\n",
              "          element.appendChild(docLink);\n",
              "        }\n",
              "      </script>\n",
              "    </div>\n",
              "  </div>\n",
              "  "
            ]
          },
          "metadata": {},
          "execution_count": 22
        }
      ]
    },
    {
      "cell_type": "markdown",
      "source": [
        "**Visualizando os clusteres formados**"
      ],
      "metadata": {
        "id": "5WzNEXPHTUXe"
      }
    },
    {
      "cell_type": "code",
      "source": [
        "cor = ['b', 'g', 'r', 'c', 'm', 'y']\n",
        "i=0\n",
        "\n",
        "plt.figure(figsize=(10,7))\n",
        "for cluster in df_std['cluster'].unique():\n",
        "    df = df_std.loc[df_std['cluster'] == cluster]\n",
        "    \n",
        "    plt.scatter(df['Rain Intensity (mm/h)'], df['radar reflectivity (1/mm6m3)'], c=cor[i],alpha=0.3)\n",
        "    i += 1\n",
        "plt.title(\"Clusters\")\n",
        "plt.show()"
      ],
      "metadata": {
        "colab": {
          "base_uri": "https://localhost:8080/",
          "height": 447
        },
        "id": "-c8ZLOvvCoqy",
        "outputId": "378a1a53-417e-4f9a-8629-f3852fd1b08b"
      },
      "execution_count": 23,
      "outputs": [
        {
          "output_type": "display_data",
          "data": {
            "text/plain": [
              "<Figure size 720x504 with 1 Axes>"
            ],
            "image/png": "[encoded data removed]"
          },
          "metadata": {}
        }
      ]
    },
    {
      "cell_type": "markdown",
      "source": [
        "**Visualizando o cluster anômalo**"
      ],
      "metadata": {
        "id": "gsAxPDtbTc2y"
      }
    },
    {
      "cell_type": "code",
      "source": [
        "cor = []\n",
        "plt.figure(figsize=(10,7))\n",
        "for anomalia in df_std['anomalia'] :\n",
        "    if anomalia == 1 :\n",
        "        cor.append('r')\n",
        "    else :\n",
        "        cor.append('b')\n",
        "plt.scatter(df_std['Rain Intensity (mm/h)'], df_std['radar reflectivity (1/mm6m3)'], c=cor,alpha=0.3)\n",
        "plt.title(\"Cluster anômalo\")\n",
        "plt.show()"
      ],
      "metadata": {
        "colab": {
          "base_uri": "https://localhost:8080/",
          "height": 447
        },
        "id": "3SYmDrY-C6Qg",
        "outputId": "4f6d74fc-c31f-48db-d5ee-db2e023d32e1"
      },
      "execution_count": 24,
      "outputs": [
        {
          "output_type": "display_data",
          "data": {
            "text/plain": [
              "<Figure size 720x504 with 1 Axes>"
            ],
            "image/png": "[encoded data removed]"
          },
          "metadata": {}
        }
      ]
    },
    {
      "cell_type": "markdown",
      "source": [
        "**Criando modelos de classificação**"
      ],
      "metadata": {
        "id": "KaViEBEVTh-D"
      }
    },
    {
      "cell_type": "code",
      "source": [
        "modelo = KMeans(n_clusters=3)\n",
        "modelo.fit(df_df_rd80)\n",
        "\n",
        "modelo.labels_"
      ],
      "metadata": {
        "colab": {
          "base_uri": "https://localhost:8080/"
        },
        "id": "7cNJ1gggHrXu",
        "outputId": "9c1beac1-981c-4d30-9644-4a57bc051546"
      },
      "execution_count": 67,
      "outputs": [
        {
          "output_type": "execute_result",
          "data": {
            "text/plain": [
              "array([0, 0, 0, ..., 0, 0, 0], dtype=int32)"
            ]
          },
          "metadata": {},
          "execution_count": 67
        }
      ]
    },
    {
      "cell_type": "code",
      "source": [
        "grupos_ = modelo.fit_predict(df_df_rd80)\n",
        "centroides = modelo.cluster_centers_\n",
        "\n",
        "plt.scatter(x=df_df_rd80['Rain Intensity (mm/h)'],\n",
        "            y=df_df_rd80['radar reflectivity (1/mm6m3)'],\n",
        "            c= grupos_,\n",
        "            cmap='viridis')\n",
        "plt.scatter(centroides[:, 0], centroides[:, 1],\n",
        "           marker='X', s=169, linewidths=3,\n",
        "           color='r', zorder=8)"
      ],
      "metadata": {
        "colab": {
          "base_uri": "https://localhost:8080/",
          "height": 288
        },
        "id": "HW1ynbT6-I6E",
        "outputId": "d67ae2da-a732-487d-cf99-11237540213b"
      },
      "execution_count": 68,
      "outputs": [
        {
          "output_type": "execute_result",
          "data": {
            "text/plain": [
              "<matplotlib.collections.PathCollection at 0x7fdaa3979c10>"
            ]
          },
          "metadata": {},
          "execution_count": 68
        },
        {
          "output_type": "display_data",
          "data": {
            "text/plain": [
              "<Figure size 432x288 with 1 Axes>"
            ],
            "image/png": "[encoded data removed]"
          },
          "metadata": {
            "needs_background": "light"
          }
        }
      ]
    },
    {
      "cell_type": "markdown",
      "source": [
        "\n",
        "\n",
        "---\n",
        "\n"
      ],
      "metadata": {
        "id": "1xBQbw3VIkqh"
      }
    },
    {
      "cell_type": "code",
      "source": [
        "plt.figure(figsize=(10, 8))\n",
        "\n",
        "wcss = []\n",
        "for i in range(1, 3):\n",
        "    kmeans = KMeans(n_clusters = i, init = 'k-means++', random_state = 42)\n",
        "    kmeans.fit(df_std)\n",
        "    wcss.append(kmeans.inertia_)\n",
        "plt.plot(range(1, 3), wcss)\n",
        "plt.title('The Elbow Method')\n",
        "plt.xlabel('Número de Clusters')\n",
        "plt.ylabel('Coeficiente de Silhueta')\n",
        "plt.show()"
      ],
      "metadata": {
        "colab": {
          "base_uri": "https://localhost:8080/",
          "height": 518
        },
        "id": "j1G6l-P2fA4N",
        "outputId": "8c1f9619-f875-4bb9-fcdd-340c1d713266"
      },
      "execution_count": 69,
      "outputs": [
        {
          "output_type": "display_data",
          "data": {
            "text/plain": [
              "<Figure size 720x576 with 1 Axes>"
            ],
            "image/png": "[encoded data removed]"
          },
          "metadata": {
            "needs_background": "light"
          }
        }
      ]
    },
    {
      "cell_type": "code",
      "source": [
        "df_std"
      ],
      "metadata": {
        "colab": {
          "base_uri": "https://localhost:8080/",
          "height": 424
        },
        "id": "pue3cqouiFh9",
        "outputId": "ef60bcad-51eb-4aca-a68b-25ef019a0c8d"
      },
      "execution_count": 70,
      "outputs": [
        {
          "output_type": "execute_result",
          "data": {
            "text/plain": [
              "       Rain Intensity (mm/h)  radar reflectivity (1/mm6m3)  cluster  anomalia\n",
              "0                  -0.096068                     -0.068334        0         0\n",
              "1                  -0.096068                     -0.068334        0         0\n",
              "2                  -0.096068                     -0.068334        0         0\n",
              "3                  -0.096068                     -0.068334        0         0\n",
              "4                  -0.096068                     -0.068334        0         0\n",
              "...                      ...                           ...      ...       ...\n",
              "77676              -0.096068                     -0.068319        0         0\n",
              "77677              -0.096068                     -0.068314        0         0\n",
              "77678              -0.096068                     -0.068303        0         0\n",
              "77679              -0.096068                     -0.068309        0         0\n",
              "77680              -0.096068                     -0.068334        0         0\n",
              "\n",
              "[77681 rows x 4 columns]"
            ],
            "text/html": [
              "\n",
              "  <div id=\"df-10a45681-8a57-439b-8f1c-1e9a0252fc49\">\n",
              "    <div class=\"colab-df-container\">\n",
              "      <div>\n",
              "<style scoped>\n",
              "    .dataframe tbody tr th:only-of-type {\n",
              "        vertical-align: middle;\n",
              "    }\n",
              "\n",
              "    .dataframe tbody tr th {\n",
              "        vertical-align: top;\n",
              "    }\n",
              "\n",
              "    .dataframe thead th {\n",
              "        text-align: right;\n",
              "    }\n",
              "</style>\n",
              "<table border=\"1\" class=\"dataframe\">\n",
              "  <thead>\n",
              "    <tr style=\"text-align: right;\">\n",
              "      <th></th>\n",
              "      <th>Rain Intensity (mm/h)</th>\n",
              "      <th>radar reflectivity (1/mm6m3)</th>\n",
              "      <th>cluster</th>\n",
              "      <th>anomalia</th>\n",
              "    </tr>\n",
              "  </thead>\n",
              "  <tbody>\n",
              "    <tr>\n",
              "      <th>0</th>\n",
              "      <td>-0.096068</td>\n",
              "      <td>-0.068334</td>\n",
              "      <td>0</td>\n",
              "      <td>0</td>\n",
              "    </tr>\n",
              "    <tr>\n",
              "      <th>1</th>\n",
              "      <td>-0.096068</td>\n",
              "      <td>-0.068334</td>\n",
              "      <td>0</td>\n",
              "      <td>0</td>\n",
              "    </tr>\n",
              "    <tr>\n",
              "      <th>2</th>\n",
              "      <td>-0.096068</td>\n",
              "      <td>-0.068334</td>\n",
              "      <td>0</td>\n",
              "      <td>0</td>\n",
              "    </tr>\n",
              "    <tr>\n",
              "      <th>3</th>\n",
              "      <td>-0.096068</td>\n",
              "      <td>-0.068334</td>\n",
              "      <td>0</td>\n",
              "      <td>0</td>\n",
              "    </tr>\n",
              "    <tr>\n",
              "      <th>4</th>\n",
              "      <td>-0.096068</td>\n",
              "      <td>-0.068334</td>\n",
              "      <td>0</td>\n",
              "      <td>0</td>\n",
              "    </tr>\n",
              "    <tr>\n",
              "      <th>...</th>\n",
              "      <td>...</td>\n",
              "      <td>...</td>\n",
              "      <td>...</td>\n",
              "      <td>...</td>\n",
              "    </tr>\n",
              "    <tr>\n",
              "      <th>77676</th>\n",
              "      <td>-0.096068</td>\n",
              "      <td>-0.068319</td>\n",
              "      <td>0</td>\n",
              "      <td>0</td>\n",
              "    </tr>\n",
              "    <tr>\n",
              "      <th>77677</th>\n",
              "      <td>-0.096068</td>\n",
              "      <td>-0.068314</td>\n",
              "      <td>0</td>\n",
              "      <td>0</td>\n",
              "    </tr>\n",
              "    <tr>\n",
              "      <th>77678</th>\n",
              "      <td>-0.096068</td>\n",
              "      <td>-0.068303</td>\n",
              "      <td>0</td>\n",
              "      <td>0</td>\n",
              "    </tr>\n",
              "    <tr>\n",
              "      <th>77679</th>\n",
              "      <td>-0.096068</td>\n",
              "      <td>-0.068309</td>\n",
              "      <td>0</td>\n",
              "      <td>0</td>\n",
              "    </tr>\n",
              "    <tr>\n",
              "      <th>77680</th>\n",
              "      <td>-0.096068</td>\n",
              "      <td>-0.068334</td>\n",
              "      <td>0</td>\n",
              "      <td>0</td>\n",
              "    </tr>\n",
              "  </tbody>\n",
              "</table>\n",
              "<p>77681 rows × 4 columns</p>\n",
              "</div>\n",
              "      <button class=\"colab-df-convert\" onclick=\"convertToInteractive('df-10a45681-8a57-439b-8f1c-1e9a0252fc49')\"\n",
              "              title=\"Convert this dataframe to an interactive table.\"\n",
              "              style=\"display:none;\">\n",
              "        \n",
              "  <svg xmlns=\"http://www.w3.org/2000/svg\" height=\"24px\"viewBox=\"0 0 24 24\"\n",
              "       width=\"24px\">\n",
              "    <path d=\"M0 0h24v24H0V0z\" fill=\"none\"/>\n",
              "    <path d=\"M18.56 5.44l.94 2.06.94-2.06 2.06-.94-2.06-.94-.94-2.06-.94 2.06-2.06.94zm-11 1L8.5 8.5l.94-2.06 2.06-.94-2.06-.94L8.5 2.5l-.94 2.06-2.06.94zm10 10l.94 2.06.94-2.06 2.06-.94-2.06-.94-.94-2.06-.94 2.06-2.06.94z\"/><path d=\"M17.41 7.96l-1.37-1.37c-.4-.4-.92-.59-1.43-.59-.52 0-1.04.2-1.43.59L10.3 9.45l-7.72 7.72c-.78.78-.78 2.05 0 2.83L4 21.41c.39.39.9.59 1.41.59.51 0 1.02-.2 1.41-.59l7.78-7.78 2.81-2.81c.8-.78.8-2.07 0-2.86zM5.41 20L4 18.59l7.72-7.72 1.47 1.35L5.41 20z\"/>\n",
              "  </svg>\n",
              "      </button>\n",
              "      \n",
              "  <style>\n",
              "    .colab-df-container {\n",
              "      display:flex;\n",
              "      flex-wrap:wrap;\n",
              "      gap: 12px;\n",
              "    }\n",
              "\n",
              "    .colab-df-convert {\n",
              "      background-color: #E8F0FE;\n",
              "      border: none;\n",
              "      border-radius: 50%;\n",
              "      cursor: pointer;\n",
              "      display: none;\n",
              "      fill: #1967D2;\n",
              "      height: 32px;\n",
              "      padding: 0 0 0 0;\n",
              "      width: 32px;\n",
              "    }\n",
              "\n",
              "    .colab-df-convert:hover {\n",
              "      background-color: #E2EBFA;\n",
              "      box-shadow: 0px 1px 2px rgba(60, 64, 67, 0.3), 0px 1px 3px 1px rgba(60, 64, 67, 0.15);\n",
              "      fill: #174EA6;\n",
              "    }\n",
              "\n",
              "    [theme=dark] .colab-df-convert {\n",
              "      background-color: #3B4455;\n",
              "      fill: #D2E3FC;\n",
              "    }\n",
              "\n",
              "    [theme=dark] .colab-df-convert:hover {\n",
              "      background-color: #434B5C;\n",
              "      box-shadow: 0px 1px 3px 1px rgba(0, 0, 0, 0.15);\n",
              "      filter: drop-shadow(0px 1px 2px rgba(0, 0, 0, 0.3));\n",
              "      fill: #FFFFFF;\n",
              "    }\n",
              "  </style>\n",
              "\n",
              "      <script>\n",
              "        const buttonEl =\n",
              "          document.querySelector('#df-10a45681-8a57-439b-8f1c-1e9a0252fc49 button.colab-df-convert');\n",
              "        buttonEl.style.display =\n",
              "          google.colab.kernel.accessAllowed ? 'block' : 'none';\n",
              "\n",
              "        async function convertToInteractive(key) {\n",
              "          const element = document.querySelector('#df-10a45681-8a57-439b-8f1c-1e9a0252fc49');\n",
              "          const dataTable =\n",
              "            await google.colab.kernel.invokeFunction('convertToInteractive',\n",
              "                                                     [key], {});\n",
              "          if (!dataTable) return;\n",
              "\n",
              "          const docLinkHtml = 'Like what you see? Visit the ' +\n",
              "            '<a target=\"_blank\" href=https://colab.research.google.com/notebooks/data_table.ipynb>data table notebook</a>'\n",
              "            + ' to learn more about interactive tables.';\n",
              "          element.innerHTML = '';\n",
              "          dataTable['output_type'] = 'display_data';\n",
              "          await google.colab.output.renderOutput(dataTable, element);\n",
              "          const docLink = document.createElement('div');\n",
              "          docLink.innerHTML = docLinkHtml;\n",
              "          element.appendChild(docLink);\n",
              "        }\n",
              "      </script>\n",
              "    </div>\n",
              "  </div>\n",
              "  "
            ]
          },
          "metadata": {},
          "execution_count": 70
        }
      ]
    },
    {
      "cell_type": "code",
      "source": [
        "df_rd80_dataset.columns"
      ],
      "metadata": {
        "colab": {
          "base_uri": "https://localhost:8080/"
        },
        "id": "4htR4yBZ4znX",
        "outputId": "9ff8cd2c-f974-4294-bc6b-5279579315c8"
      },
      "execution_count": 42,
      "outputs": [
        {
          "output_type": "execute_result",
          "data": {
            "text/plain": [
              "Index(['Rain Intensity (mm/h)', 'radar reflectivity (1/mm6m3)',\n",
              "       'Liquid watercontent (g/m3)', 'Mean weight diameter(mm)',\n",
              "       'Time integration (s)', 'Light_Rain', 'Moderate_Rain', 'Heavy_Rain',\n",
              "       'Very_Heavy_Rain', 'Without_Rain', 'Class_Rain_id', 'Class_Rain'],\n",
              "      dtype='object')"
            ]
          },
          "metadata": {},
          "execution_count": 42
        }
      ]
    },
    {
      "cell_type": "code",
      "source": [
        "def particionaDados(X, Y, treinamento=.75, teste=.25, random_state=42):\n",
        "    percentual_teste_validacao = 1 - treinamento\n",
        "    X_treino, X_temp, Y_treino, Y_temp = train_test_split(X, Y, test_size=percentual_teste_validacao, \n",
        "        random_state=random_state)\n",
        "    \n",
        "    if(treinamento + teste < 1):\n",
        "        validacao = 1 - (treinamento + teste)\n",
        "        percentual_validacao = validacao / percentual_teste_validacao\n",
        "        \n",
        "        X_teste, X_validacao, Y_teste, Y_validacao = train_test_split(X_temp, Y_temp, test_size=percentual_validacao,\n",
        "        random_state=random_state)\n",
        "    else:\n",
        "        X_teste = X_temp\n",
        "        Y_teste = Y_temp\n",
        "        X_validacao = []\n",
        "        Y_validacao = [] \n",
        "   \n",
        "    return (X_treino, X_teste, X_validacao, Y_treino, Y_teste, Y_validacao)"
      ],
      "metadata": {
        "id": "1s7qaHERDXcB"
      },
      "execution_count": 71,
      "outputs": []
    },
    {
      "cell_type": "code",
      "source": [
        "def treinaKNN(k, p, X_treino, Y_treino, X_teste, Y_teste):\n",
        "    classificador = KNeighborsClassifier(n_neighbors=k, p=p)\n",
        "    classificador.fit(X_treino, Y_treino.ravel())\n",
        "\n",
        "    y_pred = classificador.predict(X_teste)\n",
        "\n",
        "    return (confusion_matrix(Y_teste, y_pred), accuracy_score(Y_teste, y_pred), classificador)"
      ],
      "metadata": {
        "id": "0IJMwJHmDkvx"
      },
      "execution_count": 72,
      "outputs": []
    },
    {
      "cell_type": "code",
      "source": [
        "df_std.head(n=10)"
      ],
      "metadata": {
        "colab": {
          "base_uri": "https://localhost:8080/",
          "height": 363
        },
        "id": "P9NpgaYzDoZp",
        "outputId": "154b4577-b099-4755-8d11-ef0a5fce9590"
      },
      "execution_count": 73,
      "outputs": [
        {
          "output_type": "execute_result",
          "data": {
            "text/plain": [
              "   Rain Intensity (mm/h)  radar reflectivity (1/mm6m3)  cluster  anomalia\n",
              "0              -0.096068                     -0.068334        0         0\n",
              "1              -0.096068                     -0.068334        0         0\n",
              "2              -0.096068                     -0.068334        0         0\n",
              "3              -0.096068                     -0.068334        0         0\n",
              "4              -0.096068                     -0.068334        0         0\n",
              "5              -0.096068                     -0.068334        0         0\n",
              "6              -0.096068                     -0.068334        0         0\n",
              "7              -0.096068                     -0.068334        0         0\n",
              "8              -0.096068                     -0.068334        0         0\n",
              "9              -0.096068                     -0.068334        0         0"
            ],
            "text/html": [
              "\n",
              "  <div id=\"df-f379259e-7951-40c8-b8eb-804f5ef0ea5a\">\n",
              "    <div class=\"colab-df-container\">\n",
              "      <div>\n",
              "<style scoped>\n",
              "    .dataframe tbody tr th:only-of-type {\n",
              "        vertical-align: middle;\n",
              "    }\n",
              "\n",
              "    .dataframe tbody tr th {\n",
              "        vertical-align: top;\n",
              "    }\n",
              "\n",
              "    .dataframe thead th {\n",
              "        text-align: right;\n",
              "    }\n",
              "</style>\n",
              "<table border=\"1\" class=\"dataframe\">\n",
              "  <thead>\n",
              "    <tr style=\"text-align: right;\">\n",
              "      <th></th>\n",
              "      <th>Rain Intensity (mm/h)</th>\n",
              "      <th>radar reflectivity (1/mm6m3)</th>\n",
              "      <th>cluster</th>\n",
              "      <th>anomalia</th>\n",
              "    </tr>\n",
              "  </thead>\n",
              "  <tbody>\n",
              "    <tr>\n",
              "      <th>0</th>\n",
              "      <td>-0.096068</td>\n",
              "      <td>-0.068334</td>\n",
              "      <td>0</td>\n",
              "      <td>0</td>\n",
              "    </tr>\n",
              "    <tr>\n",
              "      <th>1</th>\n",
              "      <td>-0.096068</td>\n",
              "      <td>-0.068334</td>\n",
              "      <td>0</td>\n",
              "      <td>0</td>\n",
              "    </tr>\n",
              "    <tr>\n",
              "      <th>2</th>\n",
              "      <td>-0.096068</td>\n",
              "      <td>-0.068334</td>\n",
              "      <td>0</td>\n",
              "      <td>0</td>\n",
              "    </tr>\n",
              "    <tr>\n",
              "      <th>3</th>\n",
              "      <td>-0.096068</td>\n",
              "      <td>-0.068334</td>\n",
              "      <td>0</td>\n",
              "      <td>0</td>\n",
              "    </tr>\n",
              "    <tr>\n",
              "      <th>4</th>\n",
              "      <td>-0.096068</td>\n",
              "      <td>-0.068334</td>\n",
              "      <td>0</td>\n",
              "      <td>0</td>\n",
              "    </tr>\n",
              "    <tr>\n",
              "      <th>5</th>\n",
              "      <td>-0.096068</td>\n",
              "      <td>-0.068334</td>\n",
              "      <td>0</td>\n",
              "      <td>0</td>\n",
              "    </tr>\n",
              "    <tr>\n",
              "      <th>6</th>\n",
              "      <td>-0.096068</td>\n",
              "      <td>-0.068334</td>\n",
              "      <td>0</td>\n",
              "      <td>0</td>\n",
              "    </tr>\n",
              "    <tr>\n",
              "      <th>7</th>\n",
              "      <td>-0.096068</td>\n",
              "      <td>-0.068334</td>\n",
              "      <td>0</td>\n",
              "      <td>0</td>\n",
              "    </tr>\n",
              "    <tr>\n",
              "      <th>8</th>\n",
              "      <td>-0.096068</td>\n",
              "      <td>-0.068334</td>\n",
              "      <td>0</td>\n",
              "      <td>0</td>\n",
              "    </tr>\n",
              "    <tr>\n",
              "      <th>9</th>\n",
              "      <td>-0.096068</td>\n",
              "      <td>-0.068334</td>\n",
              "      <td>0</td>\n",
              "      <td>0</td>\n",
              "    </tr>\n",
              "  </tbody>\n",
              "</table>\n",
              "</div>\n",
              "      <button class=\"colab-df-convert\" onclick=\"convertToInteractive('df-f379259e-7951-40c8-b8eb-804f5ef0ea5a')\"\n",
              "              title=\"Convert this dataframe to an interactive table.\"\n",
              "              style=\"display:none;\">\n",
              "        \n",
              "  <svg xmlns=\"http://www.w3.org/2000/svg\" height=\"24px\"viewBox=\"0 0 24 24\"\n",
              "       width=\"24px\">\n",
              "    <path d=\"M0 0h24v24H0V0z\" fill=\"none\"/>\n",
              "    <path d=\"M18.56 5.44l.94 2.06.94-2.06 2.06-.94-2.06-.94-.94-2.06-.94 2.06-2.06.94zm-11 1L8.5 8.5l.94-2.06 2.06-.94-2.06-.94L8.5 2.5l-.94 2.06-2.06.94zm10 10l.94 2.06.94-2.06 2.06-.94-2.06-.94-.94-2.06-.94 2.06-2.06.94z\"/><path d=\"M17.41 7.96l-1.37-1.37c-.4-.4-.92-.59-1.43-.59-.52 0-1.04.2-1.43.59L10.3 9.45l-7.72 7.72c-.78.78-.78 2.05 0 2.83L4 21.41c.39.39.9.59 1.41.59.51 0 1.02-.2 1.41-.59l7.78-7.78 2.81-2.81c.8-.78.8-2.07 0-2.86zM5.41 20L4 18.59l7.72-7.72 1.47 1.35L5.41 20z\"/>\n",
              "  </svg>\n",
              "      </button>\n",
              "      \n",
              "  <style>\n",
              "    .colab-df-container {\n",
              "      display:flex;\n",
              "      flex-wrap:wrap;\n",
              "      gap: 12px;\n",
              "    }\n",
              "\n",
              "    .colab-df-convert {\n",
              "      background-color: #E8F0FE;\n",
              "      border: none;\n",
              "      border-radius: 50%;\n",
              "      cursor: pointer;\n",
              "      display: none;\n",
              "      fill: #1967D2;\n",
              "      height: 32px;\n",
              "      padding: 0 0 0 0;\n",
              "      width: 32px;\n",
              "    }\n",
              "\n",
              "    .colab-df-convert:hover {\n",
              "      background-color: #E2EBFA;\n",
              "      box-shadow: 0px 1px 2px rgba(60, 64, 67, 0.3), 0px 1px 3px 1px rgba(60, 64, 67, 0.15);\n",
              "      fill: #174EA6;\n",
              "    }\n",
              "\n",
              "    [theme=dark] .colab-df-convert {\n",
              "      background-color: #3B4455;\n",
              "      fill: #D2E3FC;\n",
              "    }\n",
              "\n",
              "    [theme=dark] .colab-df-convert:hover {\n",
              "      background-color: #434B5C;\n",
              "      box-shadow: 0px 1px 3px 1px rgba(0, 0, 0, 0.15);\n",
              "      filter: drop-shadow(0px 1px 2px rgba(0, 0, 0, 0.3));\n",
              "      fill: #FFFFFF;\n",
              "    }\n",
              "  </style>\n",
              "\n",
              "      <script>\n",
              "        const buttonEl =\n",
              "          document.querySelector('#df-f379259e-7951-40c8-b8eb-804f5ef0ea5a button.colab-df-convert');\n",
              "        buttonEl.style.display =\n",
              "          google.colab.kernel.accessAllowed ? 'block' : 'none';\n",
              "\n",
              "        async function convertToInteractive(key) {\n",
              "          const element = document.querySelector('#df-f379259e-7951-40c8-b8eb-804f5ef0ea5a');\n",
              "          const dataTable =\n",
              "            await google.colab.kernel.invokeFunction('convertToInteractive',\n",
              "                                                     [key], {});\n",
              "          if (!dataTable) return;\n",
              "\n",
              "          const docLinkHtml = 'Like what you see? Visit the ' +\n",
              "            '<a target=\"_blank\" href=https://colab.research.google.com/notebooks/data_table.ipynb>data table notebook</a>'\n",
              "            + ' to learn more about interactive tables.';\n",
              "          element.innerHTML = '';\n",
              "          dataTable['output_type'] = 'display_data';\n",
              "          await google.colab.output.renderOutput(dataTable, element);\n",
              "          const docLink = document.createElement('div');\n",
              "          docLink.innerHTML = docLinkHtml;\n",
              "          element.appendChild(docLink);\n",
              "        }\n",
              "      </script>\n",
              "    </div>\n",
              "  </div>\n",
              "  "
            ]
          },
          "metadata": {},
          "execution_count": 73
        }
      ]
    },
    {
      "cell_type": "code",
      "source": [
        "X = df_std.iloc[:,0:2].values\n",
        "Y = df_std.iloc[:,3:].values\n",
        "\n",
        "X_treino, X_teste, X_validacao, Y_treino, Y_teste, Y_validacao = particionaDados(X,Y,.75,.25)\n",
        "\n",
        "len(df_std), len(X_treino), len(X_teste), len(X_validacao) , len(Y_treino), len(Y_teste), len(Y_validacao)"
      ],
      "metadata": {
        "colab": {
          "base_uri": "https://localhost:8080/"
        },
        "id": "IElTLZEmEE9G",
        "outputId": "3e84b271-53ba-4efa-e8a5-b34f7f29afc7"
      },
      "execution_count": 19,
      "outputs": [
        {
          "output_type": "execute_result",
          "data": {
            "text/plain": [
              "(315420, 236565, 78855, 0, 236565, 78855, 0)"
            ]
          },
          "metadata": {},
          "execution_count": 19
        }
      ]
    },
    {
      "cell_type": "code",
      "source": [
        "matrizes = {}\n",
        "acuracias = {}\n",
        "for k in [1,3,5,7]:\n",
        "    treinamento = treinaKNN(k,2, X_treino, Y_treino, X_teste, Y_teste)\n",
        "    matrizes[k] = treinamento[0]\n",
        "    acuracias[k] = treinamento[1]"
      ],
      "metadata": {
        "id": "erigeRaKEIlk"
      },
      "execution_count": 20,
      "outputs": []
    },
    {
      "cell_type": "code",
      "source": [
        "for k, matriz in matrizes.items():\n",
        "      \n",
        "      fig, ax = plot_confusion_matrix(conf_mat=matriz, show_absolute=True, show_normed=True, figsize=(10,5))\n",
        "      ax.set_title('Número de Vizinhos: ' + str(k), fontsize = 10)\n",
        "      plt.show()"
      ],
      "metadata": {
        "colab": {
          "base_uri": "https://localhost:8080/",
          "height": 1000
        },
        "id": "k5GCVsmiEYR5",
        "outputId": "5bfc1a61-9b9c-498d-cdfb-2670fc4d363c"
      },
      "execution_count": 24,
      "outputs": [
        {
          "output_type": "display_data",
          "data": {
            "text/plain": [
              "<Figure size 720x360 with 1 Axes>"
            ],
            "image/png": "[encoded data removed]"
          },
          "metadata": {}
        },
        {
          "output_type": "display_data",
          "data": {
            "text/plain": [
              "<Figure size 720x360 with 1 Axes>"
            ],
            "image/png": "[encoded data removed]"
          },
          "metadata": {}
        },
        {
          "output_type": "display_data",
          "data": {
            "text/plain": [
              "<Figure size 720x360 with 1 Axes>"
            ],
            "image/png": "[encoded data removed]"
          },
          "metadata": {}
        },
        {
          "output_type": "display_data",
          "data": {
            "text/plain": [
              "<Figure size 720x360 with 1 Axes>"
            ],
            "image/png": "[encoded data removed]"
          },
          "metadata": {}
        }
      ]
    },
    {
      "cell_type": "code",
      "source": [
        "acuracias"
      ],
      "metadata": {
        "colab": {
          "base_uri": "https://localhost:8080/"
        },
        "id": "DOMeE9ZaFrZP",
        "outputId": "39f06d85-de37-4335-a75b-44a51304420f"
      },
      "execution_count": 25,
      "outputs": [
        {
          "output_type": "execute_result",
          "data": {
            "text/plain": [
              "{1: 1.0, 3: 1.0, 5: 1.0, 7: 1.0}"
            ]
          },
          "metadata": {},
          "execution_count": 25
        }
      ]
    },
    {
      "cell_type": "markdown",
      "source": [
        "# **Teste 2**\n",
        "\n",
        "Nesta parte do trabalho,  iremos usar o basico do MiniSom.\n",
        "\n"
      ],
      "metadata": {
        "id": "C9nDW6AEB5cd"
      }
    },
    {
      "cell_type": "markdown",
      "source": [
        "Vamos começar importando o MiniSom:"
      ],
      "metadata": {
        "id": "L2MEc_T8P4ho"
      }
    },
    {
      "cell_type": "code",
      "source": [
        "from minisom import MiniSom"
      ],
      "metadata": {
        "id": "te6Bo2UDCDGn"
      },
      "execution_count": 74,
      "outputs": []
    },
    {
      "cell_type": "markdown",
      "source": [
        "# **Dataset**\n",
        " \n",
        "Os Dados são de um equipamento chamado **Disdrômetro RD80** (também chamado de **Joss**). Instalado próximo à torre **ATTO**, em um sítio chamado Campina, na região amazônica, o Disdrômetro RD80 mede a distribuição das gotas de chuva que chegam à superfície."
      ],
      "metadata": {
        "id": "8TyFbp5ZPyOa"
      }
    },
    {
      "cell_type": "markdown",
      "source": [
        "## **Importação, Formatação, Tratamento e Visualização dos dados**"
      ],
      "metadata": {
        "id": "7RnsNUyEPyOb"
      }
    },
    {
      "cell_type": "code",
      "source": [
        "#Importando dos dados\n",
        "df_rd80_dataset = pd.read_csv(\"/content/drive/MyDrive/MestradoCAP/Lourenco/cap351/Datasets/Proj2/df_class_rd80.csv\")\n",
        "df_rd80_dataset = pd.DataFrame(df_rd80_dataset)\n",
        "\n",
        "#Aqui verificamos o tamanho e quantidade de atributos do Dataset\n",
        "print('Tamanho do dataset: ',df_rd80_dataset.shape[0], ', quantidade de atributos: ', df_rd80_dataset.shape[1])"
      ],
      "metadata": {
        "colab": {
          "base_uri": "https://localhost:8080/"
        },
        "outputId": "f6063538-d030-44a5-ee32-8767d97bbceb",
        "id": "ruNByBE2PyOb"
      },
      "execution_count": 94,
      "outputs": [
        {
          "output_type": "stream",
          "name": "stdout",
          "text": [
            "Tamanho do dataset:  315420 , quantidade de atributos:  13\n"
          ]
        }
      ]
    },
    {
      "cell_type": "markdown",
      "source": [
        "Como podemos ver, o tamanho do nosso Dataset é de 315.420 e isso pode ocasionar um custo computacional muito alto durante os experimentos e testes do Projeto. Sendo assim, será utilizado apenas 1/3 dos dados."
      ],
      "metadata": {
        "id": "-NzVL_nSPyOc"
      }
    },
    {
      "cell_type": "code",
      "source": [
        "#Definindo uma parte do Dataset para usá-lo nesta parte do trabalho\n",
        "limit_date = datetime.datetime(year=2022, month=5,day=1)\n",
        "\n",
        "df_rd80_dataset = df_rd80_dataset.set_index('Datetime')\n",
        "\n",
        "df_rd80_dataset = df_rd80_dataset.loc[df_rd80_dataset.index >= str(limit_date)]\n",
        "\n",
        "print('Tamanho do Dataset que será utilizado: ', df_rd80_dataset.shape[0])"
      ],
      "metadata": {
        "colab": {
          "base_uri": "https://localhost:8080/"
        },
        "outputId": "d5c875fd-33de-4d7d-edce-f35f41b7e32c",
        "id": "mHDtCy38PyOc"
      },
      "execution_count": 95,
      "outputs": [
        {
          "output_type": "stream",
          "name": "stdout",
          "text": [
            "Tamanho do Dataset que será utilizado:  77681\n"
          ]
        }
      ]
    },
    {
      "cell_type": "code",
      "source": [
        "df_rd80_dataset[['Rain Intensity (mm/h)', 'radar reflectivity (1/mm6m3)',\n",
        "       'Liquid watercontent (g/m3)', 'Mean weight diameter(mm)',\n",
        "       'Time integration (s)', 'Class_Rain_id', 'Class_Rain']].head(n=10)"
      ],
      "metadata": {
        "colab": {
          "base_uri": "https://localhost:8080/",
          "height": 629
        },
        "outputId": "5f7131e5-e897-4bb3-98c9-65a2210c6952",
        "id": "A5NdIAwSPyOc"
      },
      "execution_count": 96,
      "outputs": [
        {
          "output_type": "execute_result",
          "data": {
            "text/plain": [
              "                     Rain Intensity (mm/h)  radar reflectivity (1/mm6m3)  \\\n",
              "Datetime                                                                   \n",
              "2022-05-01 00:00:00                    0.0                           0.0   \n",
              "2022-05-01 00:01:00                    0.0                           0.0   \n",
              "2022-05-01 00:02:00                    0.0                           0.0   \n",
              "2022-05-01 00:03:00                    0.0                           0.0   \n",
              "2022-05-01 00:04:00                    0.0                           0.0   \n",
              "2022-05-01 00:05:00                    0.0                           0.0   \n",
              "2022-05-01 00:06:00                    0.0                           0.0   \n",
              "2022-05-01 00:07:00                    0.0                           0.0   \n",
              "2022-05-01 00:08:00                    0.0                           0.0   \n",
              "2022-05-01 00:09:00                    0.0                           0.0   \n",
              "\n",
              "                     Liquid watercontent (g/m3)  Mean weight diameter(mm)  \\\n",
              "Datetime                                                                    \n",
              "2022-05-01 00:00:00                         0.0                       0.0   \n",
              "2022-05-01 00:01:00                         0.0                       0.0   \n",
              "2022-05-01 00:02:00                         0.0                       0.0   \n",
              "2022-05-01 00:03:00                         0.0                       0.0   \n",
              "2022-05-01 00:04:00                         0.0                       0.0   \n",
              "2022-05-01 00:05:00                         0.0                       0.0   \n",
              "2022-05-01 00:06:00                         0.0                       0.0   \n",
              "2022-05-01 00:07:00                         0.0                       0.0   \n",
              "2022-05-01 00:08:00                         0.0                       0.0   \n",
              "2022-05-01 00:09:00                         0.0                       0.0   \n",
              "\n",
              "                     Time integration (s)  Class_Rain_id  Class_Rain  \n",
              "Datetime                                                              \n",
              "2022-05-01 00:00:00                  60.0              0  Não choveu  \n",
              "2022-05-01 00:01:00                  60.0              0  Não choveu  \n",
              "2022-05-01 00:02:00                  60.0              0  Não choveu  \n",
              "2022-05-01 00:03:00                  60.0              0  Não choveu  \n",
              "2022-05-01 00:04:00                  60.0              0  Não choveu  \n",
              "2022-05-01 00:05:00                  60.0              0  Não choveu  \n",
              "2022-05-01 00:06:00                  60.0              0  Não choveu  \n",
              "2022-05-01 00:07:00                  60.0              0  Não choveu  \n",
              "2022-05-01 00:08:00                  60.0              0  Não choveu  \n",
              "2022-05-01 00:09:00                  60.0              0  Não choveu  "
            ],
            "text/html": [
              "\n",
              "  <div id=\"df-2999f651-f589-4ded-b2ca-ecabf63bbd1b\">\n",
              "    <div class=\"colab-df-container\">\n",
              "      <div>\n",
              "<style scoped>\n",
              "    .dataframe tbody tr th:only-of-type {\n",
              "        vertical-align: middle;\n",
              "    }\n",
              "\n",
              "    .dataframe tbody tr th {\n",
              "        vertical-align: top;\n",
              "    }\n",
              "\n",
              "    .dataframe thead th {\n",
              "        text-align: right;\n",
              "    }\n",
              "</style>\n",
              "<table border=\"1\" class=\"dataframe\">\n",
              "  <thead>\n",
              "    <tr style=\"text-align: right;\">\n",
              "      <th></th>\n",
              "      <th>Rain Intensity (mm/h)</th>\n",
              "      <th>radar reflectivity (1/mm6m3)</th>\n",
              "      <th>Liquid watercontent (g/m3)</th>\n",
              "      <th>Mean weight diameter(mm)</th>\n",
              "      <th>Time integration (s)</th>\n",
              "      <th>Class_Rain_id</th>\n",
              "      <th>Class_Rain</th>\n",
              "    </tr>\n",
              "    <tr>\n",
              "      <th>Datetime</th>\n",
              "      <th></th>\n",
              "      <th></th>\n",
              "      <th></th>\n",
              "      <th></th>\n",
              "      <th></th>\n",
              "      <th></th>\n",
              "      <th></th>\n",
              "    </tr>\n",
              "  </thead>\n",
              "  <tbody>\n",
              "    <tr>\n",
              "      <th>2022-05-01 00:00:00</th>\n",
              "      <td>0.0</td>\n",
              "      <td>0.0</td>\n",
              "      <td>0.0</td>\n",
              "      <td>0.0</td>\n",
              "      <td>60.0</td>\n",
              "      <td>0</td>\n",
              "      <td>Não choveu</td>\n",
              "    </tr>\n",
              "    <tr>\n",
              "      <th>2022-05-01 00:01:00</th>\n",
              "      <td>0.0</td>\n",
              "      <td>0.0</td>\n",
              "      <td>0.0</td>\n",
              "      <td>0.0</td>\n",
              "      <td>60.0</td>\n",
              "      <td>0</td>\n",
              "      <td>Não choveu</td>\n",
              "    </tr>\n",
              "    <tr>\n",
              "      <th>2022-05-01 00:02:00</th>\n",
              "      <td>0.0</td>\n",
              "      <td>0.0</td>\n",
              "      <td>0.0</td>\n",
              "      <td>0.0</td>\n",
              "      <td>60.0</td>\n",
              "      <td>0</td>\n",
              "      <td>Não choveu</td>\n",
              "    </tr>\n",
              "    <tr>\n",
              "      <th>2022-05-01 00:03:00</th>\n",
              "      <td>0.0</td>\n",
              "      <td>0.0</td>\n",
              "      <td>0.0</td>\n",
              "      <td>0.0</td>\n",
              "      <td>60.0</td>\n",
              "      <td>0</td>\n",
              "      <td>Não choveu</td>\n",
              "    </tr>\n",
              "    <tr>\n",
              "      <th>2022-05-01 00:04:00</th>\n",
              "      <td>0.0</td>\n",
              "      <td>0.0</td>\n",
              "      <td>0.0</td>\n",
              "      <td>0.0</td>\n",
              "      <td>60.0</td>\n",
              "      <td>0</td>\n",
              "      <td>Não choveu</td>\n",
              "    </tr>\n",
              "    <tr>\n",
              "      <th>2022-05-01 00:05:00</th>\n",
              "      <td>0.0</td>\n",
              "      <td>0.0</td>\n",
              "      <td>0.0</td>\n",
              "      <td>0.0</td>\n",
              "      <td>60.0</td>\n",
              "      <td>0</td>\n",
              "      <td>Não choveu</td>\n",
              "    </tr>\n",
              "    <tr>\n",
              "      <th>2022-05-01 00:06:00</th>\n",
              "      <td>0.0</td>\n",
              "      <td>0.0</td>\n",
              "      <td>0.0</td>\n",
              "      <td>0.0</td>\n",
              "      <td>60.0</td>\n",
              "      <td>0</td>\n",
              "      <td>Não choveu</td>\n",
              "    </tr>\n",
              "    <tr>\n",
              "      <th>2022-05-01 00:07:00</th>\n",
              "      <td>0.0</td>\n",
              "      <td>0.0</td>\n",
              "      <td>0.0</td>\n",
              "      <td>0.0</td>\n",
              "      <td>60.0</td>\n",
              "      <td>0</td>\n",
              "      <td>Não choveu</td>\n",
              "    </tr>\n",
              "    <tr>\n",
              "      <th>2022-05-01 00:08:00</th>\n",
              "      <td>0.0</td>\n",
              "      <td>0.0</td>\n",
              "      <td>0.0</td>\n",
              "      <td>0.0</td>\n",
              "      <td>60.0</td>\n",
              "      <td>0</td>\n",
              "      <td>Não choveu</td>\n",
              "    </tr>\n",
              "    <tr>\n",
              "      <th>2022-05-01 00:09:00</th>\n",
              "      <td>0.0</td>\n",
              "      <td>0.0</td>\n",
              "      <td>0.0</td>\n",
              "      <td>0.0</td>\n",
              "      <td>60.0</td>\n",
              "      <td>0</td>\n",
              "      <td>Não choveu</td>\n",
              "    </tr>\n",
              "  </tbody>\n",
              "</table>\n",
              "</div>\n",
              "      <button class=\"colab-df-convert\" onclick=\"convertToInteractive('df-2999f651-f589-4ded-b2ca-ecabf63bbd1b')\"\n",
              "              title=\"Convert this dataframe to an interactive table.\"\n",
              "              style=\"display:none;\">\n",
              "        \n",
              "  <svg xmlns=\"http://www.w3.org/2000/svg\" height=\"24px\"viewBox=\"0 0 24 24\"\n",
              "       width=\"24px\">\n",
              "    <path d=\"M0 0h24v24H0V0z\" fill=\"none\"/>\n",
              "    <path d=\"M18.56 5.44l.94 2.06.94-2.06 2.06-.94-2.06-.94-.94-2.06-.94 2.06-2.06.94zm-11 1L8.5 8.5l.94-2.06 2.06-.94-2.06-.94L8.5 2.5l-.94 2.06-2.06.94zm10 10l.94 2.06.94-2.06 2.06-.94-2.06-.94-.94-2.06-.94 2.06-2.06.94z\"/><path d=\"M17.41 7.96l-1.37-1.37c-.4-.4-.92-.59-1.43-.59-.52 0-1.04.2-1.43.59L10.3 9.45l-7.72 7.72c-.78.78-.78 2.05 0 2.83L4 21.41c.39.39.9.59 1.41.59.51 0 1.02-.2 1.41-.59l7.78-7.78 2.81-2.81c.8-.78.8-2.07 0-2.86zM5.41 20L4 18.59l7.72-7.72 1.47 1.35L5.41 20z\"/>\n",
              "  </svg>\n",
              "      </button>\n",
              "      \n",
              "  <style>\n",
              "    .colab-df-container {\n",
              "      display:flex;\n",
              "      flex-wrap:wrap;\n",
              "      gap: 12px;\n",
              "    }\n",
              "\n",
              "    .colab-df-convert {\n",
              "      background-color: #E8F0FE;\n",
              "      border: none;\n",
              "      border-radius: 50%;\n",
              "      cursor: pointer;\n",
              "      display: none;\n",
              "      fill: #1967D2;\n",
              "      height: 32px;\n",
              "      padding: 0 0 0 0;\n",
              "      width: 32px;\n",
              "    }\n",
              "\n",
              "    .colab-df-convert:hover {\n",
              "      background-color: #E2EBFA;\n",
              "      box-shadow: 0px 1px 2px rgba(60, 64, 67, 0.3), 0px 1px 3px 1px rgba(60, 64, 67, 0.15);\n",
              "      fill: #174EA6;\n",
              "    }\n",
              "\n",
              "    [theme=dark] .colab-df-convert {\n",
              "      background-color: #3B4455;\n",
              "      fill: #D2E3FC;\n",
              "    }\n",
              "\n",
              "    [theme=dark] .colab-df-convert:hover {\n",
              "      background-color: #434B5C;\n",
              "      box-shadow: 0px 1px 3px 1px rgba(0, 0, 0, 0.15);\n",
              "      filter: drop-shadow(0px 1px 2px rgba(0, 0, 0, 0.3));\n",
              "      fill: #FFFFFF;\n",
              "    }\n",
              "  </style>\n",
              "\n",
              "      <script>\n",
              "        const buttonEl =\n",
              "          document.querySelector('#df-2999f651-f589-4ded-b2ca-ecabf63bbd1b button.colab-df-convert');\n",
              "        buttonEl.style.display =\n",
              "          google.colab.kernel.accessAllowed ? 'block' : 'none';\n",
              "\n",
              "        async function convertToInteractive(key) {\n",
              "          const element = document.querySelector('#df-2999f651-f589-4ded-b2ca-ecabf63bbd1b');\n",
              "          const dataTable =\n",
              "            await google.colab.kernel.invokeFunction('convertToInteractive',\n",
              "                                                     [key], {});\n",
              "          if (!dataTable) return;\n",
              "\n",
              "          const docLinkHtml = 'Like what you see? Visit the ' +\n",
              "            '<a target=\"_blank\" href=https://colab.research.google.com/notebooks/data_table.ipynb>data table notebook</a>'\n",
              "            + ' to learn more about interactive tables.';\n",
              "          element.innerHTML = '';\n",
              "          dataTable['output_type'] = 'display_data';\n",
              "          await google.colab.output.renderOutput(dataTable, element);\n",
              "          const docLink = document.createElement('div');\n",
              "          docLink.innerHTML = docLinkHtml;\n",
              "          element.appendChild(docLink);\n",
              "        }\n",
              "      </script>\n",
              "    </div>\n",
              "  </div>\n",
              "  "
            ]
          },
          "metadata": {},
          "execution_count": 96
        }
      ]
    },
    {
      "cell_type": "markdown",
      "source": [
        "Vamos realizar a normalização dos nossos dados."
      ],
      "metadata": {
        "id": "6Ms5IHUhQWWx"
      }
    },
    {
      "cell_type": "code",
      "source": [
        "import pandas as pd\n",
        "import numpy as np\n",
        "\n",
        "# Normalização dos dados\n",
        "data = (df_std - np.mean(df_std, axis=0)) / np.std(df_std, axis=0)\n",
        "data = data.values"
      ],
      "metadata": {
        "id": "yf2aTks5CN6F"
      },
      "execution_count": 97,
      "outputs": []
    },
    {
      "cell_type": "code",
      "source": [
        "data"
      ],
      "metadata": {
        "colab": {
          "base_uri": "https://localhost:8080/"
        },
        "id": "eXAWx7PqDEwA",
        "outputId": "ed940a70-4ff2-45eb-ec13-dfa866ae2bbe"
      },
      "execution_count": 98,
      "outputs": [
        {
          "output_type": "execute_result",
          "data": {
            "text/plain": [
              "array([[-0.09606801, -0.0683336 , -0.11486704, -0.0189889 ],\n",
              "       [-0.09606801, -0.0683336 , -0.11486704, -0.0189889 ],\n",
              "       [-0.09606801, -0.0683336 , -0.11486704, -0.0189889 ],\n",
              "       ...,\n",
              "       [-0.09606801, -0.06830327, -0.11486704, -0.0189889 ],\n",
              "       [-0.09606801, -0.0683086 , -0.11486704, -0.0189889 ],\n",
              "       [-0.09606801, -0.0683336 , -0.11486704, -0.0189889 ]])"
            ]
          },
          "metadata": {},
          "execution_count": 98
        }
      ]
    },
    {
      "cell_type": "code",
      "source": [
        "target = df_std['Rain Intensity (mm/h)'].values"
      ],
      "metadata": {
        "id": "4UcgeC6iCw_O"
      },
      "execution_count": 99,
      "outputs": []
    },
    {
      "cell_type": "markdown",
      "source": [
        "Abaixo, iremos inicializar o treinamento do MiniSom:"
      ],
      "metadata": {
        "id": "Chg7gcdyRYcX"
      }
    },
    {
      "cell_type": "code",
      "source": [
        "# Inicialização e treinamento\n",
        "n_neuronios = 9\n",
        "m_neuronios = 9\n",
        "som = MiniSom(n_neuronios, m_neuronios, data.shape[1], sigma=1.5, learning_rate=.5, \n",
        "              neighborhood_function='gaussian', random_seed=0)\n",
        "\n",
        "som.pca_weights_init(data)\n",
        "som.train(data, 1000, verbose=True)  # treinamento aleatório"
      ],
      "metadata": {
        "colab": {
          "base_uri": "https://localhost:8080/"
        },
        "id": "OdbKimp4Cczu",
        "outputId": "4713cca8-e657-43c4-d043-2dc8909674e4"
      },
      "execution_count": 101,
      "outputs": [
        {
          "output_type": "stream",
          "name": "stdout",
          "text": [
            " [ 1000 / 1000 ] 100% - 0:00:00 left \n",
            " quantization error: 0.12377206173956598\n"
          ]
        }
      ]
    },
    {
      "cell_type": "markdown",
      "source": [
        "Se quisermos visualizar o resultado do treinamento, também podemos plotar o mapa de distância (U-Matrix) usando uma pseudocor onde os neurônios dos mapas são exibidos como um array de células e a cor representa a distância (pesos) dos neurônios vizinhos. Em cima da pseudo cor podemos adicionar marcadores que representam as amostras mapeadas nas células específicas. Vamos ver como fica:"
      ],
      "metadata": {
        "id": "PJ-_Cxz7O01u"
      }
    },
    {
      "cell_type": "code",
      "source": [
        "import matplotlib.pyplot as plt\n",
        "%matplotlib inline\n",
        "\n",
        "plt.figure(figsize=(9, 9))\n",
        "\n",
        "plt.pcolor(som.distance_map().T, cmap='bone_r')\n",
        "plt.colorbar()\n",
        "\n",
        "markers = ['o', 's', 'D']\n",
        "colors = ['C0', 'C1', 'C2']\n",
        "for cnt, xx in enumerate(data):\n",
        "    w = som.winner(xx)\n",
        "\n",
        "    plt.plot(w[0]+.5, w[1]+.5, markers[grupos_[cnt]-1], markerfacecolor='None',\n",
        "             markeredgecolor=colors[grupos_[cnt]-1], markersize=12, markeredgewidth=2)\n",
        "\n",
        "plt.show()"
      ],
      "metadata": {
        "colab": {
          "base_uri": "https://localhost:8080/",
          "height": 544
        },
        "id": "eeWfrj7oCieg",
        "outputId": "3ffad31d-4006-49c3-bbaa-b8b9042c2c80"
      },
      "execution_count": 78,
      "outputs": [
        {
          "output_type": "display_data",
          "data": {
            "text/plain": [
              "<Figure size 648x648 with 2 Axes>"
            ],
            "image/png": "[encoded data removed]"
          },
          "metadata": {
            "needs_background": "light"
          }
        }
      ]
    },
    {
      "cell_type": "markdown",
      "source": [
        "Neste ponto, para termos uma ideia de quais neurônios do mapa são ativados com uma frequência frequência maior, podemos criar outro gráfico pseudocolor que reflita as frequências de ativação:"
      ],
      "metadata": {
        "id": "iw4gG6qvOba7"
      }
    },
    {
      "cell_type": "code",
      "source": [
        "plt.figure(figsize=(7, 7))\n",
        "frequencies = som.activation_response(data)\n",
        "plt.pcolor(frequencies.T, cmap='Blues') \n",
        "plt.colorbar()\n",
        "plt.show()"
      ],
      "metadata": {
        "colab": {
          "base_uri": "https://localhost:8080/",
          "height": 435
        },
        "id": "jZrE7R9kGzLK",
        "outputId": "3f7036c1-7113-4d6e-cdea-59fe1bad1a08"
      },
      "execution_count": 84,
      "outputs": [
        {
          "output_type": "display_data",
          "data": {
            "text/plain": [
              "<Figure size 504x504 with 2 Axes>"
            ],
            "image/png": "[encoded data removed]"
          },
          "metadata": {
            "needs_background": "light"
          }
        }
      ]
    },
    {
      "cell_type": "markdown",
      "source": [
        "Para entender como o treinamento evoluiu, vamos plotar a quantização e o erro topográfico do SOM em cada etapa. Geralmente isso é importante ao estimar o número de iterações a serem executadas:"
      ],
      "metadata": {
        "id": "he1-Ym1SJTGu"
      }
    },
    {
      "cell_type": "code",
      "source": [
        "som = MiniSom(10, 20, data.shape[1], sigma=3., learning_rate=.7,\n",
        "              neighborhood_function='gaussian', random_seed=10)\n",
        "\n",
        "max_iter = 1000\n",
        "q_error = []\n",
        "t_error = []\n",
        "\n",
        "for i in range(max_iter):\n",
        "    rand_i = np.random.randint(len(data))\n",
        "    som.update(data[rand_i], som.winner(data[rand_i]), i, max_iter)\n",
        "    q_error.append(som.quantization_error(data))\n",
        "    t_error.append(som.topographic_error(data))\n",
        "\n",
        "plt.plot(np.arange(max_iter), q_error, label='quantization error')\n",
        "plt.plot(np.arange(max_iter), t_error, label='topographic error')\n",
        "plt.ylabel('error')\n",
        "plt.xlabel('iteration index')\n",
        "plt.legend()\n",
        "plt.show()"
      ],
      "metadata": {
        "colab": {
          "base_uri": "https://localhost:8080/",
          "height": 285
        },
        "id": "wci9viwiHQO1",
        "outputId": "06cfc211-8f0a-4b68-8221-655098bef00b"
      },
      "execution_count": 91,
      "outputs": [
        {
          "output_type": "display_data",
          "data": {
            "text/plain": [
              "<Figure size 432x288 with 1 Axes>"
            ],
            "image/png": "[encoded data removed]"
          },
          "metadata": {
            "needs_background": "light"
          }
        }
      ]
    },
    {
      "cell_type": "markdown",
      "source": [
        "Observe que no trecho acima é necessário executar cada iteração de aprendizado em um loop for e salvar os erros em listas separadas."
      ],
      "metadata": {
        "id": "y9dgqNjKKflf"
      }
    },
    {
      "cell_type": "markdown",
      "source": [
        "# **Referências**\n",
        "\n",
        "BASHEER, I. A.; HAJMEER, M. Artificial neural networks: fundamentals, computing, design, and application. Journal of Microbiological Methods, v. 43, p. 3–31, 2000\n",
        "\n",
        "HAYKIN, Simon. Redes Neurais : princípios e prática. Traduzido por Paulo Martins Engel. 2. ed. Porto Alegre : Bookman, 2001. 900 p. il.\n",
        "\n",
        "HSU, K. L.; GAO, X.; SOROOSHIAN, S.; GUPTA, H. V. Precipitation estimation from remotely sensed information using artificial neural networks. Journal of Applied Meteorology, v. 36, n. 9, p. 1176-1190, 1997.\n",
        "\n",
        "https://towardsdatascience.com/deep-learning-which-loss-and-activation-functions-should-i-use-ac02f1c56aa8\n",
        "\n",
        "https://sites.icmc.usp.br/andre/research/neural/MLP.htm\n",
        "\n",
        "https://www.kaggle.com/code/phelpsmemo/cap-351-neurocomputacao-projeto2-som\n",
        "\n",
        "KOVAKS, Z. L. Redes Neurais Artificiais: fundamentos e Aplicações. São Paulo: Acadêmica, 1996.\n",
        "\n",
        "TAFNER, Malcon A.; XEREZ, Marcos de; RODRIGUES FILHO, Ilson W. Redes neurais artificiais : introdução e princípios de neurocomputação. Blumenau : Eko, 1995.\n",
        "\n",
        "Hinton, Geoffrey, Nitish Srivastava, and Kevin Swersky. “Neural Networks for Machine Learning Lecture 6a Overview of Mini--Batch Gradient Descent,” 2012."
      ],
      "metadata": {
        "id": "tI-UgOvPRqE_"
      }
    }
  ]
}